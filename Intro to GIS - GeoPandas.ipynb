{
 "cells": [
  {
   "cell_type": "markdown",
   "id": "2a02b047",
   "metadata": {
    "slideshow": {
     "slide_type": "slide"
    }
   },
   "source": [
    "# Outline\n",
    "\n",
    "1. What is GIS?\n",
    "2. Geographic Coordinate System\n",
    "3. Projections\n",
    "4. Common Spatial Data Models\n",
    "5. Data Layers\n",
    "6. Spatial Data Storage\n",
    "7. Example Workflow\n",
    "8. Sample GIS Software\n",
    "\n"
   ]
  },
  {
   "attachments": {},
   "cell_type": "markdown",
   "id": "a04df4e0",
   "metadata": {},
   "source": [
    "# 1. What is GIS?\n",
    "\n",
    "\n"
   ]
  },
  {
   "cell_type": "markdown",
   "id": "c9aebdb1",
   "metadata": {},
   "source": [
    "## Geographic Information System\n",
    "\n",
    "“A geographic information system (GIS) is a system designed to capture, store, manipulate, analyze, manage, and present spatial or geographic data”\n",
    "\n",
    "https://en.wikipedia.org/wiki/Geographic_information_system"
   ]
  },
  {
   "attachments": {},
   "cell_type": "markdown",
   "id": "11a07070",
   "metadata": {},
   "source": [
    "## Typical functions of GIS software\n",
    "\n",
    "- Read/write spatial data\n",
    "- Maintain spatial meta data\n",
    "- Apply transformations for projections\n",
    "- Apply symbology based on attribute table\n",
    "- Allow layering of data\n",
    "- Tools to query/filter data\n",
    "- Spatial analysis tools\n",
    "- Exporting tools for printing maps or publish web maps\n"
   ]
  },
  {
   "attachments": {},
   "cell_type": "markdown",
   "id": "7f6d4088",
   "metadata": {},
   "source": [
    "# 2. Geographic Coordinate System (GCS)"
   ]
  },
  {
   "attachments": {},
   "cell_type": "markdown",
   "id": "698b14d0",
   "metadata": {},
   "source": [
    "## How do I tell a computer location on earth?\n",
    "![alt text](files/images/my_office_location.png)"
   ]
  },
  {
   "cell_type": "markdown",
   "id": "dea7b0a3",
   "metadata": {},
   "source": [
    "### Cartesian Coordinate System\n",
    "\n",
    "![alt text](files/images/cartesian_coord.png)"
   ]
  },
  {
   "cell_type": "markdown",
   "id": "091ac0b6",
   "metadata": {},
   "source": [
    "### Geographic Coordinate System\n",
    "![alt text](files/images/gcs.png)"
   ]
  },
  {
   "cell_type": "markdown",
   "id": "47c3e4cf",
   "metadata": {},
   "source": [
    "![alt text](files/images/gcs_combined.png)"
   ]
  }
 ],
 "metadata": {
  "celltoolbar": "Slideshow",
  "kernelspec": {
   "display_name": "Python 3",
   "language": "python",
   "name": "python3"
  },
  "language_info": {
   "codemirror_mode": {
    "name": "ipython",
    "version": 3
   },
   "file_extension": ".py",
   "mimetype": "text/x-python",
   "name": "python",
   "nbconvert_exporter": "python",
   "pygments_lexer": "ipython3",
   "version": "3.8.10"
  }
 },
 "nbformat": 4,
 "nbformat_minor": 5
}
