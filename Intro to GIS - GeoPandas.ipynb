{
 "cells": [
  {
   "cell_type": "code",
   "execution_count": 18,
   "metadata": {
    "slideshow": {
     "slide_type": "skip"
    }
   },
   "outputs": [
    {
     "data": {
      "text/html": [
       "<style type=\"text/css\" scoped>\n",
       "\n",
       "h1 {\n",
       "  border: 1.5px solid #333;\n",
       "  padding: 8px 12px;\n",
       "  background-image: linear-gradient(180deg, #fff, rgb(160, 147, 147));\n",
       "  position: static;\n",
       "}\n",
       "table.table1, th.table1, td.table1 {\n",
       "  border: 1px solid black;\n",
       "  border-collapse: collapse;\n",
       "  text-align: left;\n",
       "}\n",
       "\n",
       "th.header1 {\n",
       "  text-align: left;\n",
       "}\n",
       "</style>"
      ],
      "text/plain": [
       "<IPython.core.display.HTML object>"
      ]
     },
     "execution_count": 18,
     "metadata": {},
     "output_type": "execute_result"
    }
   ],
   "source": [
    "# Styling notebook\n",
    "from IPython.core.display import HTML\n",
    "def css_styling():\n",
    "    styles = open(\"./styles/custom.css\", \"r\").read()\n",
    "    return HTML(styles)\n",
    "css_styling()"
   ]
  },
  {
   "cell_type": "markdown",
   "metadata": {},
   "source": [
    "# Introduction to GIS\n",
    "\n",
    "- Dennis Milechin\n",
    "- Research Computing Services"
   ]
  },
  {
   "cell_type": "markdown",
   "metadata": {
    "slideshow": {
     "slide_type": "slide"
    }
   },
   "source": [
    "# Outline\n",
    "\n",
    "1. What is GIS?\n",
    "1. Datum\n",
    "1. Geographic Coordinate System\n",
    "1. Projections\n",
    "1. Common Spatial Data Models\n",
    "1. Data Layers\n",
    "1. Spatial Data Storage\n",
    "1. Example Workflow\n",
    "1. Sample GIS Software\n",
    "\n"
   ]
  },
  {
   "cell_type": "markdown",
   "metadata": {
    "slideshow": {
     "slide_type": "slide"
    }
   },
   "source": [
    "# 1. What is GIS?\n",
    "\n",
    "\n"
   ]
  },
  {
   "cell_type": "markdown",
   "metadata": {
    "slideshow": {
     "slide_type": "slide"
    }
   },
   "source": [
    "## Geographic Information System\n",
    "\n",
    "“A geographic information system (GIS) is a system designed to capture, store, manipulate, analyze, manage, and present spatial or geographic data”\n",
    "\n",
    "https://en.wikipedia.org/wiki/Geographic_information_system"
   ]
  },
  {
   "cell_type": "markdown",
   "metadata": {
    "slideshow": {
     "slide_type": "slide"
    }
   },
   "source": [
    "## Typical functions of GIS software\n",
    "\n",
    "- Read/write spatial data\n",
    "- Maintain spatial meta data\n",
    "- Apply transformations for projections\n",
    "- Apply symbology based on attribute table\n",
    "- Allow layering of data\n",
    "- Tools to query/filter data\n",
    "- Spatial analysis tools\n",
    "- Exporting tools for printing maps or publish web maps\n"
   ]
  },
  {
   "cell_type": "markdown",
   "metadata": {
    "slideshow": {
     "slide_type": "slide"
    }
   },
   "source": [
    "# 2. Datum"
   ]
  },
  {
   "attachments": {},
   "cell_type": "markdown",
   "metadata": {
    "slideshow": {
     "slide_type": "slide"
    }
   },
   "source": [
    "### Model a General Shape of the Earth (Datum)\n",
    "\n",
    "The earth is generally round, but is not a perfect sphere or very smooth (e.g. mountains and canyons).\n",
    "\n",
    "![alt text](files/images/datum.png)\n",
    "\n",
    "Source: https://en.wikipedia.org/wiki/Ellipsoid"
   ]
  },
  {
   "cell_type": "markdown",
   "metadata": {
    "slideshow": {
     "slide_type": "slide"
    }
   },
   "source": [
    "### Datums\n",
    "\n",
    "- Datums are a models that approximates the earth's surface.\n",
    "- Some datums are designed to be accurate for specific areas on the globe \n",
    "\n",
    "__Examples__:\n",
    "- __Australian Geodetic Datum 1984__\n",
    "- __North American Datum 1983 (NAD83)__"
   ]
  },
  {
   "cell_type": "markdown",
   "metadata": {
    "slideshow": {
     "slide_type": "slide"
    }
   },
   "source": [
    "# 3. Geographic Coordinate System (GCS)"
   ]
  },
  {
   "attachments": {},
   "cell_type": "markdown",
   "metadata": {
    "slideshow": {
     "slide_type": "slide"
    }
   },
   "source": [
    "### Cartesian Coordinate System\n",
    "\n",
    "![alt text](files/images/cartesian_coord.png)\n",
    "\n",
    "Source: https://www.e-education.psu.edu/natureofgeoinfo/c2_p10.html"
   ]
  },
  {
   "attachments": {},
   "cell_type": "markdown",
   "metadata": {
    "slideshow": {
     "slide_type": "slide"
    }
   },
   "source": [
    "### Geographic Coordinate System (GCS)\n",
    "![alt text](files/images/gcs.png)\n",
    "\n",
    "Source: http://desktop.arcgis.com/en/arcmap/10.3/guide-books/map-projections/about-geographic-coordinate-systems.htm"
   ]
  },
  {
   "attachments": {},
   "cell_type": "markdown",
   "metadata": {
    "slideshow": {
     "slide_type": "slide"
    }
   },
   "source": [
    "### Geographic Coordinate System (GCS)\n",
    "\n",
    "GCS help define a reference system for finding a location on the datum.\n",
    "\n",
    "<img src=\"files/images/gcs_combined.png\" alt=\"compass\" style=\"width:500px\"/>\n",
    "\n",
    "Source: http://desktop.arcgis.com/en/arcmap/10.3/guide-books/map-projections/geographic-coordinate-system.htm"
   ]
  },
  {
   "cell_type": "markdown",
   "metadata": {
    "slideshow": {
     "slide_type": "slide"
    }
   },
   "source": [
    "### Geographic Coordinate System (GCS)\n",
    "\n",
    "- Coordinates are associated with a specific GCS.  They are not interchangeable!\n",
    "- GIS data you download, or create, should have GCS defined. Otherwise the data is useless for mapping.\n",
    "- GCS is incorporated in GIS files (Shapefiles, geodatabase), but not for CSV files!\n",
    "\n",
    "\n",
    "\n",
    "Below is an outline of Boston City Hall.  The same coordinates were used to plot the outlines in two different GCSs.\n",
    "\n",
    "<img src=\"files/images/GCS_comparison.png\" alt=\"gcs_comparison\"/>\n",
    "\n",
    "The proper GCS for these coordinates is NAD 1927.\n",
    "\n"
   ]
  },
  {
   "cell_type": "markdown",
   "metadata": {
    "slideshow": {
     "slide_type": "slide"
    }
   },
   "source": [
    "# Coordinates for GCS"
   ]
  },
  {
   "attachments": {},
   "cell_type": "markdown",
   "metadata": {
    "slideshow": {
     "slide_type": "slide"
    }
   },
   "source": [
    "## Coordinate Formats for GCS\n",
    "\n",
    "<img src=\"files/images/compass.png\" alt=\"compass\" style=\"width:200px\"/>\n",
    "<table class=\"table1\">\n",
    "    <tr class=\"table1\">\n",
    "        <th class=\"table1 header1\">Format Name</th>\n",
    "        <th class=\"table1 header1\">Short Hand</th>\n",
    "        <th class=\"table1 header1\">Compass Example</th>\n",
    "        <th class=\"table1 header1\">+/- Example</th>\n",
    "    </tr>\n",
    "    <tr class=\"table1\">\n",
    "        <td class=\"table1\" style=\"font-weight: bold;\">Degrees Minutes Seconds (DMS)</td>\n",
    "        <td class=\"table1\" >ddd&#176; mm' ss.s\"</td>\n",
    "        <td class=\"table1\" >45&#176;36'23\"N, 122&#176;46'18.4\"W</td>\n",
    "        <td class=\"table1\" >45&#176;36'23\", -122&#176;45'18.4\"</td>\n",
    "    </tr>\n",
    "    <tr class=\"table1\">\n",
    "        <td class=\"table1\" style=\"font-weight: bold;\">Degrees Decimal Minutes</td>\n",
    "        <td class=\"table1\">ddd&#176; mm.mmm'</td>\n",
    "        <td class=\"table1\">45&#176;36.38'N, 122&#176;46.31'W</td>\n",
    "        <td class=\"table1\">45&#176;36.38', -122&#176;46.31'</td>\n",
    "    </tr>\n",
    "    <tr class=\"table1\">\n",
    "        <td class=\"table1\" style=\"font-weight: bold;\">Decimal Degrees</td>\n",
    "        <td class=\"table1\">ddd.dddddd&#176;</td>\n",
    "        <td class=\"table1\">45.6064&#176;N, 122.7718&#176;W</td>\n",
    "        <td class=\"table1\">45.6064&#176;, -122.7718&#176;</td>\n",
    "    </tr>\n",
    "</table>\n",
    "\n",
    "Formula to convert __Degrees Minutes Seconds__ to __Decimal Degrees__:\n",
    "\n",
    "$Decimal Degrees = ddd + \\frac{mm'}{60} + \\frac{ss.s\"}{3600}$\n",
    "\n",
    "Additional Reading:\n",
    "http://geokov.com/education/latitude-longitude.aspx"
   ]
  },
  {
   "attachments": {},
   "cell_type": "markdown",
   "metadata": {
    "slideshow": {
     "slide_type": "slide"
    }
   },
   "source": [
    "## How many decimal points is good enough?\n",
    "\n",
    "\n",
    "<table class=\"table1\">\n",
    "<caption>Degree precision versus length\n",
    "</caption>\n",
    "<tbody><tr>\n",
    "<th>decimal<br />places</th>\n",
    "<th>decimal<br />degrees</th>\n",
    "<th>DMS</th>\n",
    "<th>Object that can be <i>unambiguously</i> recognized at this scale</th>\n",
    "</tr>\n",
    "<tr>\n",
    "<th>0\n",
    "</th>\n",
    "<td>1.0</td>\n",
    "<td>1° 00′ 0″</td>\n",
    "<td>country or large region</td>\n",
    "</tr>\n",
    "<tr>\n",
    "<th>1\n",
    "</th>\n",
    "<td>0.1</td>\n",
    "<td>0° 06′ 0″</td>\n",
    "<td>large city or district\n",
    "</td></tr>\n",
    "<tr>\n",
    "<th>2\n",
    "</th>\n",
    "<td>0.01</td>\n",
    "<td>0° 00′ 36″</td>\n",
    "<td>town or village</td>\n",
    "</tr>\n",
    "<tr>\n",
    "<th>3\n",
    "</th>\n",
    "<td>0.001</td>\n",
    "<td>0° 00′ 3.6″</td>\n",
    "<td>neighborhood, street</td>\n",
    "</tr>\n",
    "<tr>\n",
    "<th>4\n",
    "</th>\n",
    "<td>0.0001</td>\n",
    "<td>0° 00′ 0.36″</td>\n",
    "<td>individual street, large buildings</td>\n",
    "</tr>\n",
    "<tr>\n",
    "<th>5\n",
    "</th>\n",
    "<td>0.00001</td>\n",
    "<td>0° 00′ 0.036″</td>\n",
    "<td>individual trees, houses</td>\n",
    "</tr>\n",
    "<tr>\n",
    "<th>6\n",
    "</th>\n",
    "<td>0.000001</td>\n",
    "<td>0° 00′ 0.0036″</td>\n",
    "<td>individual humans</td>\n",
    "</tr>\n",
    "<tr>\n",
    "<th>7\n",
    "</th>\n",
    "<td>0.0000001</td>\n",
    "<td>0° 00′ 0.00036″</td>\n",
    "<td>practical limit of commercial surveying</td>\n",
    "</tr>\n",
    "<tr>\n",
    "<th>8\n",
    "</th>\n",
    "<td style=\"white-space:nowrap\">0.00000001\n",
    "</td>\n",
    "<td style=\"white-space:nowrap\">0° 00′ 0.000036″\n",
    "</td>\n",
    "<td>specialized surveying</td>\n",
    "</tr></tbody></table>\n",
    "\n",
    "Source:\n",
    "https://en.wikipedia.org/wiki/Decimal_degrees \n",
    "\n",
    "\n",
    "\n"
   ]
  },
  {
   "cell_type": "markdown",
   "metadata": {
    "slideshow": {
     "slide_type": "slide"
    }
   },
   "source": [
    "<h1> Title </h1>   "
   ]
  }
 ],
 "metadata": {
  "celltoolbar": "Slideshow",
  "kernelspec": {
   "display_name": "Python 3",
   "language": "python",
   "name": "python3"
  },
  "language_info": {
   "codemirror_mode": {
    "name": "ipython",
    "version": 3
   },
   "file_extension": ".py",
   "mimetype": "text/x-python",
   "name": "python",
   "nbconvert_exporter": "python",
   "pygments_lexer": "ipython3",
   "version": "3.7.6"
  }
 },
 "nbformat": 4,
 "nbformat_minor": 5
}
