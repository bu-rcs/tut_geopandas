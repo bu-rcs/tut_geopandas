{
  "cells": [
    {
      "cell_type": "markdown",
      "id": "a6cabe63",
      "metadata": {
        "id": "a6cabe63"
      },
      "source": [
        "# Introduction to GIS - Using GeoPandas\n",
        "\n",
        "- Dennis Milechin, P.E., GISP\n",
        "- <a href=\"http://rcs.bu.edu\">Research Computing Services</a>\n",
        "\n",
        "## Data Files\n",
        "http://rcs.bu.edu/examples/gis/tutorials/python_geopandas/tut_geopandas-main.zip\n",
        "\n"
      ]
    },
    {
      "cell_type": "code",
      "source": [
        "!wget http://rcs.bu.edu/examples/gis/tutorials/python_geopandas/tutorial_files.zip"
      ],
      "metadata": {
        "collapsed": true,
        "id": "EVHGqdWPnOjK",
        "outputId": "dc0db0a7-ea72-4a90-9c8d-7dc52a79eb32",
        "colab": {
          "base_uri": "https://localhost:8080/"
        }
      },
      "id": "EVHGqdWPnOjK",
      "execution_count": 1,
      "outputs": [
        {
          "output_type": "stream",
          "name": "stdout",
          "text": [
            "--2025-01-28 21:12:19--  http://rcs.bu.edu/examples/gis/tutorials/python_geopandas/tutorial_files.zip\n",
            "Resolving rcs.bu.edu (rcs.bu.edu)... 128.197.160.76\n",
            "Connecting to rcs.bu.edu (rcs.bu.edu)|128.197.160.76|:80... connected.\n",
            "HTTP request sent, awaiting response... 200 OK\n",
            "Length: 41006917 (39M) [application/zip]\n",
            "Saving to: ‘tutorial_files.zip’\n",
            "\n",
            "tutorial_files.zip  100%[===================>]  39.11M  6.15MB/s    in 11s     \n",
            "\n",
            "2025-01-28 21:12:30 (3.58 MB/s) - ‘tutorial_files.zip’ saved [41006917/41006917]\n",
            "\n"
          ]
        }
      ]
    },
    {
      "cell_type": "code",
      "source": [
        "!unzip tutorial_files.zip"
      ],
      "metadata": {
        "collapsed": true,
        "id": "DqYmr9M3nV9E",
        "outputId": "7ad27d7e-e771-4012-84d4-3faaad08cbda",
        "colab": {
          "base_uri": "https://localhost:8080/"
        }
      },
      "id": "DqYmr9M3nV9E",
      "execution_count": 2,
      "outputs": [
        {
          "output_type": "stream",
          "name": "stdout",
          "text": [
            "Archive:  tutorial_files.zip\n",
            "   creating: mbta_rapid_transit/\n",
            " extracting: mbta_rapid_transit/MBTA_ARC.cpg  \n",
            "  inflating: mbta_rapid_transit/MBTA_ARC.dbf  \n",
            "  inflating: mbta_rapid_transit/MBTA_ARC.prj  \n",
            "  inflating: mbta_rapid_transit/MBTA_ARC.sbn  \n",
            "  inflating: mbta_rapid_transit/MBTA_ARC.sbx  \n",
            "  inflating: mbta_rapid_transit/MBTA_ARC.shp  \n",
            "  inflating: mbta_rapid_transit/MBTA_ARC.shp.xml  \n",
            "  inflating: mbta_rapid_transit/MBTA_ARC.shx  \n",
            " extracting: mbta_rapid_transit/MBTA_NODE.cpg  \n",
            "  inflating: mbta_rapid_transit/MBTA_NODE.dbf  \n",
            "  inflating: mbta_rapid_transit/MBTA_NODE.prj  \n",
            "  inflating: mbta_rapid_transit/MBTA_NODE.sbn  \n",
            "  inflating: mbta_rapid_transit/MBTA_NODE.sbx  \n",
            "  inflating: mbta_rapid_transit/MBTA_NODE.shp  \n",
            "  inflating: mbta_rapid_transit/MBTA_NODE.shp.xml  \n",
            "  inflating: mbta_rapid_transit/MBTA_NODE.shx  \n",
            "  inflating: mbta_rapid_transit/MBTA_Rapid_Transit.lyr  \n",
            "  inflating: mbta_rapid_transit/MBTA_Rapid_Transit_9.lyr  \n",
            "   creating: tissots_circles/\n",
            " extracting: tissots_circles/Tissots_circles.cpg  \n",
            "  inflating: tissots_circles/Tissots_circles.dbf  \n",
            "  inflating: tissots_circles/Tissots_circles.prj  \n",
            "  inflating: tissots_circles/Tissots_circles.sbn  \n",
            "  inflating: tissots_circles/Tissots_circles.sbx  \n",
            "  inflating: tissots_circles/Tissots_circles.shp  \n",
            "  inflating: tissots_circles/Tissots_circles.shp.xml  \n",
            "  inflating: tissots_circles/Tissots_circles.shx  \n",
            "   creating: tlgdb_2019_a_25_ma.gdb/\n",
            "  inflating: tlgdb_2019_a_25_ma.gdb/a00000001.gdbindexes  \n",
            "  inflating: tlgdb_2019_a_25_ma.gdb/a00000001.gdbtable  \n",
            "  inflating: tlgdb_2019_a_25_ma.gdb/a00000001.gdbtablx  \n",
            "  inflating: tlgdb_2019_a_25_ma.gdb/a00000001.TablesByName.atx  \n",
            "  inflating: tlgdb_2019_a_25_ma.gdb/a00000002.gdbtable  \n",
            "  inflating: tlgdb_2019_a_25_ma.gdb/a00000002.gdbtablx  \n",
            "  inflating: tlgdb_2019_a_25_ma.gdb/a00000003.gdbindexes  \n",
            "  inflating: tlgdb_2019_a_25_ma.gdb/a00000003.gdbtable  \n",
            "  inflating: tlgdb_2019_a_25_ma.gdb/a00000003.gdbtablx  \n",
            "  inflating: tlgdb_2019_a_25_ma.gdb/a00000004.CatItemsByPhysicalName.atx  \n",
            "  inflating: tlgdb_2019_a_25_ma.gdb/a00000004.CatItemsByType.atx  \n",
            "  inflating: tlgdb_2019_a_25_ma.gdb/a00000004.FDO_UUID.atx  \n",
            "  inflating: tlgdb_2019_a_25_ma.gdb/a00000004.gdbindexes  \n",
            "  inflating: tlgdb_2019_a_25_ma.gdb/a00000004.gdbtable  \n",
            "  inflating: tlgdb_2019_a_25_ma.gdb/a00000004.gdbtablx  \n",
            "  inflating: tlgdb_2019_a_25_ma.gdb/a00000004.horizon  \n",
            "  inflating: tlgdb_2019_a_25_ma.gdb/a00000004.spx  \n",
            "  inflating: tlgdb_2019_a_25_ma.gdb/a00000005.CatItemTypesByName.atx  \n",
            "  inflating: tlgdb_2019_a_25_ma.gdb/a00000005.CatItemTypesByParentTypeID.atx  \n",
            "  inflating: tlgdb_2019_a_25_ma.gdb/a00000005.CatItemTypesByUUID.atx  \n",
            "  inflating: tlgdb_2019_a_25_ma.gdb/a00000005.gdbindexes  \n",
            "  inflating: tlgdb_2019_a_25_ma.gdb/a00000005.gdbtable  \n",
            "  inflating: tlgdb_2019_a_25_ma.gdb/a00000005.gdbtablx  \n",
            "  inflating: tlgdb_2019_a_25_ma.gdb/a00000006.CatRelsByDestinationID.atx  \n",
            "  inflating: tlgdb_2019_a_25_ma.gdb/a00000006.CatRelsByOriginID.atx  \n",
            "  inflating: tlgdb_2019_a_25_ma.gdb/a00000006.CatRelsByType.atx  \n",
            "  inflating: tlgdb_2019_a_25_ma.gdb/a00000006.FDO_UUID.atx  \n",
            "  inflating: tlgdb_2019_a_25_ma.gdb/a00000006.gdbindexes  \n",
            "  inflating: tlgdb_2019_a_25_ma.gdb/a00000006.gdbtable  \n",
            "  inflating: tlgdb_2019_a_25_ma.gdb/a00000006.gdbtablx  \n",
            "  inflating: tlgdb_2019_a_25_ma.gdb/a00000007.CatRelTypesByBackwardLabel.atx  \n",
            "  inflating: tlgdb_2019_a_25_ma.gdb/a00000007.CatRelTypesByDestItemTypeID.atx  \n",
            "  inflating: tlgdb_2019_a_25_ma.gdb/a00000007.CatRelTypesByForwardLabel.atx  \n",
            "  inflating: tlgdb_2019_a_25_ma.gdb/a00000007.CatRelTypesByName.atx  \n",
            "  inflating: tlgdb_2019_a_25_ma.gdb/a00000007.CatRelTypesByOriginItemTypeID.atx  \n",
            "  inflating: tlgdb_2019_a_25_ma.gdb/a00000007.CatRelTypesByUUID.atx  \n",
            "  inflating: tlgdb_2019_a_25_ma.gdb/a00000007.gdbindexes  \n",
            "  inflating: tlgdb_2019_a_25_ma.gdb/a00000007.gdbtable  \n",
            "  inflating: tlgdb_2019_a_25_ma.gdb/a00000007.gdbtablx  \n",
            "  inflating: tlgdb_2019_a_25_ma.gdb/a00000009.gdbindexes  \n",
            "  inflating: tlgdb_2019_a_25_ma.gdb/a00000009.gdbtable  \n",
            "  inflating: tlgdb_2019_a_25_ma.gdb/a00000009.gdbtablx  \n",
            "  inflating: tlgdb_2019_a_25_ma.gdb/a00000009.horizon  \n",
            "  inflating: tlgdb_2019_a_25_ma.gdb/a00000009.spx  \n",
            "  inflating: tlgdb_2019_a_25_ma.gdb/a0000000a.gdbindexes  \n",
            "  inflating: tlgdb_2019_a_25_ma.gdb/a0000000a.gdbtable  \n",
            "  inflating: tlgdb_2019_a_25_ma.gdb/a0000000a.gdbtablx  \n",
            "  inflating: tlgdb_2019_a_25_ma.gdb/a0000000a.horizon  \n",
            "  inflating: tlgdb_2019_a_25_ma.gdb/a0000000a.spx  \n",
            "  inflating: tlgdb_2019_a_25_ma.gdb/a0000000b.gdbindexes  \n",
            "  inflating: tlgdb_2019_a_25_ma.gdb/a0000000b.gdbtable  \n",
            "  inflating: tlgdb_2019_a_25_ma.gdb/a0000000b.gdbtablx  \n",
            "  inflating: tlgdb_2019_a_25_ma.gdb/a0000000b.horizon  \n",
            "  inflating: tlgdb_2019_a_25_ma.gdb/a0000000b.spx  \n",
            "  inflating: tlgdb_2019_a_25_ma.gdb/a0000000c.gdbindexes  \n",
            "  inflating: tlgdb_2019_a_25_ma.gdb/a0000000c.gdbtable  \n",
            "  inflating: tlgdb_2019_a_25_ma.gdb/a0000000c.gdbtablx  \n",
            "  inflating: tlgdb_2019_a_25_ma.gdb/a0000000c.horizon  \n",
            "  inflating: tlgdb_2019_a_25_ma.gdb/a0000000c.spx  \n",
            "  inflating: tlgdb_2019_a_25_ma.gdb/a0000000d.gdbindexes  \n",
            "  inflating: tlgdb_2019_a_25_ma.gdb/a0000000d.gdbtable  \n",
            "  inflating: tlgdb_2019_a_25_ma.gdb/a0000000d.gdbtablx  \n",
            "  inflating: tlgdb_2019_a_25_ma.gdb/a0000000d.horizon  \n",
            "  inflating: tlgdb_2019_a_25_ma.gdb/a0000000d.spx  \n",
            "  inflating: tlgdb_2019_a_25_ma.gdb/a0000000e.gdbindexes  \n",
            "  inflating: tlgdb_2019_a_25_ma.gdb/a0000000e.gdbtable  \n",
            "  inflating: tlgdb_2019_a_25_ma.gdb/a0000000e.gdbtablx  \n",
            "  inflating: tlgdb_2019_a_25_ma.gdb/a0000000e.horizon  \n",
            "  inflating: tlgdb_2019_a_25_ma.gdb/a0000000e.spx  \n",
            "  inflating: tlgdb_2019_a_25_ma.gdb/a0000000f.gdbindexes  \n",
            "  inflating: tlgdb_2019_a_25_ma.gdb/a0000000f.gdbtable  \n",
            "  inflating: tlgdb_2019_a_25_ma.gdb/a0000000f.gdbtablx  \n",
            "  inflating: tlgdb_2019_a_25_ma.gdb/a0000000f.horizon  \n",
            "  inflating: tlgdb_2019_a_25_ma.gdb/a0000000f.spx  \n",
            " extracting: tlgdb_2019_a_25_ma.gdb/gdb  \n",
            "  inflating: tlgdb_2019_a_25_ma.gdb/timestamps  \n"
          ]
        }
      ]
    },
    {
      "cell_type": "markdown",
      "id": "2eb9b1cd",
      "metadata": {
        "id": "2eb9b1cd"
      },
      "source": [
        "# Workshop Outcomes\n",
        "\n",
        "1. Learn basic concepts of GIS Theory (Data Models, Datum/Geographic Coordinate system, Projections)\n",
        "1. Learn how to apply GIS concepts using GeoPandas."
      ]
    },
    {
      "cell_type": "markdown",
      "id": "b4801840",
      "metadata": {
        "id": "b4801840"
      },
      "source": [
        "# Outline\n",
        "\n",
        "1. What is GIS?\n",
        "1. Common GIS Data Models\n",
        "1. Explore GeoPandas\n",
        "1. Datum/Geographic Coordinate System (GCS)\n",
        "1. Projections\n",
        "1. Coordinate Reference System (CRS)\n",
        "1. Spatial Attributes\n",
        "1. Spatial Processing\n",
        "1. Saving GIS Data\n"
      ]
    },
    {
      "cell_type": "markdown",
      "id": "21680d4b",
      "metadata": {
        "id": "21680d4b"
      },
      "source": [
        "# 1. What is GIS?\n",
        "\n",
        "“A geographic information system (GIS) is a system designed to capture, store, manipulate, analyze, manage, and present spatial or geographic data”\n",
        "\n",
        "<sup>Source: https://en.wikipedia.org/wiki/Geographic_information_system</sup>\n"
      ]
    },
    {
      "cell_type": "markdown",
      "id": "832f5c46",
      "metadata": {
        "id": "832f5c46"
      },
      "source": [
        "## Typical functions of GIS software\n",
        "\n",
        "- Read/write spatial data\n",
        "- Maintain spatial meta data\n",
        "- Apply transformations for projections\n",
        "- Visualize symbology based on attribute table\n",
        "- Allow layering of data\n",
        "- Tools to query/filter data\n",
        "- Spatial analysis tools\n",
        "- Exporting tools for printing maps or publish web maps\n"
      ]
    },
    {
      "cell_type": "markdown",
      "id": "3b8497e3",
      "metadata": {
        "id": "3b8497e3"
      },
      "source": [
        "# 2. Common GIS Data Models\n",
        "\n",
        "- Raster\n",
        "- Vector"
      ]
    },
    {
      "cell_type": "markdown",
      "id": "40299788",
      "metadata": {
        "id": "40299788"
      },
      "source": [
        "### Vector\n",
        "\n",
        "<img src=\"https://github.com/milechin/tut_geopandas/blob/main/images/vector_data.png?raw=true\" alt=\"compass\" style=\"width:800px\"/>    \n",
        "\n"
      ]
    },
    {
      "cell_type": "markdown",
      "id": "09e40fcd",
      "metadata": {
        "id": "09e40fcd"
      },
      "source": [
        "# 3. Let's Explore GeoPandas\n",
        "\n",
        "> GeoPandas is an open source project to make working with geospatial data in python easier. GeoPandas extends the datatypes used by pandas to allow spatial operations on geometric types.\n",
        "\n",
        "<sup>source: https://geopandas.org/index.html</sup>\n",
        "\n",
        "__Note:__ GeoPandas is for processing vector data.\n",
        "\n",
        "User Guide: https://geopandas.org/docs/user_guide.html"
      ]
    },
    {
      "cell_type": "markdown",
      "id": "8be2ccad",
      "metadata": {
        "id": "8be2ccad"
      },
      "source": [
        "### GeoPandas - Dependencies\n",
        "\n",
        "- __numpy__\n",
        "- __pandas__\n",
        "- __shapely__  - Spatial Operations\n",
        "- __fiona__  - Reading and Writing Files\n",
        "- __pyproj__ - Projection definition and transformations\n",
        "- __rtree__ - spatial index to improve performance and required for overlay operations; interface to libspatialindex\n",
        "- __psycopg2__ - for PostGIS connection\n",
        "- __GeoAlchemy2__ - for writing to PostGIS\n",
        "- __geopy__ - for geocoding\n",
        "- __matplotlib__\n",
        "- __mapclassify__\n",
        "\n",
        "Source: https://geopandas.org/getting_started/install.html#dependencies"
      ]
    },
    {
      "cell_type": "markdown",
      "id": "69881aa3",
      "metadata": {
        "id": "69881aa3"
      },
      "source": [
        "### Read Shapefile\n"
      ]
    },
    {
      "cell_type": "code",
      "execution_count": 5,
      "id": "24db60c7",
      "metadata": {
        "id": "24db60c7",
        "outputId": "9dca7ad6-eecd-48c3-ab6e-5f43be676fa9",
        "colab": {
          "base_uri": "https://localhost:8080/",
          "height": 206
        }
      },
      "outputs": [
        {
          "output_type": "execute_result",
          "data": {
            "text/plain": [
              "                STATION    LINE TERMINUS  \\\n",
              "0               Ashmont     RED        Y   \n",
              "1               Harvard     RED        N   \n",
              "2           Kendall/MIT     RED        N   \n",
              "3          Capen Street     RED        N   \n",
              "4  Tufts Medical Center  ORANGE        N   \n",
              "\n",
              "                                     ROUTE                       geometry  \n",
              "0                 A - Ashmont  C - Alewife  POINT (236007.538 892693.023)  \n",
              "1  A - Ashmont  B - Braintree  C - Alewife  POINT (231387.274 902684.016)  \n",
              "2  A - Ashmont  B - Braintree  C - Alewife  POINT (234087.917 901406.551)  \n",
              "3                         Mattapan Trolley  POINT (234055.438 890869.375)  \n",
              "4                Forest Hills to Oak Grove  POINT (235900.324 899934.313)  "
            ],
            "text/html": [
              "\n",
              "  <div id=\"df-059637d6-3a26-4476-a82a-f45f1e2b0273\" class=\"colab-df-container\">\n",
              "    <div>\n",
              "<style scoped>\n",
              "    .dataframe tbody tr th:only-of-type {\n",
              "        vertical-align: middle;\n",
              "    }\n",
              "\n",
              "    .dataframe tbody tr th {\n",
              "        vertical-align: top;\n",
              "    }\n",
              "\n",
              "    .dataframe thead th {\n",
              "        text-align: right;\n",
              "    }\n",
              "</style>\n",
              "<table border=\"1\" class=\"dataframe\">\n",
              "  <thead>\n",
              "    <tr style=\"text-align: right;\">\n",
              "      <th></th>\n",
              "      <th>STATION</th>\n",
              "      <th>LINE</th>\n",
              "      <th>TERMINUS</th>\n",
              "      <th>ROUTE</th>\n",
              "      <th>geometry</th>\n",
              "    </tr>\n",
              "  </thead>\n",
              "  <tbody>\n",
              "    <tr>\n",
              "      <th>0</th>\n",
              "      <td>Ashmont</td>\n",
              "      <td>RED</td>\n",
              "      <td>Y</td>\n",
              "      <td>A - Ashmont  C - Alewife</td>\n",
              "      <td>POINT (236007.538 892693.023)</td>\n",
              "    </tr>\n",
              "    <tr>\n",
              "      <th>1</th>\n",
              "      <td>Harvard</td>\n",
              "      <td>RED</td>\n",
              "      <td>N</td>\n",
              "      <td>A - Ashmont  B - Braintree  C - Alewife</td>\n",
              "      <td>POINT (231387.274 902684.016)</td>\n",
              "    </tr>\n",
              "    <tr>\n",
              "      <th>2</th>\n",
              "      <td>Kendall/MIT</td>\n",
              "      <td>RED</td>\n",
              "      <td>N</td>\n",
              "      <td>A - Ashmont  B - Braintree  C - Alewife</td>\n",
              "      <td>POINT (234087.917 901406.551)</td>\n",
              "    </tr>\n",
              "    <tr>\n",
              "      <th>3</th>\n",
              "      <td>Capen Street</td>\n",
              "      <td>RED</td>\n",
              "      <td>N</td>\n",
              "      <td>Mattapan Trolley</td>\n",
              "      <td>POINT (234055.438 890869.375)</td>\n",
              "    </tr>\n",
              "    <tr>\n",
              "      <th>4</th>\n",
              "      <td>Tufts Medical Center</td>\n",
              "      <td>ORANGE</td>\n",
              "      <td>N</td>\n",
              "      <td>Forest Hills to Oak Grove</td>\n",
              "      <td>POINT (235900.324 899934.313)</td>\n",
              "    </tr>\n",
              "  </tbody>\n",
              "</table>\n",
              "</div>\n",
              "    <div class=\"colab-df-buttons\">\n",
              "\n",
              "  <div class=\"colab-df-container\">\n",
              "    <button class=\"colab-df-convert\" onclick=\"convertToInteractive('df-059637d6-3a26-4476-a82a-f45f1e2b0273')\"\n",
              "            title=\"Convert this dataframe to an interactive table.\"\n",
              "            style=\"display:none;\">\n",
              "\n",
              "  <svg xmlns=\"http://www.w3.org/2000/svg\" height=\"24px\" viewBox=\"0 -960 960 960\">\n",
              "    <path d=\"M120-120v-720h720v720H120Zm60-500h600v-160H180v160Zm220 220h160v-160H400v160Zm0 220h160v-160H400v160ZM180-400h160v-160H180v160Zm440 0h160v-160H620v160ZM180-180h160v-160H180v160Zm440 0h160v-160H620v160Z\"/>\n",
              "  </svg>\n",
              "    </button>\n",
              "\n",
              "  <style>\n",
              "    .colab-df-container {\n",
              "      display:flex;\n",
              "      gap: 12px;\n",
              "    }\n",
              "\n",
              "    .colab-df-convert {\n",
              "      background-color: #E8F0FE;\n",
              "      border: none;\n",
              "      border-radius: 50%;\n",
              "      cursor: pointer;\n",
              "      display: none;\n",
              "      fill: #1967D2;\n",
              "      height: 32px;\n",
              "      padding: 0 0 0 0;\n",
              "      width: 32px;\n",
              "    }\n",
              "\n",
              "    .colab-df-convert:hover {\n",
              "      background-color: #E2EBFA;\n",
              "      box-shadow: 0px 1px 2px rgba(60, 64, 67, 0.3), 0px 1px 3px 1px rgba(60, 64, 67, 0.15);\n",
              "      fill: #174EA6;\n",
              "    }\n",
              "\n",
              "    .colab-df-buttons div {\n",
              "      margin-bottom: 4px;\n",
              "    }\n",
              "\n",
              "    [theme=dark] .colab-df-convert {\n",
              "      background-color: #3B4455;\n",
              "      fill: #D2E3FC;\n",
              "    }\n",
              "\n",
              "    [theme=dark] .colab-df-convert:hover {\n",
              "      background-color: #434B5C;\n",
              "      box-shadow: 0px 1px 3px 1px rgba(0, 0, 0, 0.15);\n",
              "      filter: drop-shadow(0px 1px 2px rgba(0, 0, 0, 0.3));\n",
              "      fill: #FFFFFF;\n",
              "    }\n",
              "  </style>\n",
              "\n",
              "    <script>\n",
              "      const buttonEl =\n",
              "        document.querySelector('#df-059637d6-3a26-4476-a82a-f45f1e2b0273 button.colab-df-convert');\n",
              "      buttonEl.style.display =\n",
              "        google.colab.kernel.accessAllowed ? 'block' : 'none';\n",
              "\n",
              "      async function convertToInteractive(key) {\n",
              "        const element = document.querySelector('#df-059637d6-3a26-4476-a82a-f45f1e2b0273');\n",
              "        const dataTable =\n",
              "          await google.colab.kernel.invokeFunction('convertToInteractive',\n",
              "                                                    [key], {});\n",
              "        if (!dataTable) return;\n",
              "\n",
              "        const docLinkHtml = 'Like what you see? Visit the ' +\n",
              "          '<a target=\"_blank\" href=https://colab.research.google.com/notebooks/data_table.ipynb>data table notebook</a>'\n",
              "          + ' to learn more about interactive tables.';\n",
              "        element.innerHTML = '';\n",
              "        dataTable['output_type'] = 'display_data';\n",
              "        await google.colab.output.renderOutput(dataTable, element);\n",
              "        const docLink = document.createElement('div');\n",
              "        docLink.innerHTML = docLinkHtml;\n",
              "        element.appendChild(docLink);\n",
              "      }\n",
              "    </script>\n",
              "  </div>\n",
              "\n",
              "\n",
              "<div id=\"df-060e8a4d-d8bb-483a-9699-d8d47cb014a4\">\n",
              "  <button class=\"colab-df-quickchart\" onclick=\"quickchart('df-060e8a4d-d8bb-483a-9699-d8d47cb014a4')\"\n",
              "            title=\"Suggest charts\"\n",
              "            style=\"display:none;\">\n",
              "\n",
              "<svg xmlns=\"http://www.w3.org/2000/svg\" height=\"24px\"viewBox=\"0 0 24 24\"\n",
              "     width=\"24px\">\n",
              "    <g>\n",
              "        <path d=\"M19 3H5c-1.1 0-2 .9-2 2v14c0 1.1.9 2 2 2h14c1.1 0 2-.9 2-2V5c0-1.1-.9-2-2-2zM9 17H7v-7h2v7zm4 0h-2V7h2v10zm4 0h-2v-4h2v4z\"/>\n",
              "    </g>\n",
              "</svg>\n",
              "  </button>\n",
              "\n",
              "<style>\n",
              "  .colab-df-quickchart {\n",
              "      --bg-color: #E8F0FE;\n",
              "      --fill-color: #1967D2;\n",
              "      --hover-bg-color: #E2EBFA;\n",
              "      --hover-fill-color: #174EA6;\n",
              "      --disabled-fill-color: #AAA;\n",
              "      --disabled-bg-color: #DDD;\n",
              "  }\n",
              "\n",
              "  [theme=dark] .colab-df-quickchart {\n",
              "      --bg-color: #3B4455;\n",
              "      --fill-color: #D2E3FC;\n",
              "      --hover-bg-color: #434B5C;\n",
              "      --hover-fill-color: #FFFFFF;\n",
              "      --disabled-bg-color: #3B4455;\n",
              "      --disabled-fill-color: #666;\n",
              "  }\n",
              "\n",
              "  .colab-df-quickchart {\n",
              "    background-color: var(--bg-color);\n",
              "    border: none;\n",
              "    border-radius: 50%;\n",
              "    cursor: pointer;\n",
              "    display: none;\n",
              "    fill: var(--fill-color);\n",
              "    height: 32px;\n",
              "    padding: 0;\n",
              "    width: 32px;\n",
              "  }\n",
              "\n",
              "  .colab-df-quickchart:hover {\n",
              "    background-color: var(--hover-bg-color);\n",
              "    box-shadow: 0 1px 2px rgba(60, 64, 67, 0.3), 0 1px 3px 1px rgba(60, 64, 67, 0.15);\n",
              "    fill: var(--button-hover-fill-color);\n",
              "  }\n",
              "\n",
              "  .colab-df-quickchart-complete:disabled,\n",
              "  .colab-df-quickchart-complete:disabled:hover {\n",
              "    background-color: var(--disabled-bg-color);\n",
              "    fill: var(--disabled-fill-color);\n",
              "    box-shadow: none;\n",
              "  }\n",
              "\n",
              "  .colab-df-spinner {\n",
              "    border: 2px solid var(--fill-color);\n",
              "    border-color: transparent;\n",
              "    border-bottom-color: var(--fill-color);\n",
              "    animation:\n",
              "      spin 1s steps(1) infinite;\n",
              "  }\n",
              "\n",
              "  @keyframes spin {\n",
              "    0% {\n",
              "      border-color: transparent;\n",
              "      border-bottom-color: var(--fill-color);\n",
              "      border-left-color: var(--fill-color);\n",
              "    }\n",
              "    20% {\n",
              "      border-color: transparent;\n",
              "      border-left-color: var(--fill-color);\n",
              "      border-top-color: var(--fill-color);\n",
              "    }\n",
              "    30% {\n",
              "      border-color: transparent;\n",
              "      border-left-color: var(--fill-color);\n",
              "      border-top-color: var(--fill-color);\n",
              "      border-right-color: var(--fill-color);\n",
              "    }\n",
              "    40% {\n",
              "      border-color: transparent;\n",
              "      border-right-color: var(--fill-color);\n",
              "      border-top-color: var(--fill-color);\n",
              "    }\n",
              "    60% {\n",
              "      border-color: transparent;\n",
              "      border-right-color: var(--fill-color);\n",
              "    }\n",
              "    80% {\n",
              "      border-color: transparent;\n",
              "      border-right-color: var(--fill-color);\n",
              "      border-bottom-color: var(--fill-color);\n",
              "    }\n",
              "    90% {\n",
              "      border-color: transparent;\n",
              "      border-bottom-color: var(--fill-color);\n",
              "    }\n",
              "  }\n",
              "</style>\n",
              "\n",
              "  <script>\n",
              "    async function quickchart(key) {\n",
              "      const quickchartButtonEl =\n",
              "        document.querySelector('#' + key + ' button');\n",
              "      quickchartButtonEl.disabled = true;  // To prevent multiple clicks.\n",
              "      quickchartButtonEl.classList.add('colab-df-spinner');\n",
              "      try {\n",
              "        const charts = await google.colab.kernel.invokeFunction(\n",
              "            'suggestCharts', [key], {});\n",
              "      } catch (error) {\n",
              "        console.error('Error during call to suggestCharts:', error);\n",
              "      }\n",
              "      quickchartButtonEl.classList.remove('colab-df-spinner');\n",
              "      quickchartButtonEl.classList.add('colab-df-quickchart-complete');\n",
              "    }\n",
              "    (() => {\n",
              "      let quickchartButtonEl =\n",
              "        document.querySelector('#df-060e8a4d-d8bb-483a-9699-d8d47cb014a4 button');\n",
              "      quickchartButtonEl.style.display =\n",
              "        google.colab.kernel.accessAllowed ? 'block' : 'none';\n",
              "    })();\n",
              "  </script>\n",
              "</div>\n",
              "\n",
              "    </div>\n",
              "  </div>\n"
            ],
            "application/vnd.google.colaboratory.intrinsic+json": {
              "type": "dataframe",
              "variable_name": "mbta_stations",
              "summary": "{\n  \"name\": \"mbta_stations\",\n  \"rows\": 166,\n  \"fields\": [\n    {\n      \"column\": \"STATION\",\n      \"properties\": {\n        \"dtype\": \"string\",\n        \"num_unique_values\": 150,\n        \"samples\": [\n          \"Back Of The Hill\",\n          \"Sullivan Square\",\n          \"Downtown Crossing\"\n        ],\n        \"semantic_type\": \"\",\n        \"description\": \"\"\n      }\n    },\n    {\n      \"column\": \"LINE\",\n      \"properties\": {\n        \"dtype\": \"category\",\n        \"num_unique_values\": 10,\n        \"samples\": [\n          \"GREEN/RED\",\n          \"ORANGE\",\n          \"BLUE/GREEN\"\n        ],\n        \"semantic_type\": \"\",\n        \"description\": \"\"\n      }\n    },\n    {\n      \"column\": \"TERMINUS\",\n      \"properties\": {\n        \"dtype\": \"category\",\n        \"num_unique_values\": 2,\n        \"samples\": [\n          \"N\",\n          \"Y\"\n        ],\n        \"semantic_type\": \"\",\n        \"description\": \"\"\n      }\n    },\n    {\n      \"column\": \"ROUTE\",\n      \"properties\": {\n        \"dtype\": \"category\",\n        \"num_unique_values\": 25,\n        \"samples\": [\n          \"E - Lechmere\",\n          \"ORANGE Forest Hills to Oak Grove / RED A - Ashmont  B - Braintree  C - Alewife\"\n        ],\n        \"semantic_type\": \"\",\n        \"description\": \"\"\n      }\n    },\n    {\n      \"column\": \"geometry\",\n      \"properties\": {\n        \"dtype\": \"geometry\",\n        \"num_unique_values\": 166,\n        \"samples\": [\n          \"POINT (230383.2601781413 898859.7525552213)\",\n          \"POINT (238558.25933775306 899519.3537878357)\"\n        ],\n        \"semantic_type\": \"\",\n        \"description\": \"\"\n      }\n    }\n  ]\n}"
            }
          },
          "metadata": {},
          "execution_count": 5
        }
      ],
      "source": [
        "import geopandas\n",
        "\n",
        "mbta_stations = geopandas.read_file(\"./mbta_rapid_transit/MBTA_NODE.shp\")\n",
        "mbta_stations.head()"
      ]
    },
    {
      "cell_type": "markdown",
      "id": "691301f4",
      "metadata": {
        "id": "691301f4"
      },
      "source": [
        "- \"geometry\" column contains spatial information.\n",
        "- rows - known as \"features\" or \"records\".\n",
        "- columns - known as \"attributes\" or \"fields\"."
      ]
    },
    {
      "cell_type": "markdown",
      "id": "bee24ee4",
      "metadata": {
        "id": "bee24ee4"
      },
      "source": [
        "Let's look at types for each column:"
      ]
    },
    {
      "cell_type": "code",
      "execution_count": 6,
      "id": "28a893cc",
      "metadata": {
        "id": "28a893cc",
        "outputId": "32eb0f10-33c6-40e4-e94b-e9aea06e0742",
        "colab": {
          "base_uri": "https://localhost:8080/",
          "height": 241
        }
      },
      "outputs": [
        {
          "output_type": "execute_result",
          "data": {
            "text/plain": [
              "STATION       object\n",
              "LINE          object\n",
              "TERMINUS      object\n",
              "ROUTE         object\n",
              "geometry    geometry\n",
              "dtype: object"
            ],
            "text/html": [
              "<div>\n",
              "<style scoped>\n",
              "    .dataframe tbody tr th:only-of-type {\n",
              "        vertical-align: middle;\n",
              "    }\n",
              "\n",
              "    .dataframe tbody tr th {\n",
              "        vertical-align: top;\n",
              "    }\n",
              "\n",
              "    .dataframe thead th {\n",
              "        text-align: right;\n",
              "    }\n",
              "</style>\n",
              "<table border=\"1\" class=\"dataframe\">\n",
              "  <thead>\n",
              "    <tr style=\"text-align: right;\">\n",
              "      <th></th>\n",
              "      <th>0</th>\n",
              "    </tr>\n",
              "  </thead>\n",
              "  <tbody>\n",
              "    <tr>\n",
              "      <th>STATION</th>\n",
              "      <td>object</td>\n",
              "    </tr>\n",
              "    <tr>\n",
              "      <th>LINE</th>\n",
              "      <td>object</td>\n",
              "    </tr>\n",
              "    <tr>\n",
              "      <th>TERMINUS</th>\n",
              "      <td>object</td>\n",
              "    </tr>\n",
              "    <tr>\n",
              "      <th>ROUTE</th>\n",
              "      <td>object</td>\n",
              "    </tr>\n",
              "    <tr>\n",
              "      <th>geometry</th>\n",
              "      <td>geometry</td>\n",
              "    </tr>\n",
              "  </tbody>\n",
              "</table>\n",
              "</div><br><label><b>dtype:</b> object</label>"
            ]
          },
          "metadata": {},
          "execution_count": 6
        }
      ],
      "source": [
        "mbta_stations.dtypes"
      ]
    },
    {
      "cell_type": "markdown",
      "id": "f2a58128",
      "metadata": {
        "id": "f2a58128"
      },
      "source": [
        "### Plotting"
      ]
    },
    {
      "cell_type": "code",
      "execution_count": 36,
      "id": "d8a3a80c",
      "metadata": {
        "id": "d8a3a80c",
        "outputId": "06ddd126-5192-4686-b16c-c81ea27f94e2",
        "colab": {
          "base_uri": "https://localhost:8080/",
          "height": 447
        }
      },
      "outputs": [
        {
          "output_type": "execute_result",
          "data": {
            "text/plain": [
              "<Axes: >"
            ]
          },
          "metadata": {},
          "execution_count": 36
        },
        {
          "output_type": "display_data",
          "data": {
            "text/plain": [
              "<Figure size 640x480 with 1 Axes>"
            ],
            "image/png": "[encoded data removed]"
          },
          "metadata": {}
        }
      ],
      "source": [
        "mbta_stations.plot()"
      ]
    },
    {
      "cell_type": "code",
      "execution_count": 37,
      "id": "795db574",
      "metadata": {
        "id": "795db574",
        "outputId": "afa3bfdc-ae73-4bbb-d902-a066d927b841",
        "colab": {
          "base_uri": "https://localhost:8080/",
          "height": 447
        }
      },
      "outputs": [
        {
          "output_type": "execute_result",
          "data": {
            "text/plain": [
              "<Axes: >"
            ]
          },
          "metadata": {},
          "execution_count": 37
        },
        {
          "output_type": "display_data",
          "data": {
            "text/plain": [
              "<Figure size 640x480 with 1 Axes>"
            ],
            "image/png": "[encoded data removed]"
          },
          "metadata": {}
        }
      ],
      "source": [
        "mbta_stations.plot(column=\"LINE\", legend=False)"
      ]
    },
    {
      "cell_type": "markdown",
      "id": "b152f2f0",
      "metadata": {
        "id": "b152f2f0"
      },
      "source": [
        "### Load Polyline Data"
      ]
    },
    {
      "cell_type": "code",
      "execution_count": 7,
      "id": "8f4e3686",
      "metadata": {
        "id": "8f4e3686",
        "outputId": "ed907755-4118-4f01-835f-63451a44a464",
        "colab": {
          "base_uri": "https://localhost:8080/",
          "height": 206
        }
      },
      "outputs": [
        {
          "output_type": "execute_result",
          "data": {
            "text/plain": [
              "     LINE ROUTE  GRADE   SHAPE_LEN  \\\n",
              "0  SILVER   SL3      3   79.538315   \n",
              "1  SILVER   SL3      1  439.557315   \n",
              "2  SILVER   SL3      1  680.245154   \n",
              "3  SILVER   SL3      1  590.780545   \n",
              "4  SILVER   SL3      1  819.160963   \n",
              "\n",
              "                                            geometry  \n",
              "0  LINESTRING (238786.088 902727.2, 238786.654 90...  \n",
              "1  LINESTRING (238823.606 904952.475, 238807.669 ...  \n",
              "2  LINESTRING (237840.206 905243.356, 237838.544 ...  \n",
              "3  LINESTRING (238411.712 905095.055, 238375.464 ...  \n",
              "4  LINESTRING (239198.867 904254.943, 239205.64 9...  "
            ],
            "text/html": [
              "\n",
              "  <div id=\"df-c0a04c34-9f32-455a-bdc8-70ab499b6ad4\" class=\"colab-df-container\">\n",
              "    <div>\n",
              "<style scoped>\n",
              "    .dataframe tbody tr th:only-of-type {\n",
              "        vertical-align: middle;\n",
              "    }\n",
              "\n",
              "    .dataframe tbody tr th {\n",
              "        vertical-align: top;\n",
              "    }\n",
              "\n",
              "    .dataframe thead th {\n",
              "        text-align: right;\n",
              "    }\n",
              "</style>\n",
              "<table border=\"1\" class=\"dataframe\">\n",
              "  <thead>\n",
              "    <tr style=\"text-align: right;\">\n",
              "      <th></th>\n",
              "      <th>LINE</th>\n",
              "      <th>ROUTE</th>\n",
              "      <th>GRADE</th>\n",
              "      <th>SHAPE_LEN</th>\n",
              "      <th>geometry</th>\n",
              "    </tr>\n",
              "  </thead>\n",
              "  <tbody>\n",
              "    <tr>\n",
              "      <th>0</th>\n",
              "      <td>SILVER</td>\n",
              "      <td>SL3</td>\n",
              "      <td>3</td>\n",
              "      <td>79.538315</td>\n",
              "      <td>LINESTRING (238786.088 902727.2, 238786.654 90...</td>\n",
              "    </tr>\n",
              "    <tr>\n",
              "      <th>1</th>\n",
              "      <td>SILVER</td>\n",
              "      <td>SL3</td>\n",
              "      <td>1</td>\n",
              "      <td>439.557315</td>\n",
              "      <td>LINESTRING (238823.606 904952.475, 238807.669 ...</td>\n",
              "    </tr>\n",
              "    <tr>\n",
              "      <th>2</th>\n",
              "      <td>SILVER</td>\n",
              "      <td>SL3</td>\n",
              "      <td>1</td>\n",
              "      <td>680.245154</td>\n",
              "      <td>LINESTRING (237840.206 905243.356, 237838.544 ...</td>\n",
              "    </tr>\n",
              "    <tr>\n",
              "      <th>3</th>\n",
              "      <td>SILVER</td>\n",
              "      <td>SL3</td>\n",
              "      <td>1</td>\n",
              "      <td>590.780545</td>\n",
              "      <td>LINESTRING (238411.712 905095.055, 238375.464 ...</td>\n",
              "    </tr>\n",
              "    <tr>\n",
              "      <th>4</th>\n",
              "      <td>SILVER</td>\n",
              "      <td>SL3</td>\n",
              "      <td>1</td>\n",
              "      <td>819.160963</td>\n",
              "      <td>LINESTRING (239198.867 904254.943, 239205.64 9...</td>\n",
              "    </tr>\n",
              "  </tbody>\n",
              "</table>\n",
              "</div>\n",
              "    <div class=\"colab-df-buttons\">\n",
              "\n",
              "  <div class=\"colab-df-container\">\n",
              "    <button class=\"colab-df-convert\" onclick=\"convertToInteractive('df-c0a04c34-9f32-455a-bdc8-70ab499b6ad4')\"\n",
              "            title=\"Convert this dataframe to an interactive table.\"\n",
              "            style=\"display:none;\">\n",
              "\n",
              "  <svg xmlns=\"http://www.w3.org/2000/svg\" height=\"24px\" viewBox=\"0 -960 960 960\">\n",
              "    <path d=\"M120-120v-720h720v720H120Zm60-500h600v-160H180v160Zm220 220h160v-160H400v160Zm0 220h160v-160H400v160ZM180-400h160v-160H180v160Zm440 0h160v-160H620v160ZM180-180h160v-160H180v160Zm440 0h160v-160H620v160Z\"/>\n",
              "  </svg>\n",
              "    </button>\n",
              "\n",
              "  <style>\n",
              "    .colab-df-container {\n",
              "      display:flex;\n",
              "      gap: 12px;\n",
              "    }\n",
              "\n",
              "    .colab-df-convert {\n",
              "      background-color: #E8F0FE;\n",
              "      border: none;\n",
              "      border-radius: 50%;\n",
              "      cursor: pointer;\n",
              "      display: none;\n",
              "      fill: #1967D2;\n",
              "      height: 32px;\n",
              "      padding: 0 0 0 0;\n",
              "      width: 32px;\n",
              "    }\n",
              "\n",
              "    .colab-df-convert:hover {\n",
              "      background-color: #E2EBFA;\n",
              "      box-shadow: 0px 1px 2px rgba(60, 64, 67, 0.3), 0px 1px 3px 1px rgba(60, 64, 67, 0.15);\n",
              "      fill: #174EA6;\n",
              "    }\n",
              "\n",
              "    .colab-df-buttons div {\n",
              "      margin-bottom: 4px;\n",
              "    }\n",
              "\n",
              "    [theme=dark] .colab-df-convert {\n",
              "      background-color: #3B4455;\n",
              "      fill: #D2E3FC;\n",
              "    }\n",
              "\n",
              "    [theme=dark] .colab-df-convert:hover {\n",
              "      background-color: #434B5C;\n",
              "      box-shadow: 0px 1px 3px 1px rgba(0, 0, 0, 0.15);\n",
              "      filter: drop-shadow(0px 1px 2px rgba(0, 0, 0, 0.3));\n",
              "      fill: #FFFFFF;\n",
              "    }\n",
              "  </style>\n",
              "\n",
              "    <script>\n",
              "      const buttonEl =\n",
              "        document.querySelector('#df-c0a04c34-9f32-455a-bdc8-70ab499b6ad4 button.colab-df-convert');\n",
              "      buttonEl.style.display =\n",
              "        google.colab.kernel.accessAllowed ? 'block' : 'none';\n",
              "\n",
              "      async function convertToInteractive(key) {\n",
              "        const element = document.querySelector('#df-c0a04c34-9f32-455a-bdc8-70ab499b6ad4');\n",
              "        const dataTable =\n",
              "          await google.colab.kernel.invokeFunction('convertToInteractive',\n",
              "                                                    [key], {});\n",
              "        if (!dataTable) return;\n",
              "\n",
              "        const docLinkHtml = 'Like what you see? Visit the ' +\n",
              "          '<a target=\"_blank\" href=https://colab.research.google.com/notebooks/data_table.ipynb>data table notebook</a>'\n",
              "          + ' to learn more about interactive tables.';\n",
              "        element.innerHTML = '';\n",
              "        dataTable['output_type'] = 'display_data';\n",
              "        await google.colab.output.renderOutput(dataTable, element);\n",
              "        const docLink = document.createElement('div');\n",
              "        docLink.innerHTML = docLinkHtml;\n",
              "        element.appendChild(docLink);\n",
              "      }\n",
              "    </script>\n",
              "  </div>\n",
              "\n",
              "\n",
              "<div id=\"df-bfea79b4-9db2-439e-9ac3-c1dcafacca76\">\n",
              "  <button class=\"colab-df-quickchart\" onclick=\"quickchart('df-bfea79b4-9db2-439e-9ac3-c1dcafacca76')\"\n",
              "            title=\"Suggest charts\"\n",
              "            style=\"display:none;\">\n",
              "\n",
              "<svg xmlns=\"http://www.w3.org/2000/svg\" height=\"24px\"viewBox=\"0 0 24 24\"\n",
              "     width=\"24px\">\n",
              "    <g>\n",
              "        <path d=\"M19 3H5c-1.1 0-2 .9-2 2v14c0 1.1.9 2 2 2h14c1.1 0 2-.9 2-2V5c0-1.1-.9-2-2-2zM9 17H7v-7h2v7zm4 0h-2V7h2v10zm4 0h-2v-4h2v4z\"/>\n",
              "    </g>\n",
              "</svg>\n",
              "  </button>\n",
              "\n",
              "<style>\n",
              "  .colab-df-quickchart {\n",
              "      --bg-color: #E8F0FE;\n",
              "      --fill-color: #1967D2;\n",
              "      --hover-bg-color: #E2EBFA;\n",
              "      --hover-fill-color: #174EA6;\n",
              "      --disabled-fill-color: #AAA;\n",
              "      --disabled-bg-color: #DDD;\n",
              "  }\n",
              "\n",
              "  [theme=dark] .colab-df-quickchart {\n",
              "      --bg-color: #3B4455;\n",
              "      --fill-color: #D2E3FC;\n",
              "      --hover-bg-color: #434B5C;\n",
              "      --hover-fill-color: #FFFFFF;\n",
              "      --disabled-bg-color: #3B4455;\n",
              "      --disabled-fill-color: #666;\n",
              "  }\n",
              "\n",
              "  .colab-df-quickchart {\n",
              "    background-color: var(--bg-color);\n",
              "    border: none;\n",
              "    border-radius: 50%;\n",
              "    cursor: pointer;\n",
              "    display: none;\n",
              "    fill: var(--fill-color);\n",
              "    height: 32px;\n",
              "    padding: 0;\n",
              "    width: 32px;\n",
              "  }\n",
              "\n",
              "  .colab-df-quickchart:hover {\n",
              "    background-color: var(--hover-bg-color);\n",
              "    box-shadow: 0 1px 2px rgba(60, 64, 67, 0.3), 0 1px 3px 1px rgba(60, 64, 67, 0.15);\n",
              "    fill: var(--button-hover-fill-color);\n",
              "  }\n",
              "\n",
              "  .colab-df-quickchart-complete:disabled,\n",
              "  .colab-df-quickchart-complete:disabled:hover {\n",
              "    background-color: var(--disabled-bg-color);\n",
              "    fill: var(--disabled-fill-color);\n",
              "    box-shadow: none;\n",
              "  }\n",
              "\n",
              "  .colab-df-spinner {\n",
              "    border: 2px solid var(--fill-color);\n",
              "    border-color: transparent;\n",
              "    border-bottom-color: var(--fill-color);\n",
              "    animation:\n",
              "      spin 1s steps(1) infinite;\n",
              "  }\n",
              "\n",
              "  @keyframes spin {\n",
              "    0% {\n",
              "      border-color: transparent;\n",
              "      border-bottom-color: var(--fill-color);\n",
              "      border-left-color: var(--fill-color);\n",
              "    }\n",
              "    20% {\n",
              "      border-color: transparent;\n",
              "      border-left-color: var(--fill-color);\n",
              "      border-top-color: var(--fill-color);\n",
              "    }\n",
              "    30% {\n",
              "      border-color: transparent;\n",
              "      border-left-color: var(--fill-color);\n",
              "      border-top-color: var(--fill-color);\n",
              "      border-right-color: var(--fill-color);\n",
              "    }\n",
              "    40% {\n",
              "      border-color: transparent;\n",
              "      border-right-color: var(--fill-color);\n",
              "      border-top-color: var(--fill-color);\n",
              "    }\n",
              "    60% {\n",
              "      border-color: transparent;\n",
              "      border-right-color: var(--fill-color);\n",
              "    }\n",
              "    80% {\n",
              "      border-color: transparent;\n",
              "      border-right-color: var(--fill-color);\n",
              "      border-bottom-color: var(--fill-color);\n",
              "    }\n",
              "    90% {\n",
              "      border-color: transparent;\n",
              "      border-bottom-color: var(--fill-color);\n",
              "    }\n",
              "  }\n",
              "</style>\n",
              "\n",
              "  <script>\n",
              "    async function quickchart(key) {\n",
              "      const quickchartButtonEl =\n",
              "        document.querySelector('#' + key + ' button');\n",
              "      quickchartButtonEl.disabled = true;  // To prevent multiple clicks.\n",
              "      quickchartButtonEl.classList.add('colab-df-spinner');\n",
              "      try {\n",
              "        const charts = await google.colab.kernel.invokeFunction(\n",
              "            'suggestCharts', [key], {});\n",
              "      } catch (error) {\n",
              "        console.error('Error during call to suggestCharts:', error);\n",
              "      }\n",
              "      quickchartButtonEl.classList.remove('colab-df-spinner');\n",
              "      quickchartButtonEl.classList.add('colab-df-quickchart-complete');\n",
              "    }\n",
              "    (() => {\n",
              "      let quickchartButtonEl =\n",
              "        document.querySelector('#df-bfea79b4-9db2-439e-9ac3-c1dcafacca76 button');\n",
              "      quickchartButtonEl.style.display =\n",
              "        google.colab.kernel.accessAllowed ? 'block' : 'none';\n",
              "    })();\n",
              "  </script>\n",
              "</div>\n",
              "\n",
              "    </div>\n",
              "  </div>\n"
            ],
            "application/vnd.google.colaboratory.intrinsic+json": {
              "type": "dataframe",
              "variable_name": "mbta_lines",
              "summary": "{\n  \"name\": \"mbta_lines\",\n  \"rows\": 138,\n  \"fields\": [\n    {\n      \"column\": \"LINE\",\n      \"properties\": {\n        \"dtype\": \"category\",\n        \"num_unique_values\": 5,\n        \"samples\": [\n          \"ORANGE\",\n          \"BLUE\",\n          \"GREEN\"\n        ],\n        \"semantic_type\": \"\",\n        \"description\": \"\"\n      }\n    },\n    {\n      \"column\": \"ROUTE\",\n      \"properties\": {\n        \"dtype\": \"category\",\n        \"num_unique_values\": 24,\n        \"samples\": [\n          \"A - Ashmont B - Braintree  C - Alewife\",\n          \"SL4 SL5\",\n          \"SL3\"\n        ],\n        \"semantic_type\": \"\",\n        \"description\": \"\"\n      }\n    },\n    {\n      \"column\": \"GRADE\",\n      \"properties\": {\n        \"dtype\": \"int32\",\n        \"num_unique_values\": 6,\n        \"samples\": [\n          3,\n          1,\n          4\n        ],\n        \"semantic_type\": \"\",\n        \"description\": \"\"\n      }\n    },\n    {\n      \"column\": \"SHAPE_LEN\",\n      \"properties\": {\n        \"dtype\": \"number\",\n        \"std\": 1794.2329512431866,\n        \"min\": 10.6524408514,\n        \"max\": 13068.0039896,\n        \"num_unique_values\": 138,\n        \"samples\": [\n          269.302491136,\n          1853.77217636,\n          353.459990048\n        ],\n        \"semantic_type\": \"\",\n        \"description\": \"\"\n      }\n    },\n    {\n      \"column\": \"geometry\",\n      \"properties\": {\n        \"dtype\": \"geometry\",\n        \"num_unique_values\": 138,\n        \"samples\": [\n          \"LINESTRING (235778.43412326276 899384.2919668555, 235808.00440578163 899450.2961550392, 235820.937498793 899479.3124996126, 235858.5468748361 899566.062499091, 235875.2982935533 899634.7053918317)\",\n          \"LINESTRING (239178.7582848221 904263.0917121395, 239176.7474464625 904252.1908569522, 239208.3916773498 904245.1000103094, 239217.7844037637 904240.2052093521, 239223.47295884043 904231.2093553208, 239229.55838630348 904221.2874615751, 239244.90425145626 904201.1790872924, 239248.03923828155 904196.4520547464, 239250.06363607943 904192.3155282103, 239290.41267647594 904099.5788843334, 239328.24816892296 904025.6276964061, 239334.86276371032 904011.207874082, 239340.68361062557 903993.6130477563, 239344.52007379383 903972.3140469715, 239344.52007379383 903962.3921532258, 239344.38778196275 903951.1473380215, 239340.5513156727 903927.0702056177, 239333.8044290468 903898.3628590405, 239326.3960801363 903874.1534348056, 239315.65460135043 903852.5686005838, 239303.06040071696 903824.6286002807, 239286.84899874777 903795.3799988851, 239274.61529889703 903777.9705015011, 239264.21887162328 903761.4407084808, 239240.93549333513 903732.071899619, 239238.3960988745 903726.9441994205, 239239.77190151066 903722.0758000724, 239254.1760001257 903709.994600229, 239272.4727986455 903695.1829014346, 239276.3500430435 903690.4343384467, 239278.65192281455 903687.2593313232, 239280.79505301267 903682.7349481247, 239281.90630316734 903678.5280640796, 239283.01755643636 903673.209926758, 239282.9282007441 903667.3019009009, 239281.19192851335 903660.9861532375, 239278.3344205469 903655.271143537, 239268.65065272152 903643.2061164714, 239247.37810967863 903616.5492948741, 239238.24996693432 903605.0398960076, 239226.02619341016 903587.7361110896, 239215.7867973894 903573.0517082177, 239205.07114952803 903558.4466785751, 239183.66190502793 903531.2315811366, 239153.49934516102 903495.8302603029, 239128.84380047023 903467.0937989801, 239107.06250097603 903438.1249997579, 239086.28130042553 903400.6563013233, 239076.27172564715 903376.1219370812, 239071.24463285506 903364.347957667, 239049.81334023923 903322.2791234329, 239024.5731991753 903268.293199718, 239016.7217984572 903251.1722988039, 239013.45170063525 903245.0640997216, 239013.03820016235 903241.1641990915, 239014.1661002338 903238.0790996477, 239023.28679901361 903228.6125011183, 239046.37569854409 903212.0581994429, 239052.03909942508 903204.2167001069, 239053.09417833388 903200.5705461949, 239053.35876511782 903196.3372044042, 239051.90355183184 903190.6486493275, 239047.15779865533 903179.9667004682, 239042.18549871445 903168.4936014749, 239032.15236643702 903145.6164761558, 239025.8023553118 903135.9856238179, 239021.03984618932 903129.2122763321, 239013.3139950037 903118.3114211448, 239004.2784574777 903106.1141053662, 238948.31990069896 903040.7815989405, 238935.19660133868 903024.906600751, 238928.63490020484 903017.9216006771, 238915.08819898963 903008.1848986559, 238898.78979895264 902994.2147987112, 238887.5715007484 902983.4197994433, 238876.56479899585 902970.9315015078, 238813.91130121052 902896.6363005489, 238807.13800050318 902888.1696013734, 238801.42300015688 902878.6445987187, 238796.13129875064 902867.637900088, 238791.49739845842 902851.7999003269, 238788.92640064657 902824.2995993979, 238788.05660078675 902820.5248990245, 238785.70580038428 902817.0531996898, 238780.7375015393 902815.5843988992, 238773.08390083164 902810.0402013101, 238763.16149875522 902798.132099472, 238723.1187993586 902733.087600112)\",\n          \"LINESTRING (232370.07282975316 895668.5103331469, 232370.1885059774 895668.7081986442, 232377.10254665464 895682.9320733771, 232391.12879290432 895710.5892839432, 232404.36501169205 895737.4564919993, 232431.82459376752 895803.2408071123, 232451.97486571223 895853.814115461, 232477.26151988655 895926.9082646221, 232498.79470475018 895994.8660190739, 232499.39809971303 895996.8742035553)\"\n        ],\n        \"semantic_type\": \"\",\n        \"description\": \"\"\n      }\n    }\n  ]\n}"
            }
          },
          "metadata": {},
          "execution_count": 7
        }
      ],
      "source": [
        "mbta_lines = geopandas.read_file(\"./mbta_rapid_transit/MBTA_ARC.shp\")\n",
        "mbta_lines.head()"
      ]
    },
    {
      "cell_type": "code",
      "execution_count": 8,
      "id": "a8f0ceaf",
      "metadata": {
        "id": "a8f0ceaf",
        "outputId": "2a5efa80-132f-4069-802e-8d767fb6ab16",
        "colab": {
          "base_uri": "https://localhost:8080/"
        }
      },
      "outputs": [
        {
          "output_type": "execute_result",
          "data": {
            "text/plain": [
              "array(['SILVER', 'ORANGE', 'GREEN', 'RED', 'BLUE'], dtype=object)"
            ]
          },
          "metadata": {},
          "execution_count": 8
        }
      ],
      "source": [
        "mbta_lines.LINE.unique()"
      ]
    },
    {
      "cell_type": "code",
      "execution_count": 9,
      "id": "120885ba",
      "metadata": {
        "id": "120885ba",
        "outputId": "13f2ddac-f341-45f9-cde2-c0d59baba0ed",
        "colab": {
          "base_uri": "https://localhost:8080/",
          "height": 447
        }
      },
      "outputs": [
        {
          "output_type": "execute_result",
          "data": {
            "text/plain": [
              "<Axes: >"
            ]
          },
          "metadata": {},
          "execution_count": 9
        },
        {
          "output_type": "display_data",
          "data": {
            "text/plain": [
              "<Figure size 640x480 with 1 Axes>"
            ],
            "image/png": "[encoded data removed]"
          },
          "metadata": {}
        }
      ],
      "source": [
        "mbta_lines.plot(column=\"LINE\", cmap='tab10')"
      ]
    },
    {
      "cell_type": "markdown",
      "id": "be3fed2a",
      "metadata": {
        "id": "be3fed2a"
      },
      "source": [
        "### Select By Attribute"
      ]
    },
    {
      "cell_type": "code",
      "execution_count": 41,
      "id": "2312a52b",
      "metadata": {
        "id": "2312a52b",
        "outputId": "26c0ef7f-6606-4f2c-944f-705bfaee36a9",
        "colab": {
          "base_uri": "https://localhost:8080/"
        }
      },
      "outputs": [
        {
          "output_type": "execute_result",
          "data": {
            "text/plain": [
              "array(['SILVER', 'ORANGE', 'GREEN', 'RED', 'BLUE'], dtype=object)"
            ]
          },
          "metadata": {},
          "execution_count": 41
        }
      ],
      "source": [
        "mbta_lines.LINE.unique()"
      ]
    },
    {
      "cell_type": "code",
      "execution_count": 42,
      "id": "8703b4b7",
      "metadata": {
        "id": "8703b4b7",
        "outputId": "acc3349e-0c98-4a41-c843-8511bff055b5",
        "colab": {
          "base_uri": "https://localhost:8080/",
          "height": 582
        }
      },
      "outputs": [
        {
          "output_type": "execute_result",
          "data": {
            "text/plain": [
              "      LINE                 ROUTE  GRADE     SHAPE_LEN  \\\n",
              "22   GREEN         D - Riverside      1   1618.957543   \n",
              "23   GREEN         D - Riverside      7    196.041784   \n",
              "24   GREEN         D - Riverside      7    199.124804   \n",
              "25   GREEN  C - Cleveland Circle      7    360.242405   \n",
              "26   GREEN    B - Boston College      7    184.396047   \n",
              "27   GREEN     E - Health Street      3   1132.030977   \n",
              "28   GREEN     E - Health Street      7   1230.956752   \n",
              "29   GREEN                   C D      7    458.876292   \n",
              "30   GREEN               B C D E      7   2121.006147   \n",
              "32   GREEN                   C E      7   1241.873692   \n",
              "33   GREEN                 B C D      7   1466.201312   \n",
              "34   GREEN    B - Boston College      2   6559.338256   \n",
              "35   GREEN         D - Riverside      1  13068.003990   \n",
              "72   GREEN  C - Cleveland Circle      2   3803.501990   \n",
              "73   GREEN          E - Lechmere      4   1126.633490   \n",
              "76   GREEN     E - Health Street      2   1595.516730   \n",
              "108  GREEN          E - Lechmere      1    233.178887   \n",
              "\n",
              "                                              geometry  \n",
              "22   LINESTRING (231830.985 898312.562, 231847.343 ...  \n",
              "23   LINESTRING (231700.045 898167.952, 231711.247 ...  \n",
              "24   LINESTRING (232728.037 899595.257, 232735.149 ...  \n",
              "25   LINESTRING (232504.049 899629.721, 232825.127 ...  \n",
              "26   LINESTRING (233089.812 899912.687, 233191.155 ...  \n",
              "27   LINESTRING (232120.839 897609.087, 232127.141 ...  \n",
              "28   LINESTRING (233995.976 899018.149, 234007.399 ...  \n",
              "29   LINESTRING (232842.768 899752.366, 233178.939 ...  \n",
              "30   LINESTRING (234670.367 899983.643, 234771.591 ...  \n",
              "32   LINESTRING (236291.833 901071.164, 236294.248 ...  \n",
              "33   LINESTRING (233273.44 899908.159, 233324.505 8...  \n",
              "34   LINESTRING (227438.864 898904.867, 227453.094 ...  \n",
              "35   LINESTRING (220391.713 898574.647, 220433.87 8...  \n",
              "72   LINESTRING (228902.422 898464.344, 229190.733 ...  \n",
              "73   LINESTRING (235839.891 901789.977, 235797.49 9...  \n",
              "76   LINESTRING (232588.669 898268.368, 232589.011 ...  \n",
              "108  LINESTRING (234867.725 902340.874, 234867.583 ...  "
            ],
            "text/html": [
              "\n",
              "  <div id=\"df-fb93417a-5183-45c7-b22b-ac013585e75b\" class=\"colab-df-container\">\n",
              "    <div>\n",
              "<style scoped>\n",
              "    .dataframe tbody tr th:only-of-type {\n",
              "        vertical-align: middle;\n",
              "    }\n",
              "\n",
              "    .dataframe tbody tr th {\n",
              "        vertical-align: top;\n",
              "    }\n",
              "\n",
              "    .dataframe thead th {\n",
              "        text-align: right;\n",
              "    }\n",
              "</style>\n",
              "<table border=\"1\" class=\"dataframe\">\n",
              "  <thead>\n",
              "    <tr style=\"text-align: right;\">\n",
              "      <th></th>\n",
              "      <th>LINE</th>\n",
              "      <th>ROUTE</th>\n",
              "      <th>GRADE</th>\n",
              "      <th>SHAPE_LEN</th>\n",
              "      <th>geometry</th>\n",
              "    </tr>\n",
              "  </thead>\n",
              "  <tbody>\n",
              "    <tr>\n",
              "      <th>22</th>\n",
              "      <td>GREEN</td>\n",
              "      <td>D - Riverside</td>\n",
              "      <td>1</td>\n",
              "      <td>1618.957543</td>\n",
              "      <td>LINESTRING (231830.985 898312.562, 231847.343 ...</td>\n",
              "    </tr>\n",
              "    <tr>\n",
              "      <th>23</th>\n",
              "      <td>GREEN</td>\n",
              "      <td>D - Riverside</td>\n",
              "      <td>7</td>\n",
              "      <td>196.041784</td>\n",
              "      <td>LINESTRING (231700.045 898167.952, 231711.247 ...</td>\n",
              "    </tr>\n",
              "    <tr>\n",
              "      <th>24</th>\n",
              "      <td>GREEN</td>\n",
              "      <td>D - Riverside</td>\n",
              "      <td>7</td>\n",
              "      <td>199.124804</td>\n",
              "      <td>LINESTRING (232728.037 899595.257, 232735.149 ...</td>\n",
              "    </tr>\n",
              "    <tr>\n",
              "      <th>25</th>\n",
              "      <td>GREEN</td>\n",
              "      <td>C - Cleveland Circle</td>\n",
              "      <td>7</td>\n",
              "      <td>360.242405</td>\n",
              "      <td>LINESTRING (232504.049 899629.721, 232825.127 ...</td>\n",
              "    </tr>\n",
              "    <tr>\n",
              "      <th>26</th>\n",
              "      <td>GREEN</td>\n",
              "      <td>B - Boston College</td>\n",
              "      <td>7</td>\n",
              "      <td>184.396047</td>\n",
              "      <td>LINESTRING (233089.812 899912.687, 233191.155 ...</td>\n",
              "    </tr>\n",
              "    <tr>\n",
              "      <th>27</th>\n",
              "      <td>GREEN</td>\n",
              "      <td>E - Health Street</td>\n",
              "      <td>3</td>\n",
              "      <td>1132.030977</td>\n",
              "      <td>LINESTRING (232120.839 897609.087, 232127.141 ...</td>\n",
              "    </tr>\n",
              "    <tr>\n",
              "      <th>28</th>\n",
              "      <td>GREEN</td>\n",
              "      <td>E - Health Street</td>\n",
              "      <td>7</td>\n",
              "      <td>1230.956752</td>\n",
              "      <td>LINESTRING (233995.976 899018.149, 234007.399 ...</td>\n",
              "    </tr>\n",
              "    <tr>\n",
              "      <th>29</th>\n",
              "      <td>GREEN</td>\n",
              "      <td>C D</td>\n",
              "      <td>7</td>\n",
              "      <td>458.876292</td>\n",
              "      <td>LINESTRING (232842.768 899752.366, 233178.939 ...</td>\n",
              "    </tr>\n",
              "    <tr>\n",
              "      <th>30</th>\n",
              "      <td>GREEN</td>\n",
              "      <td>B C D E</td>\n",
              "      <td>7</td>\n",
              "      <td>2121.006147</td>\n",
              "      <td>LINESTRING (234670.367 899983.643, 234771.591 ...</td>\n",
              "    </tr>\n",
              "    <tr>\n",
              "      <th>32</th>\n",
              "      <td>GREEN</td>\n",
              "      <td>C E</td>\n",
              "      <td>7</td>\n",
              "      <td>1241.873692</td>\n",
              "      <td>LINESTRING (236291.833 901071.164, 236294.248 ...</td>\n",
              "    </tr>\n",
              "    <tr>\n",
              "      <th>33</th>\n",
              "      <td>GREEN</td>\n",
              "      <td>B C D</td>\n",
              "      <td>7</td>\n",
              "      <td>1466.201312</td>\n",
              "      <td>LINESTRING (233273.44 899908.159, 233324.505 8...</td>\n",
              "    </tr>\n",
              "    <tr>\n",
              "      <th>34</th>\n",
              "      <td>GREEN</td>\n",
              "      <td>B - Boston College</td>\n",
              "      <td>2</td>\n",
              "      <td>6559.338256</td>\n",
              "      <td>LINESTRING (227438.864 898904.867, 227453.094 ...</td>\n",
              "    </tr>\n",
              "    <tr>\n",
              "      <th>35</th>\n",
              "      <td>GREEN</td>\n",
              "      <td>D - Riverside</td>\n",
              "      <td>1</td>\n",
              "      <td>13068.003990</td>\n",
              "      <td>LINESTRING (220391.713 898574.647, 220433.87 8...</td>\n",
              "    </tr>\n",
              "    <tr>\n",
              "      <th>72</th>\n",
              "      <td>GREEN</td>\n",
              "      <td>C - Cleveland Circle</td>\n",
              "      <td>2</td>\n",
              "      <td>3803.501990</td>\n",
              "      <td>LINESTRING (228902.422 898464.344, 229190.733 ...</td>\n",
              "    </tr>\n",
              "    <tr>\n",
              "      <th>73</th>\n",
              "      <td>GREEN</td>\n",
              "      <td>E - Lechmere</td>\n",
              "      <td>4</td>\n",
              "      <td>1126.633490</td>\n",
              "      <td>LINESTRING (235839.891 901789.977, 235797.49 9...</td>\n",
              "    </tr>\n",
              "    <tr>\n",
              "      <th>76</th>\n",
              "      <td>GREEN</td>\n",
              "      <td>E - Health Street</td>\n",
              "      <td>2</td>\n",
              "      <td>1595.516730</td>\n",
              "      <td>LINESTRING (232588.669 898268.368, 232589.011 ...</td>\n",
              "    </tr>\n",
              "    <tr>\n",
              "      <th>108</th>\n",
              "      <td>GREEN</td>\n",
              "      <td>E - Lechmere</td>\n",
              "      <td>1</td>\n",
              "      <td>233.178887</td>\n",
              "      <td>LINESTRING (234867.725 902340.874, 234867.583 ...</td>\n",
              "    </tr>\n",
              "  </tbody>\n",
              "</table>\n",
              "</div>\n",
              "    <div class=\"colab-df-buttons\">\n",
              "\n",
              "  <div class=\"colab-df-container\">\n",
              "    <button class=\"colab-df-convert\" onclick=\"convertToInteractive('df-fb93417a-5183-45c7-b22b-ac013585e75b')\"\n",
              "            title=\"Convert this dataframe to an interactive table.\"\n",
              "            style=\"display:none;\">\n",
              "\n",
              "  <svg xmlns=\"http://www.w3.org/2000/svg\" height=\"24px\" viewBox=\"0 -960 960 960\">\n",
              "    <path d=\"M120-120v-720h720v720H120Zm60-500h600v-160H180v160Zm220 220h160v-160H400v160Zm0 220h160v-160H400v160ZM180-400h160v-160H180v160Zm440 0h160v-160H620v160ZM180-180h160v-160H180v160Zm440 0h160v-160H620v160Z\"/>\n",
              "  </svg>\n",
              "    </button>\n",
              "\n",
              "  <style>\n",
              "    .colab-df-container {\n",
              "      display:flex;\n",
              "      gap: 12px;\n",
              "    }\n",
              "\n",
              "    .colab-df-convert {\n",
              "      background-color: #E8F0FE;\n",
              "      border: none;\n",
              "      border-radius: 50%;\n",
              "      cursor: pointer;\n",
              "      display: none;\n",
              "      fill: #1967D2;\n",
              "      height: 32px;\n",
              "      padding: 0 0 0 0;\n",
              "      width: 32px;\n",
              "    }\n",
              "\n",
              "    .colab-df-convert:hover {\n",
              "      background-color: #E2EBFA;\n",
              "      box-shadow: 0px 1px 2px rgba(60, 64, 67, 0.3), 0px 1px 3px 1px rgba(60, 64, 67, 0.15);\n",
              "      fill: #174EA6;\n",
              "    }\n",
              "\n",
              "    .colab-df-buttons div {\n",
              "      margin-bottom: 4px;\n",
              "    }\n",
              "\n",
              "    [theme=dark] .colab-df-convert {\n",
              "      background-color: #3B4455;\n",
              "      fill: #D2E3FC;\n",
              "    }\n",
              "\n",
              "    [theme=dark] .colab-df-convert:hover {\n",
              "      background-color: #434B5C;\n",
              "      box-shadow: 0px 1px 3px 1px rgba(0, 0, 0, 0.15);\n",
              "      filter: drop-shadow(0px 1px 2px rgba(0, 0, 0, 0.3));\n",
              "      fill: #FFFFFF;\n",
              "    }\n",
              "  </style>\n",
              "\n",
              "    <script>\n",
              "      const buttonEl =\n",
              "        document.querySelector('#df-fb93417a-5183-45c7-b22b-ac013585e75b button.colab-df-convert');\n",
              "      buttonEl.style.display =\n",
              "        google.colab.kernel.accessAllowed ? 'block' : 'none';\n",
              "\n",
              "      async function convertToInteractive(key) {\n",
              "        const element = document.querySelector('#df-fb93417a-5183-45c7-b22b-ac013585e75b');\n",
              "        const dataTable =\n",
              "          await google.colab.kernel.invokeFunction('convertToInteractive',\n",
              "                                                    [key], {});\n",
              "        if (!dataTable) return;\n",
              "\n",
              "        const docLinkHtml = 'Like what you see? Visit the ' +\n",
              "          '<a target=\"_blank\" href=https://colab.research.google.com/notebooks/data_table.ipynb>data table notebook</a>'\n",
              "          + ' to learn more about interactive tables.';\n",
              "        element.innerHTML = '';\n",
              "        dataTable['output_type'] = 'display_data';\n",
              "        await google.colab.output.renderOutput(dataTable, element);\n",
              "        const docLink = document.createElement('div');\n",
              "        docLink.innerHTML = docLinkHtml;\n",
              "        element.appendChild(docLink);\n",
              "      }\n",
              "    </script>\n",
              "  </div>\n",
              "\n",
              "\n",
              "<div id=\"df-b9c53087-b115-4523-a9c2-4f5b1894a256\">\n",
              "  <button class=\"colab-df-quickchart\" onclick=\"quickchart('df-b9c53087-b115-4523-a9c2-4f5b1894a256')\"\n",
              "            title=\"Suggest charts\"\n",
              "            style=\"display:none;\">\n",
              "\n",
              "<svg xmlns=\"http://www.w3.org/2000/svg\" height=\"24px\"viewBox=\"0 0 24 24\"\n",
              "     width=\"24px\">\n",
              "    <g>\n",
              "        <path d=\"M19 3H5c-1.1 0-2 .9-2 2v14c0 1.1.9 2 2 2h14c1.1 0 2-.9 2-2V5c0-1.1-.9-2-2-2zM9 17H7v-7h2v7zm4 0h-2V7h2v10zm4 0h-2v-4h2v4z\"/>\n",
              "    </g>\n",
              "</svg>\n",
              "  </button>\n",
              "\n",
              "<style>\n",
              "  .colab-df-quickchart {\n",
              "      --bg-color: #E8F0FE;\n",
              "      --fill-color: #1967D2;\n",
              "      --hover-bg-color: #E2EBFA;\n",
              "      --hover-fill-color: #174EA6;\n",
              "      --disabled-fill-color: #AAA;\n",
              "      --disabled-bg-color: #DDD;\n",
              "  }\n",
              "\n",
              "  [theme=dark] .colab-df-quickchart {\n",
              "      --bg-color: #3B4455;\n",
              "      --fill-color: #D2E3FC;\n",
              "      --hover-bg-color: #434B5C;\n",
              "      --hover-fill-color: #FFFFFF;\n",
              "      --disabled-bg-color: #3B4455;\n",
              "      --disabled-fill-color: #666;\n",
              "  }\n",
              "\n",
              "  .colab-df-quickchart {\n",
              "    background-color: var(--bg-color);\n",
              "    border: none;\n",
              "    border-radius: 50%;\n",
              "    cursor: pointer;\n",
              "    display: none;\n",
              "    fill: var(--fill-color);\n",
              "    height: 32px;\n",
              "    padding: 0;\n",
              "    width: 32px;\n",
              "  }\n",
              "\n",
              "  .colab-df-quickchart:hover {\n",
              "    background-color: var(--hover-bg-color);\n",
              "    box-shadow: 0 1px 2px rgba(60, 64, 67, 0.3), 0 1px 3px 1px rgba(60, 64, 67, 0.15);\n",
              "    fill: var(--button-hover-fill-color);\n",
              "  }\n",
              "\n",
              "  .colab-df-quickchart-complete:disabled,\n",
              "  .colab-df-quickchart-complete:disabled:hover {\n",
              "    background-color: var(--disabled-bg-color);\n",
              "    fill: var(--disabled-fill-color);\n",
              "    box-shadow: none;\n",
              "  }\n",
              "\n",
              "  .colab-df-spinner {\n",
              "    border: 2px solid var(--fill-color);\n",
              "    border-color: transparent;\n",
              "    border-bottom-color: var(--fill-color);\n",
              "    animation:\n",
              "      spin 1s steps(1) infinite;\n",
              "  }\n",
              "\n",
              "  @keyframes spin {\n",
              "    0% {\n",
              "      border-color: transparent;\n",
              "      border-bottom-color: var(--fill-color);\n",
              "      border-left-color: var(--fill-color);\n",
              "    }\n",
              "    20% {\n",
              "      border-color: transparent;\n",
              "      border-left-color: var(--fill-color);\n",
              "      border-top-color: var(--fill-color);\n",
              "    }\n",
              "    30% {\n",
              "      border-color: transparent;\n",
              "      border-left-color: var(--fill-color);\n",
              "      border-top-color: var(--fill-color);\n",
              "      border-right-color: var(--fill-color);\n",
              "    }\n",
              "    40% {\n",
              "      border-color: transparent;\n",
              "      border-right-color: var(--fill-color);\n",
              "      border-top-color: var(--fill-color);\n",
              "    }\n",
              "    60% {\n",
              "      border-color: transparent;\n",
              "      border-right-color: var(--fill-color);\n",
              "    }\n",
              "    80% {\n",
              "      border-color: transparent;\n",
              "      border-right-color: var(--fill-color);\n",
              "      border-bottom-color: var(--fill-color);\n",
              "    }\n",
              "    90% {\n",
              "      border-color: transparent;\n",
              "      border-bottom-color: var(--fill-color);\n",
              "    }\n",
              "  }\n",
              "</style>\n",
              "\n",
              "  <script>\n",
              "    async function quickchart(key) {\n",
              "      const quickchartButtonEl =\n",
              "        document.querySelector('#' + key + ' button');\n",
              "      quickchartButtonEl.disabled = true;  // To prevent multiple clicks.\n",
              "      quickchartButtonEl.classList.add('colab-df-spinner');\n",
              "      try {\n",
              "        const charts = await google.colab.kernel.invokeFunction(\n",
              "            'suggestCharts', [key], {});\n",
              "      } catch (error) {\n",
              "        console.error('Error during call to suggestCharts:', error);\n",
              "      }\n",
              "      quickchartButtonEl.classList.remove('colab-df-spinner');\n",
              "      quickchartButtonEl.classList.add('colab-df-quickchart-complete');\n",
              "    }\n",
              "    (() => {\n",
              "      let quickchartButtonEl =\n",
              "        document.querySelector('#df-b9c53087-b115-4523-a9c2-4f5b1894a256 button');\n",
              "      quickchartButtonEl.style.display =\n",
              "        google.colab.kernel.accessAllowed ? 'block' : 'none';\n",
              "    })();\n",
              "  </script>\n",
              "</div>\n",
              "\n",
              "  <div id=\"id_651f27ea-d91e-476f-baaf-f59e860832e3\">\n",
              "    <style>\n",
              "      .colab-df-generate {\n",
              "        background-color: #E8F0FE;\n",
              "        border: none;\n",
              "        border-radius: 50%;\n",
              "        cursor: pointer;\n",
              "        display: none;\n",
              "        fill: #1967D2;\n",
              "        height: 32px;\n",
              "        padding: 0 0 0 0;\n",
              "        width: 32px;\n",
              "      }\n",
              "\n",
              "      .colab-df-generate:hover {\n",
              "        background-color: #E2EBFA;\n",
              "        box-shadow: 0px 1px 2px rgba(60, 64, 67, 0.3), 0px 1px 3px 1px rgba(60, 64, 67, 0.15);\n",
              "        fill: #174EA6;\n",
              "      }\n",
              "\n",
              "      [theme=dark] .colab-df-generate {\n",
              "        background-color: #3B4455;\n",
              "        fill: #D2E3FC;\n",
              "      }\n",
              "\n",
              "      [theme=dark] .colab-df-generate:hover {\n",
              "        background-color: #434B5C;\n",
              "        box-shadow: 0px 1px 3px 1px rgba(0, 0, 0, 0.15);\n",
              "        filter: drop-shadow(0px 1px 2px rgba(0, 0, 0, 0.3));\n",
              "        fill: #FFFFFF;\n",
              "      }\n",
              "    </style>\n",
              "    <button class=\"colab-df-generate\" onclick=\"generateWithVariable('green_line')\"\n",
              "            title=\"Generate code using this dataframe.\"\n",
              "            style=\"display:none;\">\n",
              "\n",
              "  <svg xmlns=\"http://www.w3.org/2000/svg\" height=\"24px\"viewBox=\"0 0 24 24\"\n",
              "       width=\"24px\">\n",
              "    <path d=\"M7,19H8.4L18.45,9,17,7.55,7,17.6ZM5,21V16.75L18.45,3.32a2,2,0,0,1,2.83,0l1.4,1.43a1.91,1.91,0,0,1,.58,1.4,1.91,1.91,0,0,1-.58,1.4L9.25,21ZM18.45,9,17,7.55Zm-12,3A5.31,5.31,0,0,0,4.9,8.1,5.31,5.31,0,0,0,1,6.5,5.31,5.31,0,0,0,4.9,4.9,5.31,5.31,0,0,0,6.5,1,5.31,5.31,0,0,0,8.1,4.9,5.31,5.31,0,0,0,12,6.5,5.46,5.46,0,0,0,6.5,12Z\"/>\n",
              "  </svg>\n",
              "    </button>\n",
              "    <script>\n",
              "      (() => {\n",
              "      const buttonEl =\n",
              "        document.querySelector('#id_651f27ea-d91e-476f-baaf-f59e860832e3 button.colab-df-generate');\n",
              "      buttonEl.style.display =\n",
              "        google.colab.kernel.accessAllowed ? 'block' : 'none';\n",
              "\n",
              "      buttonEl.onclick = () => {\n",
              "        google.colab.notebook.generateWithVariable('green_line');\n",
              "      }\n",
              "      })();\n",
              "    </script>\n",
              "  </div>\n",
              "\n",
              "    </div>\n",
              "  </div>\n"
            ],
            "application/vnd.google.colaboratory.intrinsic+json": {
              "type": "dataframe",
              "variable_name": "green_line",
              "summary": "{\n  \"name\": \"green_line\",\n  \"rows\": 17,\n  \"fields\": [\n    {\n      \"column\": \"LINE\",\n      \"properties\": {\n        \"dtype\": \"category\",\n        \"num_unique_values\": 1,\n        \"samples\": [\n          \"GREEN\"\n        ],\n        \"semantic_type\": \"\",\n        \"description\": \"\"\n      }\n    },\n    {\n      \"column\": \"ROUTE\",\n      \"properties\": {\n        \"dtype\": \"string\",\n        \"num_unique_values\": 9,\n        \"samples\": [\n          \"B C D\"\n        ],\n        \"semantic_type\": \"\",\n        \"description\": \"\"\n      }\n    },\n    {\n      \"column\": \"GRADE\",\n      \"properties\": {\n        \"dtype\": \"int32\",\n        \"num_unique_values\": 5,\n        \"samples\": [\n          7\n        ],\n        \"semantic_type\": \"\",\n        \"description\": \"\"\n      }\n    },\n    {\n      \"column\": \"SHAPE_LEN\",\n      \"properties\": {\n        \"dtype\": \"number\",\n        \"std\": 3234.719591186732,\n        \"min\": 184.396047006,\n        \"max\": 13068.0039896,\n        \"num_unique_values\": 17,\n        \"samples\": [\n          1618.95754328\n        ],\n        \"semantic_type\": \"\",\n        \"description\": \"\"\n      }\n    },\n    {\n      \"column\": \"geometry\",\n      \"properties\": {\n        \"dtype\": \"geometry\",\n        \"num_unique_values\": 17,\n        \"samples\": [\n          \"LINESTRING (231830.9846156165 898312.5623400174, 231847.34331274033 898337.4370405227, 231856.84910203516 898353.201514326, 231867.68712163717 898372.4998244941, 231879.65000073612 898396.6703136861, 231889.81986565888 898418.158953242, 231905.5669255033 898454.9021219835, 231917.54159269482 898483.7722722478, 231926.89172913134 898507.7210702524, 231931.48437418044 898520.6797883548, 231963.3072135523 898603.3529377915, 231988.2400874123 898667.6539976522, 231994.96571803093 898685.8617398627, 232001.0349695906 898703.08541869, 232008.4164678231 898725.886317391, 232015.63361869007 898749.5069196336, 232020.3947026357 898769.3540938683, 232023.67150844634 898787.5628589615, 232029.41256424785 898816.1048134603, 232036.465879187 898852.1921021119, 232043.19150980562 898882.3740000799, 232047.29211068898 898900.90992558, 232052.4725267887 898919.300975915, 232057.4624870494 898934.3727208897, 232064.35195359588 898953.4006780833, 232070.913236849 898969.1482618414, 232077.96655178815 898985.3873658478, 232084.52782256156 898999.3301598057, 232094.28910808265 899019.6360721402, 232102.73557724804 899034.2695491575, 232110.11707548052 899047.0639198944, 232119.79489623755 899062.1551121213, 232132.3368518725 899079.6107359193, 232140.73416028172 899090.624878522, 232161.78760052472 899116.6145028286, 232177.09793920815 899134.2662207857, 232186.73429578543 899144.7499361597, 232205.29685366154 899163.374952279, 232227.40603394806 899183.7499965355, 232274.29652675986 899223.2497726977, 232320.08008549362 899262.4403013773, 232369.24999830872 899305.1247116104, 232402.85921558738 899333.9999762885, 232449.7343526855 899375.2497681119, 232471.48360288143 899394.6515017338, 232506.75067654997 899424.3413555361, 232538.62472244352 899451.1245873906, 232561.0779781267 899468.187498942, 232724.09518479556 899591.8201410063, 232728.03672736883 899595.2565321699)\"\n        ],\n        \"semantic_type\": \"\",\n        \"description\": \"\"\n      }\n    }\n  ]\n}"
            }
          },
          "metadata": {},
          "execution_count": 42
        }
      ],
      "source": [
        "green_line = mbta_lines[mbta_lines[\"LINE\"]==\"GREEN\"]\n",
        "green_line"
      ]
    },
    {
      "cell_type": "code",
      "execution_count": 43,
      "id": "ffc8ddb2",
      "metadata": {
        "id": "ffc8ddb2",
        "outputId": "0715f034-24a4-4307-a356-954c57c34ffa",
        "colab": {
          "base_uri": "https://localhost:8080/",
          "height": 263
        }
      },
      "outputs": [
        {
          "output_type": "execute_result",
          "data": {
            "text/plain": [
              "<Axes: >"
            ]
          },
          "metadata": {},
          "execution_count": 43
        },
        {
          "output_type": "display_data",
          "data": {
            "text/plain": [
              "<Figure size 640x480 with 1 Axes>"
            ],
            "image/png": "[encoded data removed]"
          },
          "metadata": {}
        }
      ],
      "source": [
        "green_line.geometry.plot(cmap='tab10')"
      ]
    },
    {
      "cell_type": "markdown",
      "id": "75e5c23b",
      "metadata": {
        "id": "75e5c23b"
      },
      "source": [
        "### Color by Attribute\n",
        "\n",
        "<sup>This example obtained from : https://www.earthdatascience.org/courses/scientists-guide-to-plotting-data-in-python/plot-spatial-data/customize-vector-plots/python-customize-map-legends-geopandas/</sup>\n"
      ]
    },
    {
      "cell_type": "code",
      "execution_count": 44,
      "id": "846db761",
      "metadata": {
        "id": "846db761"
      },
      "outputs": [],
      "source": [
        "import matplotlib.pyplot as plt\n",
        "subway_colors = {'SILVER': 'grey',\n",
        "               'ORANGE': 'orange',\n",
        "               'GREEN': 'green',\n",
        "               'RED': 'red',\n",
        "                'BLUE':'blue'}"
      ]
    },
    {
      "cell_type": "code",
      "execution_count": 45,
      "id": "649ec45e",
      "metadata": {
        "id": "649ec45e",
        "outputId": "797dee89-3d50-4535-e6fe-a055af77e075",
        "colab": {
          "base_uri": "https://localhost:8080/",
          "height": 428
        }
      },
      "outputs": [
        {
          "output_type": "display_data",
          "data": {
            "text/plain": [
              "<Figure size 640x480 with 1 Axes>"
            ],
            "image/png": "[encoded data removed]"
          },
          "metadata": {}
        }
      ],
      "source": [
        "fig, ax = plt.subplots()\n",
        "for ctype, data in mbta_lines.groupby('LINE'):\n",
        "    color = subway_colors[ctype]\n",
        "    data.plot(color=color, ax=ax, label=ctype)\n",
        "\n",
        "ax.legend(bbox_to_anchor=(1.5, .5), prop={'size': 12})\n",
        "ax.set(title='MBTA Subway Lines')\n",
        "ax.set_axis_off()\n",
        "\n",
        "mbta_stations.plot(ax=ax, color=\"black\", zorder=2)\n",
        "plt.show()"
      ]
    },
    {
      "cell_type": "markdown",
      "id": "0c0efd12",
      "metadata": {
        "id": "0c0efd12"
      },
      "source": [
        "### Load data from Geodatabase\n",
        "\n",
        "- *Geodatabase* is an ESRI developed model.  Similiar open source is *GeoPackage*.\n",
        "- Both act like a database and will contain multiple layers."
      ]
    },
    {
      "cell_type": "code",
      "execution_count": 10,
      "id": "e3239771",
      "metadata": {
        "id": "e3239771",
        "outputId": "4bc63d95-d1ae-471a-8310-4efecc3660ec",
        "colab": {
          "base_uri": "https://localhost:8080/",
          "height": 269
        }
      },
      "outputs": [
        {
          "output_type": "execute_result",
          "data": {
            "text/plain": [
              "                      name geometry_type\n",
              "0                    Block  MultiPolygon\n",
              "1             Census_Tract  MultiPolygon\n",
              "2       County_Subdivision  MultiPolygon\n",
              "3              Block_Group  MultiPolygon\n",
              "4  Census_Designated_Place  MultiPolygon\n",
              "5                   County  MultiPolygon\n",
              "6       Incorporated_Place  MultiPolygon"
            ],
            "text/html": [
              "\n",
              "  <div id=\"df-41f41cdf-1e17-4512-b2b5-9faf061eb4b8\" class=\"colab-df-container\">\n",
              "    <div>\n",
              "<style scoped>\n",
              "    .dataframe tbody tr th:only-of-type {\n",
              "        vertical-align: middle;\n",
              "    }\n",
              "\n",
              "    .dataframe tbody tr th {\n",
              "        vertical-align: top;\n",
              "    }\n",
              "\n",
              "    .dataframe thead th {\n",
              "        text-align: right;\n",
              "    }\n",
              "</style>\n",
              "<table border=\"1\" class=\"dataframe\">\n",
              "  <thead>\n",
              "    <tr style=\"text-align: right;\">\n",
              "      <th></th>\n",
              "      <th>name</th>\n",
              "      <th>geometry_type</th>\n",
              "    </tr>\n",
              "  </thead>\n",
              "  <tbody>\n",
              "    <tr>\n",
              "      <th>0</th>\n",
              "      <td>Block</td>\n",
              "      <td>MultiPolygon</td>\n",
              "    </tr>\n",
              "    <tr>\n",
              "      <th>1</th>\n",
              "      <td>Census_Tract</td>\n",
              "      <td>MultiPolygon</td>\n",
              "    </tr>\n",
              "    <tr>\n",
              "      <th>2</th>\n",
              "      <td>County_Subdivision</td>\n",
              "      <td>MultiPolygon</td>\n",
              "    </tr>\n",
              "    <tr>\n",
              "      <th>3</th>\n",
              "      <td>Block_Group</td>\n",
              "      <td>MultiPolygon</td>\n",
              "    </tr>\n",
              "    <tr>\n",
              "      <th>4</th>\n",
              "      <td>Census_Designated_Place</td>\n",
              "      <td>MultiPolygon</td>\n",
              "    </tr>\n",
              "    <tr>\n",
              "      <th>5</th>\n",
              "      <td>County</td>\n",
              "      <td>MultiPolygon</td>\n",
              "    </tr>\n",
              "    <tr>\n",
              "      <th>6</th>\n",
              "      <td>Incorporated_Place</td>\n",
              "      <td>MultiPolygon</td>\n",
              "    </tr>\n",
              "  </tbody>\n",
              "</table>\n",
              "</div>\n",
              "    <div class=\"colab-df-buttons\">\n",
              "\n",
              "  <div class=\"colab-df-container\">\n",
              "    <button class=\"colab-df-convert\" onclick=\"convertToInteractive('df-41f41cdf-1e17-4512-b2b5-9faf061eb4b8')\"\n",
              "            title=\"Convert this dataframe to an interactive table.\"\n",
              "            style=\"display:none;\">\n",
              "\n",
              "  <svg xmlns=\"http://www.w3.org/2000/svg\" height=\"24px\" viewBox=\"0 -960 960 960\">\n",
              "    <path d=\"M120-120v-720h720v720H120Zm60-500h600v-160H180v160Zm220 220h160v-160H400v160Zm0 220h160v-160H400v160ZM180-400h160v-160H180v160Zm440 0h160v-160H620v160ZM180-180h160v-160H180v160Zm440 0h160v-160H620v160Z\"/>\n",
              "  </svg>\n",
              "    </button>\n",
              "\n",
              "  <style>\n",
              "    .colab-df-container {\n",
              "      display:flex;\n",
              "      gap: 12px;\n",
              "    }\n",
              "\n",
              "    .colab-df-convert {\n",
              "      background-color: #E8F0FE;\n",
              "      border: none;\n",
              "      border-radius: 50%;\n",
              "      cursor: pointer;\n",
              "      display: none;\n",
              "      fill: #1967D2;\n",
              "      height: 32px;\n",
              "      padding: 0 0 0 0;\n",
              "      width: 32px;\n",
              "    }\n",
              "\n",
              "    .colab-df-convert:hover {\n",
              "      background-color: #E2EBFA;\n",
              "      box-shadow: 0px 1px 2px rgba(60, 64, 67, 0.3), 0px 1px 3px 1px rgba(60, 64, 67, 0.15);\n",
              "      fill: #174EA6;\n",
              "    }\n",
              "\n",
              "    .colab-df-buttons div {\n",
              "      margin-bottom: 4px;\n",
              "    }\n",
              "\n",
              "    [theme=dark] .colab-df-convert {\n",
              "      background-color: #3B4455;\n",
              "      fill: #D2E3FC;\n",
              "    }\n",
              "\n",
              "    [theme=dark] .colab-df-convert:hover {\n",
              "      background-color: #434B5C;\n",
              "      box-shadow: 0px 1px 3px 1px rgba(0, 0, 0, 0.15);\n",
              "      filter: drop-shadow(0px 1px 2px rgba(0, 0, 0, 0.3));\n",
              "      fill: #FFFFFF;\n",
              "    }\n",
              "  </style>\n",
              "\n",
              "    <script>\n",
              "      const buttonEl =\n",
              "        document.querySelector('#df-41f41cdf-1e17-4512-b2b5-9faf061eb4b8 button.colab-df-convert');\n",
              "      buttonEl.style.display =\n",
              "        google.colab.kernel.accessAllowed ? 'block' : 'none';\n",
              "\n",
              "      async function convertToInteractive(key) {\n",
              "        const element = document.querySelector('#df-41f41cdf-1e17-4512-b2b5-9faf061eb4b8');\n",
              "        const dataTable =\n",
              "          await google.colab.kernel.invokeFunction('convertToInteractive',\n",
              "                                                    [key], {});\n",
              "        if (!dataTable) return;\n",
              "\n",
              "        const docLinkHtml = 'Like what you see? Visit the ' +\n",
              "          '<a target=\"_blank\" href=https://colab.research.google.com/notebooks/data_table.ipynb>data table notebook</a>'\n",
              "          + ' to learn more about interactive tables.';\n",
              "        element.innerHTML = '';\n",
              "        dataTable['output_type'] = 'display_data';\n",
              "        await google.colab.output.renderOutput(dataTable, element);\n",
              "        const docLink = document.createElement('div');\n",
              "        docLink.innerHTML = docLinkHtml;\n",
              "        element.appendChild(docLink);\n",
              "      }\n",
              "    </script>\n",
              "  </div>\n",
              "\n",
              "\n",
              "<div id=\"df-2cceacc6-a37e-4795-a67b-865c6edf5e48\">\n",
              "  <button class=\"colab-df-quickchart\" onclick=\"quickchart('df-2cceacc6-a37e-4795-a67b-865c6edf5e48')\"\n",
              "            title=\"Suggest charts\"\n",
              "            style=\"display:none;\">\n",
              "\n",
              "<svg xmlns=\"http://www.w3.org/2000/svg\" height=\"24px\"viewBox=\"0 0 24 24\"\n",
              "     width=\"24px\">\n",
              "    <g>\n",
              "        <path d=\"M19 3H5c-1.1 0-2 .9-2 2v14c0 1.1.9 2 2 2h14c1.1 0 2-.9 2-2V5c0-1.1-.9-2-2-2zM9 17H7v-7h2v7zm4 0h-2V7h2v10zm4 0h-2v-4h2v4z\"/>\n",
              "    </g>\n",
              "</svg>\n",
              "  </button>\n",
              "\n",
              "<style>\n",
              "  .colab-df-quickchart {\n",
              "      --bg-color: #E8F0FE;\n",
              "      --fill-color: #1967D2;\n",
              "      --hover-bg-color: #E2EBFA;\n",
              "      --hover-fill-color: #174EA6;\n",
              "      --disabled-fill-color: #AAA;\n",
              "      --disabled-bg-color: #DDD;\n",
              "  }\n",
              "\n",
              "  [theme=dark] .colab-df-quickchart {\n",
              "      --bg-color: #3B4455;\n",
              "      --fill-color: #D2E3FC;\n",
              "      --hover-bg-color: #434B5C;\n",
              "      --hover-fill-color: #FFFFFF;\n",
              "      --disabled-bg-color: #3B4455;\n",
              "      --disabled-fill-color: #666;\n",
              "  }\n",
              "\n",
              "  .colab-df-quickchart {\n",
              "    background-color: var(--bg-color);\n",
              "    border: none;\n",
              "    border-radius: 50%;\n",
              "    cursor: pointer;\n",
              "    display: none;\n",
              "    fill: var(--fill-color);\n",
              "    height: 32px;\n",
              "    padding: 0;\n",
              "    width: 32px;\n",
              "  }\n",
              "\n",
              "  .colab-df-quickchart:hover {\n",
              "    background-color: var(--hover-bg-color);\n",
              "    box-shadow: 0 1px 2px rgba(60, 64, 67, 0.3), 0 1px 3px 1px rgba(60, 64, 67, 0.15);\n",
              "    fill: var(--button-hover-fill-color);\n",
              "  }\n",
              "\n",
              "  .colab-df-quickchart-complete:disabled,\n",
              "  .colab-df-quickchart-complete:disabled:hover {\n",
              "    background-color: var(--disabled-bg-color);\n",
              "    fill: var(--disabled-fill-color);\n",
              "    box-shadow: none;\n",
              "  }\n",
              "\n",
              "  .colab-df-spinner {\n",
              "    border: 2px solid var(--fill-color);\n",
              "    border-color: transparent;\n",
              "    border-bottom-color: var(--fill-color);\n",
              "    animation:\n",
              "      spin 1s steps(1) infinite;\n",
              "  }\n",
              "\n",
              "  @keyframes spin {\n",
              "    0% {\n",
              "      border-color: transparent;\n",
              "      border-bottom-color: var(--fill-color);\n",
              "      border-left-color: var(--fill-color);\n",
              "    }\n",
              "    20% {\n",
              "      border-color: transparent;\n",
              "      border-left-color: var(--fill-color);\n",
              "      border-top-color: var(--fill-color);\n",
              "    }\n",
              "    30% {\n",
              "      border-color: transparent;\n",
              "      border-left-color: var(--fill-color);\n",
              "      border-top-color: var(--fill-color);\n",
              "      border-right-color: var(--fill-color);\n",
              "    }\n",
              "    40% {\n",
              "      border-color: transparent;\n",
              "      border-right-color: var(--fill-color);\n",
              "      border-top-color: var(--fill-color);\n",
              "    }\n",
              "    60% {\n",
              "      border-color: transparent;\n",
              "      border-right-color: var(--fill-color);\n",
              "    }\n",
              "    80% {\n",
              "      border-color: transparent;\n",
              "      border-right-color: var(--fill-color);\n",
              "      border-bottom-color: var(--fill-color);\n",
              "    }\n",
              "    90% {\n",
              "      border-color: transparent;\n",
              "      border-bottom-color: var(--fill-color);\n",
              "    }\n",
              "  }\n",
              "</style>\n",
              "\n",
              "  <script>\n",
              "    async function quickchart(key) {\n",
              "      const quickchartButtonEl =\n",
              "        document.querySelector('#' + key + ' button');\n",
              "      quickchartButtonEl.disabled = true;  // To prevent multiple clicks.\n",
              "      quickchartButtonEl.classList.add('colab-df-spinner');\n",
              "      try {\n",
              "        const charts = await google.colab.kernel.invokeFunction(\n",
              "            'suggestCharts', [key], {});\n",
              "      } catch (error) {\n",
              "        console.error('Error during call to suggestCharts:', error);\n",
              "      }\n",
              "      quickchartButtonEl.classList.remove('colab-df-spinner');\n",
              "      quickchartButtonEl.classList.add('colab-df-quickchart-complete');\n",
              "    }\n",
              "    (() => {\n",
              "      let quickchartButtonEl =\n",
              "        document.querySelector('#df-2cceacc6-a37e-4795-a67b-865c6edf5e48 button');\n",
              "      quickchartButtonEl.style.display =\n",
              "        google.colab.kernel.accessAllowed ? 'block' : 'none';\n",
              "    })();\n",
              "  </script>\n",
              "</div>\n",
              "\n",
              "    </div>\n",
              "  </div>\n"
            ],
            "application/vnd.google.colaboratory.intrinsic+json": {
              "type": "dataframe",
              "summary": "{\n  \"name\": \"geopandas\",\n  \"rows\": 7,\n  \"fields\": [\n    {\n      \"column\": \"name\",\n      \"properties\": {\n        \"dtype\": \"string\",\n        \"num_unique_values\": 7,\n        \"samples\": [\n          \"Block\",\n          \"Census_Tract\",\n          \"County\"\n        ],\n        \"semantic_type\": \"\",\n        \"description\": \"\"\n      }\n    },\n    {\n      \"column\": \"geometry_type\",\n      \"properties\": {\n        \"dtype\": \"category\",\n        \"num_unique_values\": 1,\n        \"samples\": [\n          \"MultiPolygon\"\n        ],\n        \"semantic_type\": \"\",\n        \"description\": \"\"\n      }\n    }\n  ]\n}"
            }
          },
          "metadata": {},
          "execution_count": 10
        }
      ],
      "source": [
        "gdp_path = \"./tlgdb_2019_a_25_ma.gdb\"\n",
        "geopandas.list_layers(gdp_path)"
      ]
    },
    {
      "cell_type": "code",
      "execution_count": 11,
      "id": "c17fefa9",
      "metadata": {
        "id": "c17fefa9"
      },
      "outputs": [],
      "source": [
        "ma_block = geopandas.read_file(gdp_path, layer=\"Block_Group\")"
      ]
    },
    {
      "cell_type": "code",
      "execution_count": 12,
      "id": "f4803213",
      "metadata": {
        "id": "f4803213",
        "outputId": "0e461da3-54fd-4b9f-d0ab-568fb9577ae2",
        "colab": {
          "base_uri": "https://localhost:8080/",
          "height": 293
        }
      },
      "outputs": [
        {
          "output_type": "execute_result",
          "data": {
            "text/plain": [
              "          GEOID       NAMELSAD       ALAND      AWATER     INTPTLAT  \\\n",
              "0  250010101001  Block Group 1  22251666.0  11702725.0  +42.0598291   \n",
              "1  250010101002  Block Group 2   1325184.0    765208.0  +42.0620693   \n",
              "2  250010101003  Block Group 3    485889.0         0.0  +42.0581234   \n",
              "3  250010101004  Block Group 4    641686.0    162664.0  +42.0533919   \n",
              "4  250010101005  Block Group 5    341792.0    135275.0  +42.0485956   \n",
              "\n",
              "      INTPTLON                                           geometry  \n",
              "0  -70.2004073  MULTIPOLYGON (((-70.25001 42.0641, -70.24959 4...  \n",
              "1  -70.1629235  MULTIPOLYGON (((-70.18114 42.06232, -70.18109 ...  \n",
              "2  -70.1828958  MULTIPOLYGON (((-70.18884 42.05885, -70.18805 ...  \n",
              "3  -70.1874300  MULTIPOLYGON (((-70.19574 42.05457, -70.19573 ...  \n",
              "4  -70.1901156  MULTIPOLYGON (((-70.19674 42.04849, -70.1966 4...  "
            ],
            "text/html": [
              "\n",
              "  <div id=\"df-de144b3b-947b-494c-8a67-da8be54bf40f\" class=\"colab-df-container\">\n",
              "    <div>\n",
              "<style scoped>\n",
              "    .dataframe tbody tr th:only-of-type {\n",
              "        vertical-align: middle;\n",
              "    }\n",
              "\n",
              "    .dataframe tbody tr th {\n",
              "        vertical-align: top;\n",
              "    }\n",
              "\n",
              "    .dataframe thead th {\n",
              "        text-align: right;\n",
              "    }\n",
              "</style>\n",
              "<table border=\"1\" class=\"dataframe\">\n",
              "  <thead>\n",
              "    <tr style=\"text-align: right;\">\n",
              "      <th></th>\n",
              "      <th>GEOID</th>\n",
              "      <th>NAMELSAD</th>\n",
              "      <th>ALAND</th>\n",
              "      <th>AWATER</th>\n",
              "      <th>INTPTLAT</th>\n",
              "      <th>INTPTLON</th>\n",
              "      <th>geometry</th>\n",
              "    </tr>\n",
              "  </thead>\n",
              "  <tbody>\n",
              "    <tr>\n",
              "      <th>0</th>\n",
              "      <td>250010101001</td>\n",
              "      <td>Block Group 1</td>\n",
              "      <td>22251666.0</td>\n",
              "      <td>11702725.0</td>\n",
              "      <td>+42.0598291</td>\n",
              "      <td>-70.2004073</td>\n",
              "      <td>MULTIPOLYGON (((-70.25001 42.0641, -70.24959 4...</td>\n",
              "    </tr>\n",
              "    <tr>\n",
              "      <th>1</th>\n",
              "      <td>250010101002</td>\n",
              "      <td>Block Group 2</td>\n",
              "      <td>1325184.0</td>\n",
              "      <td>765208.0</td>\n",
              "      <td>+42.0620693</td>\n",
              "      <td>-70.1629235</td>\n",
              "      <td>MULTIPOLYGON (((-70.18114 42.06232, -70.18109 ...</td>\n",
              "    </tr>\n",
              "    <tr>\n",
              "      <th>2</th>\n",
              "      <td>250010101003</td>\n",
              "      <td>Block Group 3</td>\n",
              "      <td>485889.0</td>\n",
              "      <td>0.0</td>\n",
              "      <td>+42.0581234</td>\n",
              "      <td>-70.1828958</td>\n",
              "      <td>MULTIPOLYGON (((-70.18884 42.05885, -70.18805 ...</td>\n",
              "    </tr>\n",
              "    <tr>\n",
              "      <th>3</th>\n",
              "      <td>250010101004</td>\n",
              "      <td>Block Group 4</td>\n",
              "      <td>641686.0</td>\n",
              "      <td>162664.0</td>\n",
              "      <td>+42.0533919</td>\n",
              "      <td>-70.1874300</td>\n",
              "      <td>MULTIPOLYGON (((-70.19574 42.05457, -70.19573 ...</td>\n",
              "    </tr>\n",
              "    <tr>\n",
              "      <th>4</th>\n",
              "      <td>250010101005</td>\n",
              "      <td>Block Group 5</td>\n",
              "      <td>341792.0</td>\n",
              "      <td>135275.0</td>\n",
              "      <td>+42.0485956</td>\n",
              "      <td>-70.1901156</td>\n",
              "      <td>MULTIPOLYGON (((-70.19674 42.04849, -70.1966 4...</td>\n",
              "    </tr>\n",
              "  </tbody>\n",
              "</table>\n",
              "</div>\n",
              "    <div class=\"colab-df-buttons\">\n",
              "\n",
              "  <div class=\"colab-df-container\">\n",
              "    <button class=\"colab-df-convert\" onclick=\"convertToInteractive('df-de144b3b-947b-494c-8a67-da8be54bf40f')\"\n",
              "            title=\"Convert this dataframe to an interactive table.\"\n",
              "            style=\"display:none;\">\n",
              "\n",
              "  <svg xmlns=\"http://www.w3.org/2000/svg\" height=\"24px\" viewBox=\"0 -960 960 960\">\n",
              "    <path d=\"M120-120v-720h720v720H120Zm60-500h600v-160H180v160Zm220 220h160v-160H400v160Zm0 220h160v-160H400v160ZM180-400h160v-160H180v160Zm440 0h160v-160H620v160ZM180-180h160v-160H180v160Zm440 0h160v-160H620v160Z\"/>\n",
              "  </svg>\n",
              "    </button>\n",
              "\n",
              "  <style>\n",
              "    .colab-df-container {\n",
              "      display:flex;\n",
              "      gap: 12px;\n",
              "    }\n",
              "\n",
              "    .colab-df-convert {\n",
              "      background-color: #E8F0FE;\n",
              "      border: none;\n",
              "      border-radius: 50%;\n",
              "      cursor: pointer;\n",
              "      display: none;\n",
              "      fill: #1967D2;\n",
              "      height: 32px;\n",
              "      padding: 0 0 0 0;\n",
              "      width: 32px;\n",
              "    }\n",
              "\n",
              "    .colab-df-convert:hover {\n",
              "      background-color: #E2EBFA;\n",
              "      box-shadow: 0px 1px 2px rgba(60, 64, 67, 0.3), 0px 1px 3px 1px rgba(60, 64, 67, 0.15);\n",
              "      fill: #174EA6;\n",
              "    }\n",
              "\n",
              "    .colab-df-buttons div {\n",
              "      margin-bottom: 4px;\n",
              "    }\n",
              "\n",
              "    [theme=dark] .colab-df-convert {\n",
              "      background-color: #3B4455;\n",
              "      fill: #D2E3FC;\n",
              "    }\n",
              "\n",
              "    [theme=dark] .colab-df-convert:hover {\n",
              "      background-color: #434B5C;\n",
              "      box-shadow: 0px 1px 3px 1px rgba(0, 0, 0, 0.15);\n",
              "      filter: drop-shadow(0px 1px 2px rgba(0, 0, 0, 0.3));\n",
              "      fill: #FFFFFF;\n",
              "    }\n",
              "  </style>\n",
              "\n",
              "    <script>\n",
              "      const buttonEl =\n",
              "        document.querySelector('#df-de144b3b-947b-494c-8a67-da8be54bf40f button.colab-df-convert');\n",
              "      buttonEl.style.display =\n",
              "        google.colab.kernel.accessAllowed ? 'block' : 'none';\n",
              "\n",
              "      async function convertToInteractive(key) {\n",
              "        const element = document.querySelector('#df-de144b3b-947b-494c-8a67-da8be54bf40f');\n",
              "        const dataTable =\n",
              "          await google.colab.kernel.invokeFunction('convertToInteractive',\n",
              "                                                    [key], {});\n",
              "        if (!dataTable) return;\n",
              "\n",
              "        const docLinkHtml = 'Like what you see? Visit the ' +\n",
              "          '<a target=\"_blank\" href=https://colab.research.google.com/notebooks/data_table.ipynb>data table notebook</a>'\n",
              "          + ' to learn more about interactive tables.';\n",
              "        element.innerHTML = '';\n",
              "        dataTable['output_type'] = 'display_data';\n",
              "        await google.colab.output.renderOutput(dataTable, element);\n",
              "        const docLink = document.createElement('div');\n",
              "        docLink.innerHTML = docLinkHtml;\n",
              "        element.appendChild(docLink);\n",
              "      }\n",
              "    </script>\n",
              "  </div>\n",
              "\n",
              "\n",
              "<div id=\"df-e844ccd5-f9ad-4a50-b0d9-5eae16d12931\">\n",
              "  <button class=\"colab-df-quickchart\" onclick=\"quickchart('df-e844ccd5-f9ad-4a50-b0d9-5eae16d12931')\"\n",
              "            title=\"Suggest charts\"\n",
              "            style=\"display:none;\">\n",
              "\n",
              "<svg xmlns=\"http://www.w3.org/2000/svg\" height=\"24px\"viewBox=\"0 0 24 24\"\n",
              "     width=\"24px\">\n",
              "    <g>\n",
              "        <path d=\"M19 3H5c-1.1 0-2 .9-2 2v14c0 1.1.9 2 2 2h14c1.1 0 2-.9 2-2V5c0-1.1-.9-2-2-2zM9 17H7v-7h2v7zm4 0h-2V7h2v10zm4 0h-2v-4h2v4z\"/>\n",
              "    </g>\n",
              "</svg>\n",
              "  </button>\n",
              "\n",
              "<style>\n",
              "  .colab-df-quickchart {\n",
              "      --bg-color: #E8F0FE;\n",
              "      --fill-color: #1967D2;\n",
              "      --hover-bg-color: #E2EBFA;\n",
              "      --hover-fill-color: #174EA6;\n",
              "      --disabled-fill-color: #AAA;\n",
              "      --disabled-bg-color: #DDD;\n",
              "  }\n",
              "\n",
              "  [theme=dark] .colab-df-quickchart {\n",
              "      --bg-color: #3B4455;\n",
              "      --fill-color: #D2E3FC;\n",
              "      --hover-bg-color: #434B5C;\n",
              "      --hover-fill-color: #FFFFFF;\n",
              "      --disabled-bg-color: #3B4455;\n",
              "      --disabled-fill-color: #666;\n",
              "  }\n",
              "\n",
              "  .colab-df-quickchart {\n",
              "    background-color: var(--bg-color);\n",
              "    border: none;\n",
              "    border-radius: 50%;\n",
              "    cursor: pointer;\n",
              "    display: none;\n",
              "    fill: var(--fill-color);\n",
              "    height: 32px;\n",
              "    padding: 0;\n",
              "    width: 32px;\n",
              "  }\n",
              "\n",
              "  .colab-df-quickchart:hover {\n",
              "    background-color: var(--hover-bg-color);\n",
              "    box-shadow: 0 1px 2px rgba(60, 64, 67, 0.3), 0 1px 3px 1px rgba(60, 64, 67, 0.15);\n",
              "    fill: var(--button-hover-fill-color);\n",
              "  }\n",
              "\n",
              "  .colab-df-quickchart-complete:disabled,\n",
              "  .colab-df-quickchart-complete:disabled:hover {\n",
              "    background-color: var(--disabled-bg-color);\n",
              "    fill: var(--disabled-fill-color);\n",
              "    box-shadow: none;\n",
              "  }\n",
              "\n",
              "  .colab-df-spinner {\n",
              "    border: 2px solid var(--fill-color);\n",
              "    border-color: transparent;\n",
              "    border-bottom-color: var(--fill-color);\n",
              "    animation:\n",
              "      spin 1s steps(1) infinite;\n",
              "  }\n",
              "\n",
              "  @keyframes spin {\n",
              "    0% {\n",
              "      border-color: transparent;\n",
              "      border-bottom-color: var(--fill-color);\n",
              "      border-left-color: var(--fill-color);\n",
              "    }\n",
              "    20% {\n",
              "      border-color: transparent;\n",
              "      border-left-color: var(--fill-color);\n",
              "      border-top-color: var(--fill-color);\n",
              "    }\n",
              "    30% {\n",
              "      border-color: transparent;\n",
              "      border-left-color: var(--fill-color);\n",
              "      border-top-color: var(--fill-color);\n",
              "      border-right-color: var(--fill-color);\n",
              "    }\n",
              "    40% {\n",
              "      border-color: transparent;\n",
              "      border-right-color: var(--fill-color);\n",
              "      border-top-color: var(--fill-color);\n",
              "    }\n",
              "    60% {\n",
              "      border-color: transparent;\n",
              "      border-right-color: var(--fill-color);\n",
              "    }\n",
              "    80% {\n",
              "      border-color: transparent;\n",
              "      border-right-color: var(--fill-color);\n",
              "      border-bottom-color: var(--fill-color);\n",
              "    }\n",
              "    90% {\n",
              "      border-color: transparent;\n",
              "      border-bottom-color: var(--fill-color);\n",
              "    }\n",
              "  }\n",
              "</style>\n",
              "\n",
              "  <script>\n",
              "    async function quickchart(key) {\n",
              "      const quickchartButtonEl =\n",
              "        document.querySelector('#' + key + ' button');\n",
              "      quickchartButtonEl.disabled = true;  // To prevent multiple clicks.\n",
              "      quickchartButtonEl.classList.add('colab-df-spinner');\n",
              "      try {\n",
              "        const charts = await google.colab.kernel.invokeFunction(\n",
              "            'suggestCharts', [key], {});\n",
              "      } catch (error) {\n",
              "        console.error('Error during call to suggestCharts:', error);\n",
              "      }\n",
              "      quickchartButtonEl.classList.remove('colab-df-spinner');\n",
              "      quickchartButtonEl.classList.add('colab-df-quickchart-complete');\n",
              "    }\n",
              "    (() => {\n",
              "      let quickchartButtonEl =\n",
              "        document.querySelector('#df-e844ccd5-f9ad-4a50-b0d9-5eae16d12931 button');\n",
              "      quickchartButtonEl.style.display =\n",
              "        google.colab.kernel.accessAllowed ? 'block' : 'none';\n",
              "    })();\n",
              "  </script>\n",
              "</div>\n",
              "\n",
              "    </div>\n",
              "  </div>\n"
            ],
            "application/vnd.google.colaboratory.intrinsic+json": {
              "type": "dataframe",
              "variable_name": "ma_block",
              "summary": "{\n  \"name\": \"ma_block\",\n  \"rows\": 4985,\n  \"fields\": [\n    {\n      \"column\": \"GEOID\",\n      \"properties\": {\n        \"dtype\": \"string\",\n        \"num_unique_values\": 4985,\n        \"samples\": [\n          \"250138107004\",\n          \"250173691005\",\n          \"250056312003\"\n        ],\n        \"semantic_type\": \"\",\n        \"description\": \"\"\n      }\n    },\n    {\n      \"column\": \"NAMELSAD\",\n      \"properties\": {\n        \"dtype\": \"category\",\n        \"num_unique_values\": 9,\n        \"samples\": [\n          \"Block Group 7\",\n          \"Block Group 2\",\n          \"Block Group 0\"\n        ],\n        \"semantic_type\": \"\",\n        \"description\": \"\"\n      }\n    },\n    {\n      \"column\": \"ALAND\",\n      \"properties\": {\n        \"dtype\": \"number\",\n        \"std\": 10474429.067946436,\n        \"min\": 0.0,\n        \"max\": 145186523.0,\n        \"num_unique_values\": 4971,\n        \"samples\": [\n          7575532.0,\n          175302.0,\n          3309742.0\n        ],\n        \"semantic_type\": \"\",\n        \"description\": \"\"\n      }\n    },\n    {\n      \"column\": \"AWATER\",\n      \"properties\": {\n        \"dtype\": \"number\",\n        \"std\": 36678266.22174398,\n        \"min\": 0.0,\n        \"max\": 2135828925.0,\n        \"num_unique_values\": 2897,\n        \"samples\": [\n          55448.0,\n          42112.0,\n          275875.0\n        ],\n        \"semantic_type\": \"\",\n        \"description\": \"\"\n      }\n    },\n    {\n      \"column\": \"INTPTLAT\",\n      \"properties\": {\n        \"dtype\": \"string\",\n        \"num_unique_values\": 4984,\n        \"samples\": [\n          \"+42.1494645\",\n          \"+42.3769778\",\n          \"+41.9292192\"\n        ],\n        \"semantic_type\": \"\",\n        \"description\": \"\"\n      }\n    },\n    {\n      \"column\": \"INTPTLON\",\n      \"properties\": {\n        \"dtype\": \"string\",\n        \"num_unique_values\": 4984,\n        \"samples\": [\n          \"-72.5961782\",\n          \"-71.2128383\",\n          \"-71.3130943\"\n        ],\n        \"semantic_type\": \"\",\n        \"description\": \"\"\n      }\n    },\n    {\n      \"column\": \"geometry\",\n      \"properties\": {\n        \"dtype\": \"geometry\",\n        \"num_unique_values\": 4985,\n        \"samples\": [\n          \"MULTIPOLYGON (((-72.58018599999997 42.14470300000005, -72.58002399999998 42.14547200000004, -72.57983799999994 42.146363000000065, -72.57968999999997 42.147077000000024, -72.57965399999995 42.147275000000036, -72.57963099999995 42.147399000000064, -72.57962499999996 42.14743400000003, -72.57960299999996 42.147552000000076, -72.57958599999995 42.147654000000045, -72.57961799999998 42.147906000000035, -72.57967599999995 42.148168000000055, -72.57968299999999 42.148202000000026, -72.57969199999997 42.14824100000004, -72.57992999999993 42.14931100000007, -72.58004099999994 42.14982700000007, -72.58010199999995 42.15017300000005, -72.57793099999998 42.15029000000004, -72.57721699999996 42.15033600000004, -72.57659799999993 42.150419000000056, -72.57568299999997 42.150562000000036, -72.57480399999997 42.15070700000007, -72.57500599999997 42.15148000000005, -72.57500999999996 42.15155200000004, -72.57498699999996 42.15164400000003, -72.57478499999996 42.15241300000008, -72.57472299999995 42.15265000000005, -72.57458199999996 42.153185000000065, -72.57451899999995 42.15340700000007, -72.57434499999994 42.153958000000046, -72.57368099999997 42.153534000000036, -72.57320299999998 42.15322500000008, -72.57273399999997 42.15294400000005, -72.57265099999995 42.15289500000006, -72.57218899999998 42.15266400000007, -72.57186299999995 42.152505000000076, -72.57140099999998 42.15228200000007, -72.57079099999999 42.151996000000054, -72.57049499999994 42.151895000000025, -72.56999399999995 42.15177500000004, -72.56942199999997 42.15162600000008, -72.56902499999995 42.15148400000004, -72.56875999999994 42.151369000000045, -72.56839999999994 42.15119500000003, -72.56796699999995 42.15093200000007, -72.56806599999999 42.150862000000075, -72.56907599999994 42.15042600000004, -72.56942799999996 42.15027800000007, -72.57018899999997 42.14995600000003, -72.57078499999994 42.14970100000005, -72.57214999999997 42.14911600000005, -72.57297399999999 42.14876600000008, -72.57332199999996 42.14863800000006, -72.57420399999995 42.14826400000004, -72.57456899999994 42.148160000000075, -72.57497999999998 42.14806200000004, -72.57549299999994 42.14795300000003, -72.57586799999996 42.147871000000066, -72.57640199999997 42.147755000000075, -72.57859199999996 42.14738200000005, -72.57872399999997 42.14735100000007, -72.57885899999997 42.14731900000004, -72.57898099999994 42.147259000000076, -72.57765399999994 42.14616200000006, -72.57695899999999 42.14559200000008, -72.57891999999998 42.144288000000074, -72.57905699999998 42.144210000000044, -72.57923799999998 42.144201000000066, -72.58026999999998 42.144307000000026, -72.58018599999997 42.14470300000005)))\",\n          \"MULTIPOLYGON (((-71.22069299999998 42.37798500000008, -71.22061199999996 42.378179000000046, -71.22056899999995 42.37825500000008, -71.22041899999994 42.37845200000004, -71.22032299999995 42.37852400000003, -71.22011999999995 42.37865000000005, -71.21992199999994 42.37875600000007, -71.21980999999994 42.37882700000006, -71.21969199999995 42.37892500000004, -71.21957999999995 42.37903200000005, -71.21946799999995 42.37910700000003, -71.21938199999994 42.37914200000006, -71.21923299999997 42.37918200000007, -71.21902999999998 42.37920900000006, -71.21880599999997 42.379260000000045, -71.21859799999999 42.379319000000066, -71.21843799999994 42.37935500000003, -71.21821399999999 42.37936600000006, -71.21805399999994 42.37939300000005, -71.21804699999996 42.37920800000006, -71.21799899999996 42.37918900000005, -71.21776899999998 42.37907500000006, -71.21750799999995 42.37900300000007, -71.21696299999996 42.37883300000004, -71.21606499999996 42.37855100000007, -71.21521999999999 42.37830800000006, -71.21480599999995 42.378202000000044, -71.21437199999997 42.378108000000054, -71.21354999999994 42.377886000000046, -71.21328399999999 42.37780500000008, -71.21271699999994 42.377639000000045, -71.21218499999998 42.377473000000066, -71.21186599999999 42.37738400000006, -71.21107299999994 42.377132000000074, -71.21022399999998 42.37686400000007, -71.20929799999993 42.37660000000005, -71.20883899999995 42.376442000000054, -71.20831199999998 42.37626800000004, -71.20760899999993 42.37723300000005, -71.20751299999995 42.37738500000006, -71.20722699999999 42.377811000000065, -71.20690099999996 42.37826600000005, -71.20668999999998 42.37847700000003, -71.20654199999996 42.37861600000008, -71.20633199999997 42.378772000000026, -71.20605299999994 42.37896100000006, -71.20587599999993 42.37905800000004, -71.20504899999997 42.37949500000008, -71.20496999999995 42.379436000000055, -71.20487899999995 42.37938500000007, -71.20361399999996 42.37888300000003, -71.20289899999995 42.37861200000003, -71.20535499999994 42.37652600000007, -71.20559399999996 42.37632600000006, -71.20596299999994 42.37600900000007, -71.20761899999997 42.374600000000044, -71.20780899999994 42.374438000000055, -71.20851499999998 42.37385000000006, -71.20881499999996 42.37391500000007, -71.20890799999995 42.373935000000074, -71.20898499999998 42.37395200000003, -71.20920599999994 42.374010000000055, -71.20937399999997 42.374074000000064, -71.20966199999998 42.37420400000008, -71.21011699999997 42.374434000000065, -71.21047699999997 42.374626000000035, -71.21066699999994 42.374716000000035, -71.21084099999996 42.37479700000006, -71.21115499999996 42.374970000000076, -71.21126799999996 42.37503300000003, -71.21205899999995 42.37538900000004, -71.21262699999994 42.375616000000036, -71.21292999999997 42.37572000000006, -71.21315999999996 42.375785000000064, -71.21346699999998 42.375864000000036, -71.21434899999997 42.376067000000035, -71.21547299999997 42.37631900000008, -71.21671099999998 42.376630000000034, -71.21736799999996 42.37679200000008, -71.21807799999993 42.37698400000005, -71.21891299999999 42.377207000000055, -71.21958499999994 42.377391000000046, -71.22030999999998 42.377604000000076, -71.22078899999997 42.37772600000005, -71.22069299999998 42.37798500000008)))\",\n          \"MULTIPOLYGON (((-71.32431499999996 41.928630000000055, -71.32399499999997 41.92900400000008, -71.32327899999996 41.92986600000006, -71.32253499999996 41.93074400000006, -71.32192499999996 41.93147700000003, -71.32155099999994 41.93193400000007, -71.32053799999994 41.93314600000008, -71.32009199999999 41.93368200000003, -71.31987199999998 41.93396300000006, -71.31976599999996 41.934093000000075, -71.31940099999997 41.93409600000007, -71.31894299999993 41.93409200000008, -71.31794499999995 41.93409200000008, -71.31748699999997 41.93409600000007, -71.31692199999998 41.93409500000007, -71.31679399999996 41.93409100000008, -71.31583499999994 41.934056000000055, -71.31579299999999 41.93405000000007, -71.31577199999998 41.93430100000006, -71.31575499999997 41.93481300000008, -71.31573699999996 41.936232000000075, -71.31572599999998 41.93644800000004, -71.31570599999998 41.936672000000044, -71.31565499999994 41.93688800000007, -71.31557099999998 41.93711500000006, -71.31542999999994 41.93736800000005, -71.31523599999997 41.93765600000006, -71.31514599999997 41.93777600000004, -71.31446999999997 41.93736900000005, -71.31402899999995 41.93713900000006, -71.31322899999998 41.93673400000006, -71.31270499999994 41.93647400000003, -71.31246899999996 41.936390000000074, -71.31236999999999 41.936356000000046, -71.31207299999994 41.93634700000007, -71.31178799999998 41.936364000000026, -71.31141999999994 41.93639500000006, -71.31113999999997 41.936401000000046, -71.31090699999999 41.93636600000008, -71.31061899999997 41.93628600000005, -71.31019399999997 41.93613800000003, -71.30941499999994 41.93585000000007, -71.30937299999994 41.935835000000054, -71.30916999999994 41.935707000000036, -71.30863199999999 41.93525200000005, -71.30857199999997 41.93520200000006, -71.30832199999998 41.93502500000005, -71.30826299999995 41.93499000000003, -71.30730099999994 41.93441900000005, -71.30715399999997 41.934334000000035, -71.30692699999997 41.934195000000045, -71.30671799999993 41.93408000000005, -71.30659899999995 41.93397900000008, -71.30601699999994 41.934037000000046, -71.30574099999995 41.93406600000003, -71.30494899999997 41.93414500000006, -71.30459899999994 41.934169000000054, -71.30427199999997 41.934169000000054, -71.30392099999995 41.93413600000008, -71.30369899999994 41.93410200000005, -71.30301599999996 41.93399100000005, -71.30225499999995 41.933865000000026, -71.30133999999998 41.93371600000006, -71.30076399999996 41.933632000000046, -71.30035299999997 41.93357100000003, -71.30051999999995 41.93327300000004, -71.30063099999995 41.93300000000005, -71.30065799999994 41.93294300000008, -71.30073499999997 41.93278200000003, -71.30093899999997 41.932330000000036, -71.30120799999997 41.93173000000007, -71.30131999999998 41.931467000000055, -71.30146999999994 41.93115300000005, -71.30151599999994 41.93107100000003, -71.30162499999994 41.930873000000076, -71.30176199999994 41.930642000000034, -71.30193099999997 41.93038900000005, -71.30212999999998 41.93013700000006, -71.30231399999997 41.92992700000008, -71.30252399999995 41.92969800000003, -71.30272799999995 41.92950200000007, -71.30317899999994 41.92908700000004, -71.30326199999996 41.92901600000005, -71.30346999999995 41.92883900000004, -71.30386299999998 41.92852700000003, -71.30438999999996 41.92815000000007, -71.30504599999995 41.927721000000076, -71.30562299999997 41.92736800000006, -71.30676999999997 41.92665500000004, -71.30776499999996 41.92603600000007, -71.30855299999996 41.92552900000004, -71.30921099999995 41.92512900000003, -71.31042899999994 41.92437300000006, -71.31166199999996 41.92361000000005, -71.31220599999995 41.92326200000008, -71.31255299999998 41.92303100000004, -71.31275699999998 41.92288700000006, -71.31304999999998 41.92268100000007, -71.31336899999997 41.92241500000006, -71.31345799999997 41.92253100000005, -71.31368799999996 41.922870000000046, -71.31396799999999 41.92327800000004, -71.31411699999995 41.923441000000025, -71.31426999999996 41.92354500000005, -71.31468099999995 41.92373100000003, -71.31513999999999 41.923898000000065, -71.31539199999997 41.92394100000007, -71.31563399999999 41.923933000000034, -71.31620699999996 41.92380700000007, -71.31645999999995 41.92376600000006, -71.31700399999994 41.92373800000007, -71.31781799999999 41.923685000000035, -71.31830999999994 41.92363400000005, -71.31866199999996 41.92358500000006, -71.31873899999994 41.92357300000003, -71.31892599999998 41.92354400000005, -71.31920199999996 41.92346800000007, -71.31955399999998 41.92333800000006, -71.31974099999996 41.923298000000045, -71.31986599999993 41.92329500000005, -71.32008499999995 41.923347000000035, -71.32050599999997 41.92343100000005, -71.32075199999997 41.92349500000006, -71.32090299999999 41.92359000000005, -71.32102299999997 41.923730000000035, -71.32114299999995 41.92396100000008, -71.32127399999996 41.92426300000005, -71.32144099999994 41.924671000000046, -71.32159999999993 41.92503800000003, -71.32169299999998 41.92529900000005, -71.32171299999999 41.925422000000026, -71.32169899999997 41.92589400000003, -71.32170799999994 41.92606100000006, -71.32173699999998 41.92618600000003, -71.32180899999997 41.926330000000064, -71.32200799999998 41.92663900000008, -71.32222799999994 41.92688500000003, -71.32252499999998 41.927156000000025, -71.32285299999995 41.92740900000007, -71.32360899999998 41.92796400000003, -71.32372799999996 41.92806500000006, -71.32386299999996 41.928180000000054, -71.32413299999996 41.92843300000004, -71.32431499999996 41.928630000000055)))\"\n        ],\n        \"semantic_type\": \"\",\n        \"description\": \"\"\n      }\n    }\n  ]\n}"
            }
          },
          "metadata": {},
          "execution_count": 12
        }
      ],
      "source": [
        "ma_block.head()"
      ]
    },
    {
      "cell_type": "code",
      "execution_count": 49,
      "id": "59a260df",
      "metadata": {
        "id": "59a260df",
        "outputId": "560a31d4-c21d-4af2-d2f0-3704180f4ad7",
        "colab": {
          "base_uri": "https://localhost:8080/",
          "height": 388
        }
      },
      "outputs": [
        {
          "output_type": "execute_result",
          "data": {
            "text/plain": [
              "<Axes: >"
            ]
          },
          "metadata": {},
          "execution_count": 49
        },
        {
          "output_type": "display_data",
          "data": {
            "text/plain": [
              "<Figure size 640x480 with 1 Axes>"
            ],
            "image/png": "[encoded data removed]"
          },
          "metadata": {}
        }
      ],
      "source": [
        "ma_block.plot(column=\"NAMELSAD\")"
      ]
    },
    {
      "cell_type": "markdown",
      "id": "dd1a4c21",
      "metadata": {
        "id": "dd1a4c21"
      },
      "source": [
        "###  Common Standards of Vector Data\n",
        "1. Points, Lines, and Polygon are not mixed together in one attribute table.\n",
        "    "
      ]
    },
    {
      "cell_type": "code",
      "execution_count": 50,
      "id": "1a1f9275",
      "metadata": {
        "id": "1a1f9275",
        "outputId": "b2f59392-f04b-4aa0-ed1f-6d4cc9e6f275",
        "colab": {
          "base_uri": "https://localhost:8080/"
        }
      },
      "outputs": [
        {
          "output_type": "stream",
          "name": "stdout",
          "text": [
            "mbta_stations\n",
            "['Point']\n",
            "\n",
            "mbta_lines\n",
            "['LineString' 'MultiLineString']\n",
            "\n",
            "ma_block\n",
            "['MultiPolygon']\n"
          ]
        }
      ],
      "source": [
        "print(\"mbta_stations\")\n",
        "print(mbta_stations.geometry.type.unique())\n",
        "\n",
        "print(\"\\nmbta_lines\")\n",
        "print(mbta_lines.geometry.type.unique())\n",
        "\n",
        "print(\"\\nma_block\")\n",
        "print(ma_block.geometry.type.unique())"
      ]
    },
    {
      "cell_type": "markdown",
      "id": "c127a50f",
      "metadata": {
        "id": "c127a50f"
      },
      "source": [
        "2. Features of similiar characteristics refered to as \"layer\".\n",
        "\n",
        "  - *mbta_lines* - Only contains features and attributes of MBTA subway tracks.\n",
        "  - *mbta_stations* - Only contains features and attributes of subway station stops.\n",
        "  - *ma_block* - Only contains features and attributes of census block groups."
      ]
    },
    {
      "cell_type": "markdown",
      "id": "24ec65b6",
      "metadata": {
        "id": "24ec65b6"
      },
      "source": [
        "### Metadata\n",
        "information about the data\n",
        "  - Who created the data?\n",
        "  - How it was obtained?\n",
        "  - Definition of attributes/fields.\n",
        "  - Limitations of the data.\n",
        "  \n",
        "Example:\n",
        "- https://www.mass.gov/info-details/massgis-data-municipalities\n",
        "- https://www2.census.gov/geo/pdfs/maps-data/data/tiger/tgrshp2020/2020_TIGER_GDB_Record_Layouts.pdf\n",
        "\n"
      ]
    },
    {
      "cell_type": "markdown",
      "id": "30be1541",
      "metadata": {
        "id": "30be1541"
      },
      "source": [
        "### Coordinate Reference System - CRS\n",
        "Let's plot all three layers on a single map."
      ]
    },
    {
      "cell_type": "code",
      "execution_count": 51,
      "id": "5789a17c",
      "metadata": {
        "id": "5789a17c",
        "outputId": "0fbc39c4-2049-4e60-81dc-7b3750d75450",
        "colab": {
          "base_uri": "https://localhost:8080/",
          "height": 444
        }
      },
      "outputs": [
        {
          "output_type": "display_data",
          "data": {
            "text/plain": [
              "<Figure size 500x500 with 1 Axes>"
            ],
            "image/png": "[encoded data removed]"
          },
          "metadata": {}
        }
      ],
      "source": [
        "fig, ax = plt.subplots(figsize=(5, 5))\n",
        "\n",
        "for ctype, data in mbta_lines.groupby('LINE'):\n",
        "    color = subway_colors[ctype]\n",
        "    data.plot(color=color, ax=ax, label=ctype)\n",
        "\n",
        "ax.legend(bbox_to_anchor=(1.5, .5), prop={'size': 12})\n",
        "ax.set(title='MBTA Subway Lines')\n",
        "ax.set_axis_off()\n",
        "\n",
        "mbta_stations.plot(ax=ax, color=\"black\", zorder=1)  # MBTA Stations layer\n",
        "ma_block.plot(ax=ax) # MA Group Block layer\n",
        "\n",
        "plt.show()"
      ]
    },
    {
      "cell_type": "code",
      "execution_count": 32,
      "id": "dd63846b",
      "metadata": {
        "id": "dd63846b",
        "outputId": "10122c59-46bb-45b6-ab91-2a34440fb5e3",
        "colab": {
          "base_uri": "https://localhost:8080/"
        }
      },
      "outputs": [
        {
          "output_type": "stream",
          "name": "stdout",
          "text": [
            "mbta_lines CRS\n",
            "EPSG:26986\n",
            "\n",
            "mbta_stations CRS\n",
            "EPSG:26986\n",
            "\n",
            "ma_block CRS\n",
            "EPSG:4269\n"
          ]
        }
      ],
      "source": [
        "print(\"mbta_lines CRS\")\n",
        "print(mbta_lines.crs)\n",
        "print(\"\\nmbta_stations CRS\")\n",
        "print(mbta_stations.crs)\n",
        "print(\"\\nma_block CRS\")\n",
        "print(ma_block.crs)"
      ]
    },
    {
      "cell_type": "markdown",
      "id": "d4198d61",
      "metadata": {
        "id": "d4198d61"
      },
      "source": [
        "# 6. Coordinate Reference System\n",
        "\n",
        "__Geographic coordinate system__ and __projections__ are known as Coordinate Reference System (__CRS__) in GIS."
      ]
    },
    {
      "cell_type": "markdown",
      "id": "4d1ccc07",
      "metadata": {
        "id": "4d1ccc07"
      },
      "source": [
        "### GeoPandas CRS Functions\n",
        "\n",
        "<table>\n",
        "<colgroup>\n",
        "<col style=\"width: 10%\" />\n",
        "<col style=\"width: 90%\" />\n",
        "</colgroup>\n",
        "<tbody>\n",
        "<tr ><td><p><a href=\"https://geopandas.org/docs/reference/api/geopandas.GeoDataFrame.crs.html#geopandas.GeoDataFrame.crs\">GeoDataFrame.crs</a></p></td>\n",
        "<td><p>The Coordinate Reference System (CRS) represented as a pyproj.CRSobject.</p></td>\n",
        "</tr>\n",
        "<tr><td><p><a href=\"https://geopandas.org/docs/reference/api/geopandas.GeoDataFrame.to_crs.html#geopandas.GeoDataFrame.to_crs\">GeoDataFrame.to_crs()</a></p></td>\n",
        "<td><p>Transform geometries to a new coordinate reference system.</p></td>\n",
        "</tr>\n",
        "<tr><td><p><a href=\"https://geopandas.org/docs/reference/api/geopandas.GeoDataFrame.set_crs.html#geopandas.GeoDataFrame.set_crs\">GeoDataFrame.set_crs()</a></p></td>\n",
        "    <td><p>Set the Coordinate Reference System (CRS) of the GeoDataFrame. <b>### Only use if data does not have CRS defined! ###</b></p></td>\n",
        "</tr>\n",
        "</tbody>\n",
        "</table>\n",
        "\n"
      ]
    },
    {
      "cell_type": "markdown",
      "id": "4013fa08",
      "metadata": {
        "id": "4013fa08"
      },
      "source": [
        "### GeoPandas Accepted Definitions\n",
        "\n",
        "\n",
        "- CRS WKT string\n",
        "- __An authority string (i.e. “epsg:4326”)__\n",
        "- __An EPSG integer code (i.e. 4326)__\n",
        "- A pyproj.CRS\n",
        "- An object with a to_wkt method.\n",
        "- PROJ string\n",
        "- Dictionary of PROJ parameters\n",
        "- PROJ keyword arguments for parameters\n",
        "- JSON string with PROJ parameters\n",
        "\n",
        "<sup> source: https://geopandas.org/docs/user_guide/projections.html </sup>"
      ]
    },
    {
      "cell_type": "markdown",
      "id": "baba2108",
      "metadata": {
        "id": "baba2108"
      },
      "source": [
        "### EPSG Codes\n",
        "\n",
        "You can find library of EPSG codes at: https://spatialreference.org/"
      ]
    },
    {
      "cell_type": "markdown",
      "id": "b3465de2",
      "metadata": {
        "id": "b3465de2"
      },
      "source": [
        "### Let's Play Around with CRS"
      ]
    },
    {
      "cell_type": "code",
      "execution_count": 66,
      "id": "4d5f3c8b",
      "metadata": {
        "scrolled": true,
        "id": "4d5f3c8b",
        "outputId": "2d3415aa-629a-4627-8e10-897a2872f400",
        "colab": {
          "base_uri": "https://localhost:8080/",
          "height": 443
        }
      },
      "outputs": [
        {
          "output_type": "error",
          "ename": "DataSourceError",
          "evalue": "'/vsizip/www.naturalearthdata.com/download/110m/cultural/ne_110m_admin_0_countries.zip' does not exist in the file system, and is not recognized as a supported dataset name.",
          "traceback": [
            "\u001b[0;31m---------------------------------------------------------------------------\u001b[0m",
            "\u001b[0;31mDataSourceError\u001b[0m                           Traceback (most recent call last)",
            "\u001b[0;32m<ipython-input-66-2700b1598d1b>\u001b[0m in \u001b[0;36m<cell line: 0>\u001b[0;34m()\u001b[0m\n\u001b[0;32m----> 1\u001b[0;31m \u001b[0mworld\u001b[0m \u001b[0;34m=\u001b[0m \u001b[0mgeopandas\u001b[0m\u001b[0;34m.\u001b[0m\u001b[0mread_file\u001b[0m\u001b[0;34m(\u001b[0m\u001b[0;34m\"zip://www.naturalearthdata.com/download/110m/cultural/ne_110m_admin_0_countries.zip\"\u001b[0m\u001b[0;34m)\u001b[0m\u001b[0;34m\u001b[0m\u001b[0;34m\u001b[0m\u001b[0m\n\u001b[0m\u001b[1;32m      2\u001b[0m \u001b[0mworld\u001b[0m\u001b[0;34m.\u001b[0m\u001b[0mcrs\u001b[0m\u001b[0;34m\u001b[0m\u001b[0;34m\u001b[0m\u001b[0m\n",
            "\u001b[0;32m/usr/local/lib/python3.11/dist-packages/geopandas/io/file.py\u001b[0m in \u001b[0;36m_read_file\u001b[0;34m(filename, bbox, mask, columns, rows, engine, **kwargs)\u001b[0m\n\u001b[1;32m    292\u001b[0m \u001b[0;34m\u001b[0m\u001b[0m\n\u001b[1;32m    293\u001b[0m     \u001b[0;32mif\u001b[0m \u001b[0mengine\u001b[0m \u001b[0;34m==\u001b[0m \u001b[0;34m\"pyogrio\"\u001b[0m\u001b[0;34m:\u001b[0m\u001b[0;34m\u001b[0m\u001b[0;34m\u001b[0m\u001b[0m\n\u001b[0;32m--> 294\u001b[0;31m         return _read_file_pyogrio(\n\u001b[0m\u001b[1;32m    295\u001b[0m             \u001b[0mfilename\u001b[0m\u001b[0;34m,\u001b[0m \u001b[0mbbox\u001b[0m\u001b[0;34m=\u001b[0m\u001b[0mbbox\u001b[0m\u001b[0;34m,\u001b[0m \u001b[0mmask\u001b[0m\u001b[0;34m=\u001b[0m\u001b[0mmask\u001b[0m\u001b[0;34m,\u001b[0m \u001b[0mcolumns\u001b[0m\u001b[0;34m=\u001b[0m\u001b[0mcolumns\u001b[0m\u001b[0;34m,\u001b[0m \u001b[0mrows\u001b[0m\u001b[0;34m=\u001b[0m\u001b[0mrows\u001b[0m\u001b[0;34m,\u001b[0m \u001b[0;34m**\u001b[0m\u001b[0mkwargs\u001b[0m\u001b[0;34m\u001b[0m\u001b[0;34m\u001b[0m\u001b[0m\n\u001b[1;32m    296\u001b[0m         )\n",
            "\u001b[0;32m/usr/local/lib/python3.11/dist-packages/geopandas/io/file.py\u001b[0m in \u001b[0;36m_read_file_pyogrio\u001b[0;34m(path_or_bytes, bbox, mask, rows, **kwargs)\u001b[0m\n\u001b[1;32m    545\u001b[0m         \u001b[0mkwargs\u001b[0m\u001b[0;34m[\u001b[0m\u001b[0;34m\"columns\"\u001b[0m\u001b[0;34m]\u001b[0m \u001b[0;34m=\u001b[0m \u001b[0mkwargs\u001b[0m\u001b[0;34m.\u001b[0m\u001b[0mpop\u001b[0m\u001b[0;34m(\u001b[0m\u001b[0;34m\"include_fields\"\u001b[0m\u001b[0;34m)\u001b[0m\u001b[0;34m\u001b[0m\u001b[0;34m\u001b[0m\u001b[0m\n\u001b[1;32m    546\u001b[0m \u001b[0;34m\u001b[0m\u001b[0m\n\u001b[0;32m--> 547\u001b[0;31m     \u001b[0;32mreturn\u001b[0m \u001b[0mpyogrio\u001b[0m\u001b[0;34m.\u001b[0m\u001b[0mread_dataframe\u001b[0m\u001b[0;34m(\u001b[0m\u001b[0mpath_or_bytes\u001b[0m\u001b[0;34m,\u001b[0m \u001b[0mbbox\u001b[0m\u001b[0;34m=\u001b[0m\u001b[0mbbox\u001b[0m\u001b[0;34m,\u001b[0m \u001b[0;34m**\u001b[0m\u001b[0mkwargs\u001b[0m\u001b[0;34m)\u001b[0m\u001b[0;34m\u001b[0m\u001b[0;34m\u001b[0m\u001b[0m\n\u001b[0m\u001b[1;32m    548\u001b[0m \u001b[0;34m\u001b[0m\u001b[0m\n\u001b[1;32m    549\u001b[0m \u001b[0;34m\u001b[0m\u001b[0m\n",
            "\u001b[0;32m/usr/local/lib/python3.11/dist-packages/pyogrio/geopandas.py\u001b[0m in \u001b[0;36mread_dataframe\u001b[0;34m(path_or_buffer, layer, encoding, columns, read_geometry, force_2d, skip_features, max_features, where, bbox, mask, fids, sql, sql_dialect, fid_as_index, use_arrow, on_invalid, arrow_to_pandas_kwargs, **kwargs)\u001b[0m\n\u001b[1;32m    263\u001b[0m         \u001b[0;31m# as numpy does not directly support timezones.\u001b[0m\u001b[0;34m\u001b[0m\u001b[0;34m\u001b[0m\u001b[0m\n\u001b[1;32m    264\u001b[0m         \u001b[0mkwargs\u001b[0m\u001b[0;34m[\u001b[0m\u001b[0;34m\"datetime_as_string\"\u001b[0m\u001b[0;34m]\u001b[0m \u001b[0;34m=\u001b[0m \u001b[0;32mTrue\u001b[0m\u001b[0;34m\u001b[0m\u001b[0;34m\u001b[0m\u001b[0m\n\u001b[0;32m--> 265\u001b[0;31m     result = read_func(\n\u001b[0m\u001b[1;32m    266\u001b[0m         \u001b[0mpath_or_buffer\u001b[0m\u001b[0;34m,\u001b[0m\u001b[0;34m\u001b[0m\u001b[0;34m\u001b[0m\u001b[0m\n\u001b[1;32m    267\u001b[0m         \u001b[0mlayer\u001b[0m\u001b[0;34m=\u001b[0m\u001b[0mlayer\u001b[0m\u001b[0;34m,\u001b[0m\u001b[0;34m\u001b[0m\u001b[0;34m\u001b[0m\u001b[0m\n",
            "\u001b[0;32m/usr/local/lib/python3.11/dist-packages/pyogrio/raw.py\u001b[0m in \u001b[0;36mread\u001b[0;34m(path_or_buffer, layer, encoding, columns, read_geometry, force_2d, skip_features, max_features, where, bbox, mask, fids, sql, sql_dialect, return_fids, datetime_as_string, **kwargs)\u001b[0m\n\u001b[1;32m    196\u001b[0m     \u001b[0mdataset_kwargs\u001b[0m \u001b[0;34m=\u001b[0m \u001b[0m_preprocess_options_key_value\u001b[0m\u001b[0;34m(\u001b[0m\u001b[0mkwargs\u001b[0m\u001b[0;34m)\u001b[0m \u001b[0;32mif\u001b[0m \u001b[0mkwargs\u001b[0m \u001b[0;32melse\u001b[0m \u001b[0;34m{\u001b[0m\u001b[0;34m}\u001b[0m\u001b[0;34m\u001b[0m\u001b[0;34m\u001b[0m\u001b[0m\n\u001b[1;32m    197\u001b[0m \u001b[0;34m\u001b[0m\u001b[0m\n\u001b[0;32m--> 198\u001b[0;31m     return ogr_read(\n\u001b[0m\u001b[1;32m    199\u001b[0m         \u001b[0mget_vsi_path_or_buffer\u001b[0m\u001b[0;34m(\u001b[0m\u001b[0mpath_or_buffer\u001b[0m\u001b[0;34m)\u001b[0m\u001b[0;34m,\u001b[0m\u001b[0;34m\u001b[0m\u001b[0;34m\u001b[0m\u001b[0m\n\u001b[1;32m    200\u001b[0m         \u001b[0mlayer\u001b[0m\u001b[0;34m=\u001b[0m\u001b[0mlayer\u001b[0m\u001b[0;34m,\u001b[0m\u001b[0;34m\u001b[0m\u001b[0;34m\u001b[0m\u001b[0m\n",
            "\u001b[0;32mpyogrio/_io.pyx\u001b[0m in \u001b[0;36mpyogrio._io.ogr_read\u001b[0;34m()\u001b[0m\n",
            "\u001b[0;32mpyogrio/_io.pyx\u001b[0m in \u001b[0;36mpyogrio._io.ogr_open\u001b[0;34m()\u001b[0m\n",
            "\u001b[0;31mDataSourceError\u001b[0m: '/vsizip/www.naturalearthdata.com/download/110m/cultural/ne_110m_admin_0_countries.zip' does not exist in the file system, and is not recognized as a supported dataset name."
          ]
        }
      ],
      "source": [
        "world = geopandas.read_file(\"zip://www.naturalearthdata.com/download/110m/cultural/ne_110m_admin_0_countries.zip\")\n",
        "world.crs"
      ]
    },
    {
      "cell_type": "code",
      "source": [
        "geopandas.datasets.available"
      ],
      "metadata": {
        "id": "ab35DCnEuh26",
        "outputId": "ef7a9bcc-0a60-4a0e-fc58-32b4fbf6f5bd",
        "colab": {
          "base_uri": "https://localhost:8080/"
        }
      },
      "id": "ab35DCnEuh26",
      "execution_count": 65,
      "outputs": [
        {
          "output_type": "execute_result",
          "data": {
            "text/plain": [
              "[]"
            ]
          },
          "metadata": {},
          "execution_count": 65
        }
      ]
    },
    {
      "cell_type": "code",
      "execution_count": null,
      "id": "6361698c",
      "metadata": {
        "id": "6361698c"
      },
      "outputs": [],
      "source": [
        "world.head()"
      ]
    },
    {
      "cell_type": "code",
      "execution_count": null,
      "id": "7361dd5b",
      "metadata": {
        "id": "7361dd5b"
      },
      "outputs": [],
      "source": [
        "world.plot()"
      ]
    },
    {
      "cell_type": "code",
      "execution_count": null,
      "id": "20913fd2",
      "metadata": {
        "id": "20913fd2"
      },
      "outputs": [],
      "source": [
        "tissots = geopandas.read_file(\"tutorial_files/tissots_circles/Tissots_circles.shp\")\n",
        "\n",
        "if(world.crs != tissots.crs):\n",
        "    print(\"CRS doesn't match.  Cannot plot.\")\n",
        "else:\n",
        "    base = tissots.plot()\n",
        "    world.boundary.plot(ax=base, color=\"black\")\n"
      ]
    },
    {
      "cell_type": "markdown",
      "id": "84366311",
      "metadata": {
        "id": "84366311"
      },
      "source": [
        "### Projections\n",
        "\n",
        "- Lets convert to \"WGS 84 / Australian Antarctic Polar Stereographic\" projection."
      ]
    },
    {
      "cell_type": "code",
      "execution_count": null,
      "id": "5b0b9071",
      "metadata": {
        "id": "5b0b9071"
      },
      "outputs": [],
      "source": [
        "world_3031 = world.to_crs(\"epsg:3031\")\n",
        "tissots_3031 = tissots.to_crs(\"epsg:3031\")\n",
        "world_3031.crs"
      ]
    },
    {
      "cell_type": "code",
      "execution_count": null,
      "id": "21ca2527",
      "metadata": {
        "id": "21ca2527"
      },
      "outputs": [],
      "source": [
        "import pyproj\n",
        "pyproj.datadir.get_data_dir()"
      ]
    },
    {
      "cell_type": "code",
      "execution_count": null,
      "id": "8f76b1f5",
      "metadata": {
        "id": "8f76b1f5"
      },
      "outputs": [],
      "source": [
        "if(world_3031.crs != tissots_3031.crs):\n",
        "    print(\"CRS doesn't match.  Cannot plot.\")\n",
        "else:\n",
        "    base = tissots_3031.plot()\n",
        "    world_3031.boundary.plot(ax=base, color=\"black\")"
      ]
    },
    {
      "cell_type": "code",
      "execution_count": null,
      "id": "59d88c69",
      "metadata": {
        "id": "59d88c69"
      },
      "outputs": [],
      "source": [
        "world_3031.columns"
      ]
    },
    {
      "cell_type": "code",
      "execution_count": null,
      "id": "3af55588",
      "metadata": {
        "id": "3af55588"
      },
      "outputs": [],
      "source": [
        "antartica = world_3031[world_3031[\"continent\"] == \"Antarctica\"]\n",
        "antartica.plot()"
      ]
    },
    {
      "cell_type": "code",
      "execution_count": null,
      "id": "234b869c",
      "metadata": {
        "id": "234b869c"
      },
      "outputs": [],
      "source": [
        "antartica.total_bounds"
      ]
    },
    {
      "cell_type": "code",
      "execution_count": null,
      "id": "7ee58873",
      "metadata": {
        "id": "7ee58873"
      },
      "outputs": [],
      "source": [
        "xmin, ymin, xmax, ymax = antartica.total_bounds\n",
        "\n",
        "if(world_3031.crs != tissots_3031.crs):\n",
        "    print(\"CRS doesn't match.  Cannot plot.\")\n",
        "else:\n",
        "    base = tissots_3031.plot()\n",
        "    base.set_xlim(xmin*(1+4), xmax*(1+4))\n",
        "    base.set_ylim(ymin*(1+4), ymax*(1+4))\n",
        "\n",
        "    world_3031.boundary.plot(ax=base, color=\"black\")"
      ]
    },
    {
      "cell_type": "markdown",
      "id": "1a65b21f",
      "metadata": {
        "id": "1a65b21f"
      },
      "source": [
        "### Additional Resources\n",
        "\n",
        "- <a href=\"http://geokov.com/education/map-projection.aspx\">Map Projections - types and distortion patterns</a>\n",
        "- <a href=\"https://www.axismaps.com/guide/general/map-projections/\">Map Projections</a>\n",
        "- <a href=\"https://alastaira.wordpress.com/2011/01/23/the-google-maps-bing-maps-spherical-mercator-projection/\">The Google Maps / Bing Maps Spherical Mercator Projection</a>\n",
        "- <a href=\"http://bl.ocks.org/syntagmatic/raw/ba569633d51ebec6ec6e/\">Exploratory Projection Widget</a>\n",
        "- <a href=\"https://www.earthdatascience.org/\">Earth Lab</a>"
      ]
    },
    {
      "cell_type": "markdown",
      "id": "ce0e7631",
      "metadata": {
        "id": "ce0e7631"
      },
      "source": [
        "# Back to our Example"
      ]
    },
    {
      "cell_type": "code",
      "execution_count": null,
      "id": "6e72ea30",
      "metadata": {
        "id": "6e72ea30"
      },
      "outputs": [],
      "source": [
        "print(\"mbta_lines CRS\")\n",
        "print(mbta_lines.crs)\n",
        "print(\"\\nmbta_stations CRS\")\n",
        "print(mbta_stations.crs)\n",
        "print(\"\\nma_block CRS\")\n",
        "print(ma_block.crs)"
      ]
    },
    {
      "cell_type": "code",
      "execution_count": null,
      "id": "6b6ea6d1",
      "metadata": {
        "id": "6b6ea6d1"
      },
      "outputs": [],
      "source": [
        "ma_block_proj = ma_block.to_crs(mbta_lines.crs)"
      ]
    },
    {
      "cell_type": "code",
      "execution_count": null,
      "id": "79b51965",
      "metadata": {
        "id": "79b51965"
      },
      "outputs": [],
      "source": [
        "fig, ax = plt.subplots(figsize=(10, 5))\n",
        "for ctype, data in mbta_lines.groupby('LINE'):\n",
        "    color = subway_colors[ctype]\n",
        "    data.plot(color=color,\n",
        "              ax=ax,\n",
        "              label=ctype)\n",
        "ax.legend(bbox_to_anchor=(0.5, .5), prop={'size': 12})\n",
        "ax.set(title='MBTA Subway Lines')\n",
        "ax.set_axis_off()\n",
        "mbta_stations.plot(ax=ax, color=\"black\", zorder=1)\n",
        "ma_block_proj.plot(ax=ax,column=\"NAMELSAD\", alpha=0.5)\n",
        "plt.show()"
      ]
    },
    {
      "cell_type": "code",
      "execution_count": null,
      "id": "eaf12b4a",
      "metadata": {
        "id": "eaf12b4a"
      },
      "outputs": [],
      "source": [
        "bounds = mbta_lines.to_crs(\"EPSG:4269\").total_bounds"
      ]
    },
    {
      "cell_type": "code",
      "execution_count": null,
      "id": "3ef86f1d",
      "metadata": {
        "id": "3ef86f1d"
      },
      "outputs": [],
      "source": [
        "ma_block = geopandas.read_file(gdp_path, layer=\"Block_Group\", bbox=tuple(bounds))\n",
        "ma_block.plot(column=\"NAMELSAD\", alpha=0.5)"
      ]
    },
    {
      "cell_type": "code",
      "execution_count": null,
      "id": "36a66224",
      "metadata": {
        "id": "36a66224"
      },
      "outputs": [],
      "source": [
        "# Need to convert to Mass Projection.\n",
        "ma_block_proj = ma_block.to_crs(mbta_lines.crs)"
      ]
    },
    {
      "cell_type": "code",
      "execution_count": null,
      "id": "0d2932f9",
      "metadata": {
        "id": "0d2932f9"
      },
      "outputs": [],
      "source": [
        "fig, ax = plt.subplots()\n",
        "for ctype, data in mbta_lines.groupby('LINE'):\n",
        "    color = subway_colors[ctype]\n",
        "    data.plot(color=color, ax=ax, label=ctype)\n",
        "ax.legend(bbox_to_anchor=(1, .5), prop={'size': 12})\n",
        "ax.set(title='MBTA Subway Lines')\n",
        "ax.set_axis_off()\n",
        "mbta_stations.plot(ax=ax, color=\"black\", zorder=1, alpha=1)\n",
        "ma_block_proj.plot(ax=ax, zorder=0, column=\"NAMELSAD\", alpha=0.25, edgecolor=\"black\")\n",
        "plt.show()"
      ]
    },
    {
      "cell_type": "markdown",
      "id": "1319b11a",
      "metadata": {
        "id": "1319b11a"
      },
      "source": [
        "# 7. Spatial Feature Attributes\n",
        "- This is focused on just one layer.\n",
        "- What is the length/area of each feature?\n",
        "- What is the distance from one feature to another?"
      ]
    },
    {
      "cell_type": "markdown",
      "id": "3d9c7a36",
      "metadata": {
        "id": "3d9c7a36"
      },
      "source": [
        "### Area"
      ]
    },
    {
      "cell_type": "code",
      "execution_count": null,
      "id": "9da5f7fd",
      "metadata": {
        "id": "9da5f7fd"
      },
      "outputs": [],
      "source": [
        "ma_block.columns"
      ]
    },
    {
      "cell_type": "code",
      "execution_count": null,
      "id": "63726d89",
      "metadata": {
        "id": "63726d89"
      },
      "outputs": [],
      "source": [
        "ma_block.area"
      ]
    },
    {
      "cell_type": "code",
      "execution_count": null,
      "id": "9843bdef",
      "metadata": {
        "id": "9843bdef"
      },
      "outputs": [],
      "source": [
        "ma_block.crs"
      ]
    },
    {
      "cell_type": "code",
      "execution_count": null,
      "id": "57751473",
      "metadata": {
        "id": "57751473"
      },
      "outputs": [],
      "source": [
        "ma_block_proj = ma_block.to_crs(\"EPSG:26986\")\n",
        "ma_block_proj.crs"
      ]
    },
    {
      "cell_type": "code",
      "execution_count": null,
      "id": "03e0923a",
      "metadata": {
        "id": "03e0923a"
      },
      "outputs": [],
      "source": [
        "ma_block_proj.area"
      ]
    },
    {
      "cell_type": "code",
      "execution_count": null,
      "id": "da4b423e",
      "metadata": {
        "id": "da4b423e"
      },
      "outputs": [],
      "source": [
        "ma_block_proj[\"area\"] = ma_block_proj.area\n",
        "ma_block_proj.head()"
      ]
    },
    {
      "cell_type": "markdown",
      "id": "e12582cb",
      "metadata": {
        "id": "e12582cb"
      },
      "source": [
        "What are the units of *area*?"
      ]
    },
    {
      "cell_type": "markdown",
      "id": "dd5b0d35",
      "metadata": {
        "id": "dd5b0d35"
      },
      "source": [
        "### Perimeter"
      ]
    },
    {
      "cell_type": "code",
      "execution_count": null,
      "id": "ded21324",
      "metadata": {
        "id": "ded21324"
      },
      "outputs": [],
      "source": [
        "ma_block_proj[\"perimeter_m\"] = ma_block_proj.length\n",
        "ma_block_proj.head()"
      ]
    },
    {
      "cell_type": "markdown",
      "id": "13eb9262",
      "metadata": {
        "id": "13eb9262"
      },
      "source": [
        "### Centroid"
      ]
    },
    {
      "cell_type": "code",
      "execution_count": null,
      "id": "129fedab",
      "metadata": {
        "id": "129fedab"
      },
      "outputs": [],
      "source": [
        "ma_block_proj[\"centroid\"] = ma_block_proj.centroid\n",
        "ma_block_proj.head()"
      ]
    },
    {
      "cell_type": "code",
      "execution_count": null,
      "id": "b7c36f0f",
      "metadata": {
        "id": "b7c36f0f"
      },
      "outputs": [],
      "source": [
        "ma_block_proj.dtypes"
      ]
    },
    {
      "cell_type": "markdown",
      "id": "7d980c4f",
      "metadata": {
        "id": "7d980c4f"
      },
      "source": [
        "Note that there are two geometry columns!"
      ]
    },
    {
      "cell_type": "code",
      "execution_count": null,
      "id": "5660fc7b",
      "metadata": {
        "id": "5660fc7b"
      },
      "outputs": [],
      "source": [
        "ma_block_proj.plot(column=\"NAMELSAD\")"
      ]
    },
    {
      "cell_type": "code",
      "execution_count": null,
      "id": "ae1ab343",
      "metadata": {
        "id": "ae1ab343"
      },
      "outputs": [],
      "source": [
        "ma_block_proj.geometry.name"
      ]
    },
    {
      "cell_type": "code",
      "execution_count": null,
      "id": "a4eca3b4",
      "metadata": {
        "id": "a4eca3b4"
      },
      "outputs": [],
      "source": [
        "ma_block_proj = ma_block_proj.set_geometry('centroid')\n",
        "ma_block_proj.plot(column=\"NAMELSAD\")"
      ]
    },
    {
      "cell_type": "code",
      "execution_count": null,
      "id": "1465b884",
      "metadata": {
        "id": "1465b884"
      },
      "outputs": [],
      "source": [
        "ma_block_proj = ma_block_proj.set_geometry('geometry')"
      ]
    },
    {
      "cell_type": "markdown",
      "id": "d7bfe438",
      "metadata": {
        "id": "d7bfe438"
      },
      "source": [
        "# 8. Spatial Processing\n",
        "Spatial Processing allows us to ask questions regarding two layers.\n",
        "- What are the nearest block groups to Kenmore Station?\n",
        "- Which block groups have an MBTA station?\n",
        "- Which block groups have MBTA lines that pass through them?\n",
        "- Which block groups are within one mile radius of MBTA tracks?"
      ]
    },
    {
      "cell_type": "markdown",
      "id": "9742e404",
      "metadata": {
        "id": "9742e404"
      },
      "source": [
        "### Distance\n",
        "What are the nearest block groups to Kenmore station?"
      ]
    },
    {
      "cell_type": "code",
      "execution_count": null,
      "id": "25d64948",
      "metadata": {
        "id": "25d64948"
      },
      "outputs": [],
      "source": [
        "kenmore_station = mbta_stations.loc[mbta_stations['STATION'] == \"Kenmore\"]\n",
        "\n",
        "type(kenmore_station.geometry.iloc[0])"
      ]
    },
    {
      "cell_type": "code",
      "execution_count": null,
      "id": "e926dbdf",
      "metadata": {
        "id": "e926dbdf"
      },
      "outputs": [],
      "source": [
        "ma_block_proj[\"dist_to_kenmore_m\"] = ma_block_proj.distance(kenmore_station.geometry.iloc[0])\n",
        "ma_block_proj.head(n=3)"
      ]
    },
    {
      "cell_type": "code",
      "execution_count": null,
      "id": "da127681",
      "metadata": {
        "id": "da127681"
      },
      "outputs": [],
      "source": [
        "near_kenmore = ma_block_proj.sort_values(['dist_to_kenmore_m'], ascending=[True]).head(n=5)\n",
        "\n",
        "base = near_kenmore.plot(column=\"NAMELSAD\")\n",
        "kenmore_station.plot(ax=base, zorder=2, color=\"black\")"
      ]
    },
    {
      "cell_type": "markdown",
      "id": "2ca3a7f4",
      "metadata": {
        "id": "2ca3a7f4"
      },
      "source": [
        "### Within\n",
        "Which Census Block Groups have an MBTA Station?"
      ]
    },
    {
      "cell_type": "code",
      "execution_count": null,
      "id": "d50cb0db",
      "metadata": {
        "id": "d50cb0db"
      },
      "outputs": [],
      "source": [
        "ma_block_proj[\"w_station\"] = ma_block_proj.geometry.apply(lambda x: mbta_stations.geometry.within(x).any())\n",
        "ma_block_proj.head(n=3)"
      ]
    },
    {
      "cell_type": "code",
      "execution_count": null,
      "id": "cd679aff",
      "metadata": {
        "id": "cd679aff"
      },
      "outputs": [],
      "source": [
        "base = ma_block_proj.plot(column=\"w_station\", legend=True, categorical=True, cmap=\"Paired\")\n",
        "mbta_lines.plot(ax=base, color=\"black\", alpha=0.5)"
      ]
    },
    {
      "cell_type": "markdown",
      "id": "002d73d9",
      "metadata": {
        "id": "002d73d9"
      },
      "source": [
        "### Spatial Join\n",
        "- Joining the attributes of two layers based on their spatial location to each other.\n",
        "- Spatial joins are normally done with point and polygon layers, line and polygon layers, or line and line layers."
      ]
    },
    {
      "cell_type": "markdown",
      "id": "022d3d2c",
      "metadata": {
        "id": "022d3d2c"
      },
      "source": [
        "__Contains__ - Do any points exist inside the polygon?\n",
        "<img src=\"https://github.com/milechin/tut_geopandas/blob/main/files/images/sjoin_contains.png?raw=1\" alt=\"compass\" style=\"width:500px\"/>    \n",
        "\n",
        "\n",
        "Note: Since three points exist within the polygon, the ouput of this process will result in 3 identical polygons but will have different attributes representing each point."
      ]
    },
    {
      "cell_type": "markdown",
      "id": "ae14b712",
      "metadata": {
        "id": "ae14b712"
      },
      "source": [
        "### Example"
      ]
    },
    {
      "cell_type": "code",
      "execution_count": null,
      "id": "0cc028a7",
      "metadata": {
        "id": "0cc028a7"
      },
      "outputs": [],
      "source": [
        "print(\"ma_block_proj\")\n",
        "print(ma_block_proj.columns)\n",
        "print(\"\\nmbta_stations\")\n",
        "print(mbta_stations.columns)"
      ]
    },
    {
      "cell_type": "code",
      "execution_count": null,
      "id": "d3401303",
      "metadata": {
        "id": "d3401303"
      },
      "outputs": [],
      "source": [
        "blocks_w_stations = geopandas.sjoin(ma_block_proj, mbta_stations, how=\"inner\", op='contains')\n",
        "blocks_w_stations.head(n=2)"
      ]
    },
    {
      "cell_type": "code",
      "execution_count": null,
      "id": "9bf1e05c",
      "metadata": {
        "id": "9bf1e05c"
      },
      "outputs": [],
      "source": [
        "blocks_w_stations[\"LINE\"].unique()"
      ]
    },
    {
      "cell_type": "code",
      "execution_count": null,
      "id": "6050025b",
      "metadata": {
        "id": "6050025b"
      },
      "outputs": [],
      "source": [
        "subway_colors = {'SILVER': 'grey',\n",
        "               'ORANGE': 'orange',\n",
        "               'GREEN': 'green',\n",
        "               'RED': 'red',\n",
        "                'BLUE':'blue',\n",
        "                'GREEN/ORANGE': 'yellow',\n",
        "                'BLUE/GREEN': 'yellow',\n",
        "                'ORANGE/RED': 'yellow',\n",
        "                'GREEN/RED': 'yellow',\n",
        "                'BLUE/ORANGE': 'yellow'}"
      ]
    },
    {
      "cell_type": "code",
      "execution_count": null,
      "id": "6d74aa76",
      "metadata": {
        "id": "6d74aa76"
      },
      "outputs": [],
      "source": [
        "fig, ax = plt.subplots()\n",
        "for ctype, data in blocks_w_stations.groupby('LINE'):\n",
        "    color = subway_colors[ctype]\n",
        "    data.plot(color=color, ax=ax, label=ctype)\n",
        "plt.show()"
      ]
    },
    {
      "cell_type": "markdown",
      "id": "9416a09f",
      "metadata": {
        "id": "9416a09f"
      },
      "source": [
        "```python\n",
        "geopandas.sjoin(ma_block_proj, mbta_stations, how= , op=\"contains\")\n",
        "```\n",
        "\n",
        "__how__ options:\n",
        "- __left__ - Retain all __ma_block_proj__ features and append __mbta_stations__ attributes where the result of \"op\" is True.\n",
        "- __inner__ - Retain only __ma_block_proj__ features where the result of \"op\" is True and append __mbta_stations__ attributes to __ma_block_proj__ that satisfy the \"op\".\n",
        "- __right__ - Retain all __mbta_stations__ features and append __ma_block_proj__ where the result of \"op\" is True.\n",
        "\n",
        "<sup> Source: https://geopandas.org/docs/user_guide/mergingdata.html#sjoin-arguments</sup>"
      ]
    },
    {
      "cell_type": "code",
      "execution_count": null,
      "id": "bfb3d853",
      "metadata": {
        "id": "bfb3d853"
      },
      "outputs": [],
      "source": [
        "print(\"ma_block_proj\")\n",
        "print(ma_block_proj.columns)\n",
        "print(ma_block_proj.shape)\n",
        "print(\"\\nmbta_stations\")\n",
        "print(mbta_stations.columns)\n",
        "print(mbta_stations.shape)"
      ]
    },
    {
      "cell_type": "code",
      "execution_count": null,
      "id": "51000896",
      "metadata": {
        "id": "51000896"
      },
      "outputs": [],
      "source": [
        "# Note to Dennis, do \"right\" first\n",
        "blocks_w_stations = geopandas.sjoin(ma_block_proj, mbta_stations, how=\"left\", op='contains')\n",
        "print(blocks_w_stations.shape)\n",
        "blocks_w_stations.columns"
      ]
    },
    {
      "cell_type": "code",
      "execution_count": null,
      "id": "10e5aeb8",
      "metadata": {
        "id": "10e5aeb8"
      },
      "outputs": [],
      "source": [
        "blocks_w_stations[[\"GEOID\", \"STATION\"]].groupby(by=\"GEOID\").count().sort_values(by=\"STATION\", ascending=False ).head(15)"
      ]
    },
    {
      "cell_type": "code",
      "execution_count": null,
      "id": "96704cfe",
      "metadata": {
        "id": "96704cfe"
      },
      "outputs": [],
      "source": [
        "blocks_w_stations[blocks_w_stations[\"GEOID\"] == \"250259813002\"][\"STATION\"]"
      ]
    },
    {
      "cell_type": "markdown",
      "id": "c986a7d3",
      "metadata": {
        "id": "c986a7d3"
      },
      "source": [
        "###  Intersect\n",
        "Do any line segments intersect the polygon?\n",
        "<img src=\"https://github.com/milechin/tut_geopandas/blob/main/files/images/sjoin_intersect.png?raw=1\" alt=\"compass\" style=\"width:500px\"/>    "
      ]
    },
    {
      "cell_type": "markdown",
      "id": "7b282261",
      "metadata": {
        "id": "7b282261"
      },
      "source": [
        "What Census Group Blocks have MBTA Rapid transit tracks going through them?"
      ]
    },
    {
      "cell_type": "code",
      "execution_count": null,
      "id": "5f466ac6",
      "metadata": {
        "id": "5f466ac6"
      },
      "outputs": [],
      "source": [
        "blocks_w_lines = geopandas.sjoin(ma_block_proj, mbta_lines, how=\"inner\", op='intersects')\n",
        "\n",
        "base = blocks_w_lines.plot(column=\"NAMELSAD\", alpha=0.5)\n",
        "mbta_lines.plot(ax=base, color=\"black\")"
      ]
    },
    {
      "cell_type": "markdown",
      "id": "20b3b80a",
      "metadata": {
        "id": "20b3b80a"
      },
      "source": [
        "GeoPandas uses the following operators:\n",
        "- __contains__ -  Returns True if no points of other lie in the exterior of the object and at least one point of the interior of other lies in the interior of object.\n",
        "- __crosses__ - Returns True if the interior of the object intersects the interior of the other but does not contain it, and the dimension of the intersection is less than the dimension of the one or the other.\n",
        "- __disjoint__ - Returns True if the boundary and interior of the object do not intersect at all with those of the other.\n",
        "- __intersects__ - Returns True if the boundary or interior of the object intersect in any way with those of the other. In other words, geometric objects intersect if they have any boundary or interior point in common.\n",
        "- __overlaps__ - Returns True if the geometries have more than one but not all points in common, have the same dimension, and the intersection of the interiors of the geometries has the same dimension as the geometries themselves.\n",
        "- __touches__ - Returns True if the objects have at least one point in common and their interiors do not intersect with any part of the other.\n",
        "- __within__ - Returns True if the object’s boundary and interior intersect only with the interior of the other (not its boundary or exterior).\n",
        "\n",
        "<sup>Source: https://shapely.readthedocs.io/en/stable/manual.html?highlight=binary%20predicates#binary-predicates</sup>"
      ]
    },
    {
      "cell_type": "markdown",
      "id": "8b3e0769",
      "metadata": {
        "id": "8b3e0769"
      },
      "source": [
        "### Buffer, Dissolve, Overlay\n",
        "What Census Group Blocks are within 800 meters of MBTA Rapid Transit tracks?"
      ]
    },
    {
      "cell_type": "code",
      "execution_count": null,
      "id": "ccdb584a",
      "metadata": {
        "id": "ccdb584a"
      },
      "outputs": [],
      "source": [
        "mbta_lines[\"buffer\"] = mbta_lines.buffer(800)\n",
        "mbta_lines.head()"
      ]
    },
    {
      "cell_type": "code",
      "execution_count": null,
      "id": "c709888d",
      "metadata": {
        "id": "c709888d"
      },
      "outputs": [],
      "source": [
        "mbta_lines = mbta_lines.set_geometry(\"buffer\")\n",
        "print(mbta_lines.shape)\n",
        "mbta_lines.plot(column=\"LINE\", edgecolor=\"black\")"
      ]
    },
    {
      "cell_type": "code",
      "execution_count": null,
      "id": "15697a9d",
      "metadata": {
        "id": "15697a9d"
      },
      "outputs": [],
      "source": [
        "mbta_buffers = mbta_lines.dissolve(by=\"LINE\", aggfunc='sum')\n",
        "mbta_buffers.head()"
      ]
    },
    {
      "cell_type": "code",
      "execution_count": null,
      "id": "2f004d19",
      "metadata": {
        "id": "2f004d19"
      },
      "outputs": [],
      "source": [
        "mbta_buffers[\"LINE\"] = mbta_buffers.index\n",
        "print(mbta_buffers.shape)\n",
        "mbta_buffers.plot(edgecolor=\"black\", column=\"LINE\")"
      ]
    },
    {
      "cell_type": "code",
      "execution_count": null,
      "id": "e8e3226b",
      "metadata": {
        "id": "e8e3226b"
      },
      "outputs": [],
      "source": [
        "ma_block_proj.columns"
      ]
    },
    {
      "cell_type": "code",
      "execution_count": null,
      "id": "804f1fea",
      "metadata": {
        "id": "804f1fea"
      },
      "outputs": [],
      "source": [
        "blocks_within_buffer = geopandas.overlay(ma_block_proj, mbta_buffers, how=\"intersection\")\n",
        "blocks_within_buffer.head(n=3)"
      ]
    },
    {
      "cell_type": "code",
      "execution_count": null,
      "id": "f2263e98",
      "metadata": {
        "id": "f2263e98"
      },
      "outputs": [],
      "source": [
        "blocks_within_buffer.plot(column=\"LINE\", edgecolor=\"black\", linewidth=0.2)"
      ]
    },
    {
      "cell_type": "code",
      "execution_count": null,
      "id": "7f99bc4b",
      "metadata": {
        "id": "7f99bc4b"
      },
      "outputs": [],
      "source": [
        "blocks_within_buffer[\"area_in_buffer\"] = blocks_within_buffer.area"
      ]
    },
    {
      "cell_type": "code",
      "execution_count": null,
      "id": "6d6058bc",
      "metadata": {
        "id": "6d6058bc"
      },
      "outputs": [],
      "source": [
        "blocks_within_buffer[[\"area\", \"area_in_buffer\"]].head(n=3)"
      ]
    },
    {
      "cell_type": "code",
      "execution_count": null,
      "id": "9ef2ed02",
      "metadata": {
        "id": "9ef2ed02"
      },
      "outputs": [],
      "source": [
        "blocks_within_buffer[\"area_ratio\"] = blocks_within_buffer[\"area_in_buffer\"]/blocks_within_buffer[\"area\"]\n",
        "blocks_within_buffer[[\"area\", \"area_in_buffer\", \"area_ratio\"]].head(n=3)"
      ]
    },
    {
      "cell_type": "markdown",
      "id": "954d7549",
      "metadata": {
        "id": "954d7549"
      },
      "source": [
        "More information about overlay function: https://geopandas.org/docs/user_guide/set_operations.html"
      ]
    },
    {
      "cell_type": "markdown",
      "id": "3e9ab66d",
      "metadata": {
        "id": "3e9ab66d"
      },
      "source": [
        "# Saving GIS Data\n",
        "\n",
        "There are many GIS data formats that exist.  You will be limited to what you can export to, based on what libraries are installed on your system."
      ]
    },
    {
      "cell_type": "code",
      "execution_count": null,
      "id": "36d04c4a",
      "metadata": {
        "id": "36d04c4a"
      },
      "outputs": [],
      "source": [
        "import fiona\n",
        "fiona.supported_drivers"
      ]
    },
    {
      "cell_type": "markdown",
      "id": "8f525953",
      "metadata": {
        "id": "8f525953"
      },
      "source": [
        "__r__ - read  \n",
        "__a__ - append  \n",
        "__w__ - write  \n",
        "\n",
        "GeoDatabase format falls under *OpenFileGDB*."
      ]
    },
    {
      "cell_type": "markdown",
      "id": "86cf00a7",
      "metadata": {
        "id": "86cf00a7"
      },
      "source": [
        "### Save layers as GeoPackage\n",
        "\n",
        "\n",
        "<sup>https://www.geopackage.org/</sup>"
      ]
    },
    {
      "cell_type": "code",
      "execution_count": null,
      "id": "f345f502",
      "metadata": {
        "id": "f345f502"
      },
      "outputs": [],
      "source": [
        "blocks_w_stations.to_file(\"tut_output.gpkg\", driver=\"GPKG\", layer=\"blocks_w_stations\")"
      ]
    },
    {
      "cell_type": "markdown",
      "id": "c14763b5",
      "metadata": {
        "id": "c14763b5"
      },
      "source": [
        "The error is not clear, but it is complaining there are two \"geometry\" fields in this layer.  Most file formats only support one geometry field."
      ]
    },
    {
      "cell_type": "code",
      "execution_count": null,
      "id": "cab67b52",
      "metadata": {
        "id": "cab67b52"
      },
      "outputs": [],
      "source": [
        "blocks_w_stations.dtypes"
      ]
    },
    {
      "cell_type": "code",
      "execution_count": null,
      "id": "1dca5ba3",
      "metadata": {
        "id": "1dca5ba3"
      },
      "outputs": [],
      "source": [
        "# Set the appropriate geometry column you want to save\n",
        "blocks_w_stations.set_geometry(\"geometry\", inplace=True)\n",
        "\n",
        "# Remove the other geometry column\n",
        "blocks_w_stations.drop(columns=[\"centroid\"], inplace=True)\n",
        "\n",
        "# Save the layer in a GeoPackage\n",
        "blocks_w_stations.to_file(\"tut_output.gpkg\", driver=\"GPKG\", layer=\"blocks_w_stations\")"
      ]
    },
    {
      "cell_type": "code",
      "execution_count": null,
      "id": "f50a910b",
      "metadata": {
        "id": "f50a910b"
      },
      "outputs": [],
      "source": [
        "fiona.listlayers(\"tut_output.gpkg\")"
      ]
    },
    {
      "cell_type": "code",
      "execution_count": null,
      "id": "cedd7ebf",
      "metadata": {
        "id": "cedd7ebf"
      },
      "outputs": [],
      "source": [
        "blocks_within_buffer.set_geometry(\"geometry\", inplace=True)\n",
        "blocks_within_buffer.drop(columns=[\"centroid\"], inplace=True)\n",
        "\n",
        "ma_block_proj.set_geometry(\"geometry\", inplace=True)\n",
        "ma_block_proj.drop(columns=[\"centroid\"], inplace=True)\n",
        "\n",
        "mbta_lines.set_geometry(\"geometry\", inplace=True)\n",
        "mbta_lines.drop(columns=[\"buffer\"], inplace=True)\n",
        "\n",
        "blocks_w_lines.set_geometry(\"geometry\", inplace=True)\n",
        "blocks_w_lines.drop(columns=[\"centroid\"], inplace=True)"
      ]
    },
    {
      "cell_type": "code",
      "execution_count": null,
      "id": "ac8abf43",
      "metadata": {
        "id": "ac8abf43"
      },
      "outputs": [],
      "source": [
        "blocks_within_buffer.to_file(\"tut_output.gpkg\", driver=\"GPKG\", layer=\"blocks_within_buffer\")\n",
        "ma_block_proj.to_file(\"tut_output.gpkg\", driver=\"GPKG\", layer=\"ma_block_proj\")\n",
        "mbta_lines.to_file(\"tut_output.gpkg\", driver=\"GPKG\", layer=\"mbta_lines\")\n",
        "blocks_w_lines.to_file(\"tut_output.gpkg\", driver=\"GPKG\", layer=\"blocks_w_lines\")"
      ]
    },
    {
      "cell_type": "code",
      "execution_count": null,
      "id": "80012fcd",
      "metadata": {
        "id": "80012fcd"
      },
      "outputs": [],
      "source": [
        "fiona.listlayers(\"tut_output.gpkg\")"
      ]
    },
    {
      "cell_type": "markdown",
      "id": "ee3d6141",
      "metadata": {
        "id": "ee3d6141"
      },
      "source": [
        "# Questions?\n",
        "\n",
        "\n",
        "## Data Sources\n",
        "- Tissot Circle - https://mgimond.github.io/ArcGIS_tutorials/Tissot_circle.htm  \n",
        "- Mass. Census Boundary Data - https://www2.census.gov/geo/tiger/TGRGDB19/tlgdb_2019_a_25_ma.gdb.zip  \n",
        "- MBTA Rapid Transit - https://www.mass.gov/info-details/massgis-data-mbta-rapid-transit"
      ]
    }
  ],
  "metadata": {
    "celltoolbar": "Slideshow",
    "kernelspec": {
      "display_name": "Python 3 (ipykernel)",
      "language": "python",
      "name": "python3"
    },
    "language_info": {
      "codemirror_mode": {
        "name": "ipython",
        "version": 3
      },
      "file_extension": ".py",
      "mimetype": "text/x-python",
      "name": "python",
      "nbconvert_exporter": "python",
      "pygments_lexer": "ipython3",
      "version": "3.8.12"
    },
    "colab": {
      "provenance": []
    }
  },
  "nbformat": 4,
  "nbformat_minor": 5
}