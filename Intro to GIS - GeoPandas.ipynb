{
 "cells": [
  {
   "cell_type": "code",
   "execution_count": null,
   "id": "292b8c70",
   "metadata": {
    "slideshow": {
     "slide_type": "skip"
    }
   },
   "outputs": [],
   "source": [
    "# Styling notebook\n",
    "from IPython.core.display import HTML\n",
    "def css_styling():\n",
    "    styles = open(\"./styles/custom.css\", \"r\").read()\n",
    "    return HTML(styles)\n",
    "css_styling()\n",
    "\n",
    "# Makes plots interactive\n",
    "%matplotlib notebook\n",
    "\n",
    "import matplotlib as mpl\n",
    "mpl.rc('figure', max_open_warning = 0)"
   ]
  },
  {
   "cell_type": "markdown",
   "id": "a6cabe63",
   "metadata": {
    "slideshow": {
     "slide_type": "slide"
    }
   },
   "source": [
    "# Introduction to GIS - Using GeoPandas\n",
    "\n",
    "- Dennis Milechin, P.E.\n",
    "- <a href=\"http://rcs.bu.edu\">Research Computing Services</a>\n",
    "\n",
    "## Github repo\n",
    "https://github.com/milechin/tut_geopandas\n",
    "\n",
    "## Data Files\n",
    "http://rcs.bu.edu/examples/gis/tutorials/python_geopandas/tutorial_files.zip"
   ]
  },
  {
   "cell_type": "markdown",
   "id": "2eb9b1cd",
   "metadata": {
    "slideshow": {
     "slide_type": "slide"
    }
   },
   "source": [
    "# Workshop Outcomes\n",
    "\n",
    "1. Learn basic concepts of GIS Theory (Data Models, Datum/Geographic Coordinate system, Projections)\n",
    "1. Learn how to apply GIS concepts using GeoPandas."
   ]
  },
  {
   "cell_type": "markdown",
   "id": "b4801840",
   "metadata": {
    "slideshow": {
     "slide_type": "slide"
    }
   },
   "source": [
    "# Outline\n",
    "\n",
    "1. What is GIS?\n",
    "1. Common GIS Data Models\n",
    "1. Explore GeoPandas\n",
    "1. Datum/Geographic Coordinate System (GCS)\n",
    "1. GCS Coordinates\n",
    "1. Projections\n",
    "1. Coordinate Reference System (CRS)\n",
    "1. Spatial Attributes\n",
    "1. Spatial Processing\n"
   ]
  },
  {
   "cell_type": "markdown",
   "id": "21680d4b",
   "metadata": {
    "slideshow": {
     "slide_type": "slide"
    }
   },
   "source": [
    "# 1. What is GIS?\n",
    "\n",
    "“A geographic information system (GIS) is a system designed to capture, store, manipulate, analyze, manage, and present spatial or geographic data”\n",
    "\n",
    "<sup>Source: https://en.wikipedia.org/wiki/Geographic_information_system</sup>\n"
   ]
  },
  {
   "cell_type": "markdown",
   "id": "832f5c46",
   "metadata": {
    "slideshow": {
     "slide_type": "slide"
    }
   },
   "source": [
    "## Typical functions of GIS software\n",
    "\n",
    "- Read/write spatial data\n",
    "- Maintain spatial meta data\n",
    "- Apply transformations for projections\n",
    "- Visualize symbology based on attribute table\n",
    "- Allow layering of data\n",
    "- Tools to query/filter data\n",
    "- Spatial analysis tools\n",
    "- Exporting tools for printing maps or publish web maps\n"
   ]
  },
  {
   "cell_type": "markdown",
   "id": "5e95548c",
   "metadata": {
    "slideshow": {
     "slide_type": "slide"
    }
   },
   "source": [
    "### Build Your Own GIS Toolbox\n",
    "My toolbox:\n",
    "- Organizing data - OGR/GDAL\n",
    "- Data storage - GeoPackage or PostgresSQL w/PostGIS\n",
    "- GIS Task Automation - R or Python\n",
    "- Visualizations for Reports - QGIS or ArcGIS Pro\n",
    "- Visualization for Web Maps - ArcGIS Online - (others use Leaflet)"
   ]
  },
  {
   "cell_type": "markdown",
   "id": "3b8497e3",
   "metadata": {
    "slideshow": {
     "slide_type": "slide"
    }
   },
   "source": [
    "# 2. Common GIS Data Models\n",
    "\n",
    "- Raster\n",
    "- Vector"
   ]
  },
  {
   "cell_type": "markdown",
   "id": "1c3bc4c5",
   "metadata": {
    "slideshow": {
     "slide_type": "slide"
    }
   },
   "source": [
    "### Raster\n",
    "\n",
    "- continuous data\n",
    "- uniform gridded data\n",
    "- Examples\n",
    "    - Digital Elevation Model (DEM)\n",
    "    - Remote Sensing - Bands\n",
    "    \n",
    "<img src=\"files/images/raster_example.png\" alt=\"compass\" style=\"width:1000px\"/>    \n",
    "\n",
    "<sup>Source: <a href=\": http://desktop.arcgis.com/en/arcmap/latest/manage-data/raster-and-images/what-is-raster-data.htm\"> http://desktop.arcgis.com/en/arcmap/latest/manage-data/raster-and-images/what-is-raster-data.htm</a></sup>"
   ]
  },
  {
   "cell_type": "markdown",
   "id": "40299788",
   "metadata": {
    "slideshow": {
     "slide_type": "slide"
    }
   },
   "source": [
    "### Vector\n",
    "\n",
    "<img src=\"files/images/vector_data.png\" alt=\"compass\" style=\"width:800px\"/>    \n",
    "\n"
   ]
  },
  {
   "cell_type": "markdown",
   "id": "09e40fcd",
   "metadata": {
    "slideshow": {
     "slide_type": "slide"
    }
   },
   "source": [
    "# 3. Let's Explore GeoPandas\n",
    "\n",
    "> GeoPandas is an open source project to make working with geospatial data in python easier. GeoPandas extends the datatypes used by pandas to allow spatial operations on geometric types.\n",
    "\n",
    "<sup>source: https://geopandas.org/index.html</sup>\n",
    "\n",
    "__Note:__ GeoPandas is for processing vector data.\n",
    "\n",
    "User Guide: https://geopandas.org/docs/user_guide.html"
   ]
  },
  {
   "cell_type": "markdown",
   "id": "8be2ccad",
   "metadata": {
    "slideshow": {
     "slide_type": "slide"
    }
   },
   "source": [
    "### GeoPandas - Dependencies\n",
    "\n",
    "- __numpy__\n",
    "- __pandas__\n",
    "- __shapely__  - Spatial Operations\n",
    "- __fiona__  - Reading and Writing Files\n",
    "- __pyproj__ - Projection definition and transformations\n",
    "- __rtree__ - spatial index to improve performance and required for overlay operations; interface to libspatialindex\n",
    "- __psycopg2__ - for PostGIS connection\n",
    "- __GeoAlchemy2__ - for writing to PostGIS\n",
    "- __geopy__ - for geocoding\n",
    "- __matplotlib__\n",
    "- __mapclassify__\n",
    "\n",
    "Source: https://geopandas.org/getting_started/install.html#dependencies"
   ]
  },
  {
   "cell_type": "markdown",
   "id": "69881aa3",
   "metadata": {
    "slideshow": {
     "slide_type": "slide"
    }
   },
   "source": [
    "### Read Shapefile\n"
   ]
  },
  {
   "cell_type": "code",
   "execution_count": null,
   "id": "24db60c7",
   "metadata": {
    "slideshow": {
     "slide_type": "fragment"
    }
   },
   "outputs": [],
   "source": [
    "import geopandas\n",
    "\n",
    "mbta_stations = geopandas.read_file(\"tutorial_files/mbta_rapid_transit/MBTA_NODE.shp\")\n",
    "mbta_stations.head()"
   ]
  },
  {
   "cell_type": "markdown",
   "id": "691301f4",
   "metadata": {
    "slideshow": {
     "slide_type": "fragment"
    }
   },
   "source": [
    "- \"geometry\" column contains spatial information.\n",
    "- rows - known as \"features\" or \"records\".\n",
    "- columns - known as \"attributes\" or \"fields\"."
   ]
  },
  {
   "cell_type": "markdown",
   "id": "bee24ee4",
   "metadata": {
    "slideshow": {
     "slide_type": "slide"
    }
   },
   "source": [
    "Let's look at types for each column:"
   ]
  },
  {
   "cell_type": "code",
   "execution_count": null,
   "id": "28a893cc",
   "metadata": {
    "slideshow": {
     "slide_type": "fragment"
    }
   },
   "outputs": [],
   "source": [
    "mbta_stations.dtypes"
   ]
  },
  {
   "cell_type": "code",
   "execution_count": null,
   "id": "f731a832",
   "metadata": {
    "slideshow": {
     "slide_type": "fragment"
    }
   },
   "outputs": [],
   "source": [
    "type(mbta_stations)"
   ]
  },
  {
   "cell_type": "markdown",
   "id": "f2a58128",
   "metadata": {
    "slideshow": {
     "slide_type": "slide"
    }
   },
   "source": [
    "### Plotting"
   ]
  },
  {
   "cell_type": "code",
   "execution_count": null,
   "id": "d8a3a80c",
   "metadata": {
    "slideshow": {
     "slide_type": "fragment"
    }
   },
   "outputs": [],
   "source": [
    "mbta_stations.plot()"
   ]
  },
  {
   "cell_type": "code",
   "execution_count": null,
   "id": "795db574",
   "metadata": {
    "slideshow": {
     "slide_type": "slide"
    }
   },
   "outputs": [],
   "source": [
    "mbta_stations.plot(column=\"LINE\", legend=False)"
   ]
  },
  {
   "cell_type": "markdown",
   "id": "b152f2f0",
   "metadata": {
    "slideshow": {
     "slide_type": "slide"
    }
   },
   "source": [
    "### Load Polyline Data"
   ]
  },
  {
   "cell_type": "code",
   "execution_count": null,
   "id": "8f4e3686",
   "metadata": {
    "slideshow": {
     "slide_type": "fragment"
    }
   },
   "outputs": [],
   "source": [
    "mbta_lines = geopandas.read_file(\"tutorial_files/mbta_rapid_transit/MBTA_ARC.shp\")\n",
    "mbta_lines.head()"
   ]
  },
  {
   "cell_type": "code",
   "execution_count": null,
   "id": "a8f0ceaf",
   "metadata": {
    "slideshow": {
     "slide_type": "fragment"
    }
   },
   "outputs": [],
   "source": [
    "mbta_lines.LINE.unique()"
   ]
  },
  {
   "cell_type": "code",
   "execution_count": null,
   "id": "120885ba",
   "metadata": {
    "slideshow": {
     "slide_type": "slide"
    }
   },
   "outputs": [],
   "source": [
    "mbta_lines.plot(column=\"LINE\", cmap='tab10')"
   ]
  },
  {
   "cell_type": "markdown",
   "id": "be3fed2a",
   "metadata": {
    "slideshow": {
     "slide_type": "slide"
    }
   },
   "source": [
    "### Select By Attribute"
   ]
  },
  {
   "cell_type": "code",
   "execution_count": null,
   "id": "2312a52b",
   "metadata": {
    "slideshow": {
     "slide_type": "fragment"
    }
   },
   "outputs": [],
   "source": [
    "mbta_lines.LINE.unique()"
   ]
  },
  {
   "cell_type": "code",
   "execution_count": null,
   "id": "8703b4b7",
   "metadata": {
    "slideshow": {
     "slide_type": "fragment"
    }
   },
   "outputs": [],
   "source": [
    "green_line = mbta_lines[mbta_lines[\"LINE\"]==\"GREEN\"]\n",
    "green_line"
   ]
  },
  {
   "cell_type": "code",
   "execution_count": null,
   "id": "ffc8ddb2",
   "metadata": {
    "slideshow": {
     "slide_type": "slide"
    }
   },
   "outputs": [],
   "source": [
    "green_line.geometry.plot(cmap='tab10')"
   ]
  },
  {
   "cell_type": "markdown",
   "id": "75e5c23b",
   "metadata": {
    "slideshow": {
     "slide_type": "slide"
    }
   },
   "source": [
    "### Color by Attribute\n",
    "\n",
    "<sup>This example obtained from : https://www.earthdatascience.org/courses/scientists-guide-to-plotting-data-in-python/plot-spatial-data/customize-vector-plots/python-customize-map-legends-geopandas/</sup>\n"
   ]
  },
  {
   "cell_type": "code",
   "execution_count": null,
   "id": "846db761",
   "metadata": {
    "slideshow": {
     "slide_type": "fragment"
    }
   },
   "outputs": [],
   "source": [
    "import matplotlib.pyplot as plt\n",
    "subway_colors = {'SILVER': 'grey',\n",
    "               'ORANGE': 'orange',\n",
    "               'GREEN': 'green',\n",
    "               'RED': 'red',\n",
    "                'BLUE':'blue'}"
   ]
  },
  {
   "cell_type": "code",
   "execution_count": null,
   "id": "649ec45e",
   "metadata": {
    "slideshow": {
     "slide_type": "slide"
    }
   },
   "outputs": [],
   "source": [
    "fig, ax = plt.subplots()\n",
    "for ctype, data in mbta_lines.groupby('LINE'):\n",
    "    color = subway_colors[ctype]\n",
    "    data.plot(color=color, ax=ax, label=ctype)\n",
    "    \n",
    "ax.legend(bbox_to_anchor=(1.5, .5), prop={'size': 12})\n",
    "ax.set(title='MBTA Subway Lines')\n",
    "ax.set_axis_off()\n",
    "\n",
    "#mbta_stations.plot(ax=ax, color=\"black\", zorder=1)\n",
    "plt.show()"
   ]
  },
  {
   "cell_type": "markdown",
   "id": "0c0efd12",
   "metadata": {
    "slideshow": {
     "slide_type": "slide"
    }
   },
   "source": [
    "### Load data from Geodatabase\n",
    "\n",
    "- *Geodatabase* is an ESRI developed model.  Similiar open source is *GeoPackage*.\n",
    "- Both act like a database and will contain multiple layers."
   ]
  },
  {
   "cell_type": "code",
   "execution_count": null,
   "id": "e3239771",
   "metadata": {
    "slideshow": {
     "slide_type": "fragment"
    }
   },
   "outputs": [],
   "source": [
    "import fiona\n",
    "gdp_path = \"tutorial_files/tlgdb_2019_a_25_ma.gdb\"\n",
    "\n",
    "fiona.listlayers(gdp_path)"
   ]
  },
  {
   "cell_type": "code",
   "execution_count": null,
   "id": "c17fefa9",
   "metadata": {
    "slideshow": {
     "slide_type": "fragment"
    }
   },
   "outputs": [],
   "source": [
    "import geopandas\n",
    "ma_block = geopandas.read_file(gdp_path, layer=\"Block_Group\")"
   ]
  },
  {
   "cell_type": "code",
   "execution_count": null,
   "id": "f4803213",
   "metadata": {
    "slideshow": {
     "slide_type": "slide"
    }
   },
   "outputs": [],
   "source": [
    "ma_block.head()"
   ]
  },
  {
   "cell_type": "code",
   "execution_count": null,
   "id": "59a260df",
   "metadata": {
    "slideshow": {
     "slide_type": "slide"
    }
   },
   "outputs": [],
   "source": [
    "ma_block.plot(column=\"NAMELSAD\")"
   ]
  },
  {
   "cell_type": "markdown",
   "id": "dd1a4c21",
   "metadata": {
    "slideshow": {
     "slide_type": "slide"
    }
   },
   "source": [
    "###  Common Standards of Vector Data\n",
    "1. Points, Lines, and Polygon are not mixed together in one attribute table.\n",
    "    "
   ]
  },
  {
   "cell_type": "code",
   "execution_count": null,
   "id": "1a1f9275",
   "metadata": {
    "slideshow": {
     "slide_type": "fragment"
    }
   },
   "outputs": [],
   "source": [
    "print(\"mbta_stations\")\n",
    "print(mbta_stations.geometry.type.unique())\n",
    "\n",
    "print(\"\\nmbta_lines\")\n",
    "print(mbta_lines.geometry.type.unique())\n",
    "\n",
    "print(\"\\nma_block\")\n",
    "print(ma_block.geometry.type.unique())"
   ]
  },
  {
   "cell_type": "markdown",
   "id": "c127a50f",
   "metadata": {
    "slideshow": {
     "slide_type": "slide"
    }
   },
   "source": [
    "2. Features of similiar characteristics refered to as \"layer\".\n",
    "\n",
    "  - *mbta_lines* - Only contains features and attributes of MBTA subway tracks.\n",
    "  - *mbta_stations* - Only contains features and attributes of subway station stops.\n",
    "  - *ma_block* - Only contains features and attributes of census block groups."
   ]
  },
  {
   "cell_type": "markdown",
   "id": "24ec65b6",
   "metadata": {
    "slideshow": {
     "slide_type": "slide"
    }
   },
   "source": [
    "### Metadata\n",
    "information about the data\n",
    "  - Who created the data?\n",
    "  - How it was obtained?\n",
    "  - Definition of attributes/fields.\n",
    "  - Limitations of the data.\n",
    "  \n",
    "Example:\n",
    "- https://www.mass.gov/info-details/massgis-data-municipalities\n",
    "- https://www2.census.gov/geo/pdfs/maps-data/data/tiger/tgrshp2020/2020_TIGER_GDB_Record_Layouts.pdf\n",
    "\n"
   ]
  },
  {
   "cell_type": "markdown",
   "id": "30be1541",
   "metadata": {
    "slideshow": {
     "slide_type": "slide"
    }
   },
   "source": [
    "### Coordinate Reference System - CRS\n",
    "Let's plot all three layers on a single map."
   ]
  },
  {
   "cell_type": "code",
   "execution_count": null,
   "id": "5789a17c",
   "metadata": {
    "slideshow": {
     "slide_type": "slide"
    }
   },
   "outputs": [],
   "source": [
    "fig, ax = plt.subplots(figsize=(5, 5))\n",
    "\n",
    "for ctype, data in mbta_lines.groupby('LINE'):\n",
    "    color = subway_colors[ctype]\n",
    "    data.plot(color=color, ax=ax, label=ctype)\n",
    "    \n",
    "ax.legend(bbox_to_anchor=(1.5, .5), prop={'size': 12})\n",
    "ax.set(title='MBTA Subway Lines')\n",
    "ax.set_axis_off()\n",
    "\n",
    "mbta_stations.plot(ax=ax, color=\"black\", zorder=1)  # MBTA Stations layer\n",
    "ma_block.plot(ax=ax) # MA Group Block layer\n",
    "\n",
    "plt.show()"
   ]
  },
  {
   "cell_type": "code",
   "execution_count": null,
   "id": "dd63846b",
   "metadata": {
    "slideshow": {
     "slide_type": "slide"
    }
   },
   "outputs": [],
   "source": [
    "print(\"mbta_lines CRS\")\n",
    "print(mbta_lines.crs)\n",
    "print(\"\\nmbta_stations CRS\")\n",
    "print(mbta_stations.crs)\n",
    "print(\"\\nma_block CRS\")\n",
    "print(ma_block.crs)"
   ]
  },
  {
   "cell_type": "markdown",
   "id": "cdf2c0da",
   "metadata": {
    "slideshow": {
     "slide_type": "slide"
    }
   },
   "source": [
    "# 4. Datum/Geographic Coordinate System\n",
    "\n",
    "What coordinate system is GIS using?"
   ]
  },
  {
   "cell_type": "markdown",
   "id": "0d426573",
   "metadata": {
    "slideshow": {
     "slide_type": "slide"
    }
   },
   "source": [
    "### Step 1: Model a General Shape of the Earth (Datum)\n",
    "\n",
    "The earth is generally round, but is not a perfect sphere or very smooth (e.g. mountains and canyons).\n",
    "\n",
    "![alt text](files/images/datum.png)\n",
    "\n",
    "\n",
    "Source: https://en.wikipedia.org/wiki/Ellipsoid"
   ]
  },
  {
   "cell_type": "markdown",
   "id": "2df16447",
   "metadata": {
    "slideshow": {
     "slide_type": "slide"
    }
   },
   "source": [
    "### Datums\n",
    "\n",
    "- Datums are a models that approximates the earth's surface.\n",
    "- Some datums are designed to be accurate for specific areas on the globe.\n",
    "\n",
    "__Examples__:\n",
    "- __Australian Geodetic Datum 1984__\n",
    "- __North American Datum 1983 (NAD83)__\n",
    "- __North American Datum 1927 (NAD27)__\n",
    "\n",
    "Note: There are datums for referencing depth, such as North American Vertical Datum of 1988 (NAVD88)"
   ]
  },
  {
   "cell_type": "markdown",
   "id": "8453aeec",
   "metadata": {
    "slideshow": {
     "slide_type": "slide"
    }
   },
   "source": [
    "### What is the Datum of a GIS File?"
   ]
  },
  {
   "cell_type": "code",
   "execution_count": null,
   "id": "db577766",
   "metadata": {
    "slideshow": {
     "slide_type": "fragment"
    }
   },
   "outputs": [],
   "source": [
    "mbta_lines.crs\n",
    "#ma_block.crs"
   ]
  },
  {
   "cell_type": "markdown",
   "id": "e6c30b9e",
   "metadata": {
    "slideshow": {
     "slide_type": "slide"
    }
   },
   "source": [
    "### Step 2: Define a coordinate system\n",
    "\n",
    "Let's review Cartesian Coordinate System\n",
    "\n",
    "![alt text](files/images/cartesian_coord.png)\n",
    "\n",
    "Source: https://www.e-education.psu.edu/natureofgeoinfo/c2_p10.html"
   ]
  },
  {
   "cell_type": "markdown",
   "id": "3fcac3e8",
   "metadata": {
    "slideshow": {
     "slide_type": "slide"
    }
   },
   "source": [
    "### Geographic Coordinate System (GCS)\n",
    "![alt text](files/images/gcs.png)\n",
    "\n",
    "Source: http://desktop.arcgis.com/en/arcmap/10.3/guide-books/map-projections/about-geographic-coordinate-systems.htm"
   ]
  },
  {
   "cell_type": "markdown",
   "id": "8dbb1af0",
   "metadata": {
    "slideshow": {
     "slide_type": "slide"
    }
   },
   "source": [
    "### Geographic Coordinate System (GCS)\n",
    "\n",
    "GCS help define a reference system for finding a location on the datum.\n",
    "\n",
    "<img src=\"files/images/gcs_combined.png\" alt=\"compass\" style=\"width:500px\"/>\n",
    "\n",
    "Source: http://desktop.arcgis.com/en/arcmap/10.3/guide-books/map-projections/geographic-coordinate-system.htm"
   ]
  },
  {
   "cell_type": "markdown",
   "id": "4224c4f1",
   "metadata": {
    "slideshow": {
     "slide_type": "slide"
    }
   },
   "source": [
    "### Geographic Coordinate System (GCS)\n",
    "__Coordinates are associated with a specific GCS.__  Below is an outline of Boston City Hall.  The same coordinates were used to plot the outlines in two different GCSs.\n",
    "\n",
    "<img src=\"files/images/GCS_comparison.png\" alt=\"gcs_comparison\" style=\"width:700px;\"/>\n",
    "\n",
    "The proper GCS for these coordinates is NAD 1927."
   ]
  },
  {
   "cell_type": "markdown",
   "id": "c4634eaf",
   "metadata": {
    "slideshow": {
     "slide_type": "slide"
    }
   },
   "source": [
    "### Geographic Coordinate System (GCS)\n",
    "- GIS data you download, or create, should have Datum/GCS defined. Otherwise the spatial component of the data is useless.\n",
    "- GCS is part of the data model of most GIS files (Shapefiles, geodatabase), but not for CSV files!\n",
    "- As a GIS user, most likely you will use existing Datum/GCS definitions available in GIS software, not create your own."
   ]
  },
  {
   "cell_type": "markdown",
   "id": "c8dd3066",
   "metadata": {
    "slideshow": {
     "slide_type": "slide"
    }
   },
   "source": [
    "# 5. Projections"
   ]
  },
  {
   "cell_type": "markdown",
   "id": "b7f29ec7",
   "metadata": {
    "slideshow": {
     "slide_type": "slide"
    }
   },
   "source": [
    "### What is wrong with this map?\n",
    "\n",
    "<img src=\"files/images/what_is_wrong.png\" alt=\"compass\" style=\"width:400px\"/>\n",
    "\n",
    "| Country | Area ( $mi^2$) |\n",
    "| ------- | -------------- |\n",
    "|Africa   | 11,730,000     |\n",
    "|Antartica | 5,405,000     |\n",
    "|Greenland | 836,300       |"
   ]
  },
  {
   "cell_type": "markdown",
   "id": "37c9665d",
   "metadata": {
    "slideshow": {
     "slide_type": "slide"
    }
   },
   "source": [
    "### Projections\n",
    "Projections is a mathematical definition for transforming a GCS coordinates onto a flat surface (e.g. computer screen)."
   ]
  },
  {
   "cell_type": "code",
   "execution_count": null,
   "id": "fcecb2d7",
   "metadata": {
    "slideshow": {
     "slide_type": "fragment"
    }
   },
   "outputs": [],
   "source": [
    "from IPython.display import YouTubeVideo\n",
    "YouTubeVideo('CPQZ7NcQ6YQ')"
   ]
  },
  {
   "cell_type": "markdown",
   "id": "ce42c240",
   "metadata": {
    "slideshow": {
     "slide_type": "slide"
    }
   },
   "source": [
    "### Projections - Families\n",
    "\n",
    "<img src=\"files/images/projection_families.png\" alt=\"compass\" style=\"width:800px\"/>\n",
    "\n",
    "<sup>Source: https://docs.qgis.org/3.10/en/docs/gentle_gis_introduction/coordinate_reference_systems.html#id1</sup>"
   ]
  },
  {
   "cell_type": "markdown",
   "id": "ce155c33",
   "metadata": {
    "slideshow": {
     "slide_type": "slide"
    }
   },
   "source": [
    "### Projections - Samples\n",
    "\n",
    "<img src=\"files/images/projection_sample.png\" alt=\"compass\" style=\"width:1000px\"/>"
   ]
  },
  {
   "cell_type": "markdown",
   "id": "eb1c92dc",
   "metadata": {
    "slideshow": {
     "slide_type": "slide"
    }
   },
   "source": [
    "### Projections - Tissot's Indicatrix\n",
    "\n",
    "<img src=\"files/images/tissots_indicatrix.png\" alt=\"compass\" style=\"width:1000px\"/>\n",
    "\n",
    "<sup>Source: http://geokov.com/education/map-projection.aspx</sup>"
   ]
  },
  {
   "cell_type": "markdown",
   "id": "bed22c02",
   "metadata": {
    "slideshow": {
     "slide_type": "slide"
    }
   },
   "source": [
    "### Projections\n",
    "\n",
    "- Allow creation of flat maps\n",
    "- At the expense of distorting:\n",
    "  - shape\n",
    "  - area\n",
    "  - direction\n",
    "  - distance\n",
    " \n"
   ]
  },
  {
   "cell_type": "markdown",
   "id": "5c340cea",
   "metadata": {
    "slideshow": {
     "slide_type": "slide"
    }
   },
   "source": [
    "There are two types of projections:\n",
    "    \n",
    "- Geographic Projection - Decimal Coordinates\n",
    "- Projected Projection - Coordinates in Feet or Meters"
   ]
  },
  {
   "cell_type": "markdown",
   "id": "d4198d61",
   "metadata": {
    "slideshow": {
     "slide_type": "slide"
    }
   },
   "source": [
    "# 6. Coordinate Reference System\n",
    "\n",
    "__Geographic coordinate system__ and __projections__ are known as Coordinate Reference System (__CRS__) in GIS."
   ]
  },
  {
   "cell_type": "markdown",
   "id": "be68611a",
   "metadata": {
    "slideshow": {
     "slide_type": "slide"
    }
   },
   "source": [
    "###  Selecting CRS\n",
    "\n",
    "- __What CRS do I choose?__\n",
    "  - Check if institutions or organization requires the use of a specific CRS.\n",
    "  - Choose one that minimizes distortion characteristics important for your analysis.\n",
    "\n",
    "- __When to assign CRS?__\n",
    "  - GIS data does not have a CRS defined.\n",
    "    \n",
    "- __When to transform from one CRS to another CRS?__\n",
    "  - Prior to spatial processing of two layers.\n",
    "  - Plotting layers on a map.\n",
    "  - Some GIS tools expect projected data.\n"
   ]
  },
  {
   "cell_type": "markdown",
   "id": "4d1ccc07",
   "metadata": {
    "slideshow": {
     "slide_type": "slide"
    }
   },
   "source": [
    "### GeoPandas CRS Functions\n",
    "\n",
    "<table>\n",
    "<colgroup>\n",
    "<col style=\"width: 10%\" />\n",
    "<col style=\"width: 90%\" />\n",
    "</colgroup>\n",
    "<tbody>\n",
    "<tr ><td><p><a href=\"https://geopandas.org/docs/reference/api/geopandas.GeoDataFrame.crs.html#geopandas.GeoDataFrame.crs\">GeoDataFrame.crs</a></p></td>\n",
    "<td><p>The Coordinate Reference System (CRS) represented as a pyproj.CRSobject.</p></td>\n",
    "</tr>\n",
    "<tr><td><p><a href=\"https://geopandas.org/docs/reference/api/geopandas.GeoDataFrame.to_crs.html#geopandas.GeoDataFrame.to_crs\">GeoDataFrame.to_crs()</a></p></td>\n",
    "<td><p>Transform geometries to a new coordinate reference system.</p></td>\n",
    "</tr>\n",
    "<tr><td><p><a href=\"https://geopandas.org/docs/reference/api/geopandas.GeoDataFrame.set_crs.html#geopandas.GeoDataFrame.set_crs\">GeoDataFrame.set_crs()</a></p></td>\n",
    "    <td><p>Set the Coordinate Reference System (CRS) of the GeoDataFrame. <b>### Only use if data does not have CRS defined! ###</b></p></td>\n",
    "</tr>\n",
    "</tbody>\n",
    "</table>\n",
    "\n"
   ]
  },
  {
   "cell_type": "markdown",
   "id": "4013fa08",
   "metadata": {
    "slideshow": {
     "slide_type": "slide"
    }
   },
   "source": [
    "### GeoPandas Accepted Definitions\n",
    "\n",
    "\n",
    "- CRS WKT string\n",
    "- __An authority string (i.e. “epsg:4326”)__\n",
    "- __An EPSG integer code (i.e. 4326)__\n",
    "- A pyproj.CRS\n",
    "- An object with a to_wkt method.\n",
    "- PROJ string\n",
    "- Dictionary of PROJ parameters\n",
    "- PROJ keyword arguments for parameters\n",
    "- JSON string with PROJ parameters\n",
    "\n",
    "<sup> source: https://geopandas.org/docs/user_guide/projections.html </sup>"
   ]
  },
  {
   "cell_type": "markdown",
   "id": "baba2108",
   "metadata": {
    "slideshow": {
     "slide_type": "slide"
    }
   },
   "source": [
    "### EPSG Codes\n",
    "\n",
    "You can find library of EPSG codes at: https://spatialreference.org/"
   ]
  },
  {
   "cell_type": "markdown",
   "id": "b3465de2",
   "metadata": {
    "slideshow": {
     "slide_type": "slide"
    }
   },
   "source": [
    "### Let's Play Around with CRS"
   ]
  },
  {
   "cell_type": "code",
   "execution_count": null,
   "id": "4d5f3c8b",
   "metadata": {
    "slideshow": {
     "slide_type": "fragment"
    }
   },
   "outputs": [],
   "source": [
    "world = geopandas.read_file(geopandas.datasets.get_path('naturalearth_lowres'))\n",
    "world.crs"
   ]
  },
  {
   "cell_type": "code",
   "execution_count": null,
   "id": "6361698c",
   "metadata": {
    "slideshow": {
     "slide_type": "slide"
    }
   },
   "outputs": [],
   "source": [
    "world.head()"
   ]
  },
  {
   "cell_type": "code",
   "execution_count": null,
   "id": "7361dd5b",
   "metadata": {
    "slideshow": {
     "slide_type": "slide"
    }
   },
   "outputs": [],
   "source": [
    "world.plot()"
   ]
  },
  {
   "cell_type": "code",
   "execution_count": null,
   "id": "20913fd2",
   "metadata": {
    "slideshow": {
     "slide_type": "slide"
    }
   },
   "outputs": [],
   "source": [
    "tissots = geopandas.read_file(\"tutorial_files/tissots_circles/Tissots_circles.shp\")\n",
    "\n",
    "if(world.crs != tissots.crs):\n",
    "    print(\"CRS doesn't match.  Cannot plot.\")\n",
    "else:\n",
    "    base = tissots.plot()\n",
    "    world.boundary.plot(ax=base, color=\"black\")\n"
   ]
  },
  {
   "cell_type": "markdown",
   "id": "84366311",
   "metadata": {
    "slideshow": {
     "slide_type": "slide"
    }
   },
   "source": [
    "### Projections\n",
    "\n",
    "- Lets convert to \"WGS 84 / Australian Antarctic Polar Stereographic\" projection."
   ]
  },
  {
   "cell_type": "code",
   "execution_count": null,
   "id": "5b0b9071",
   "metadata": {
    "slideshow": {
     "slide_type": "fragment"
    }
   },
   "outputs": [],
   "source": [
    "world_3031 = world.to_crs(\"EPSG:3031\")\n",
    "tissots_3031 = tissots.to_crs(\"EPSG:3031\")\n",
    "\n",
    "world_3031.crs"
   ]
  },
  {
   "cell_type": "code",
   "execution_count": null,
   "id": "8f76b1f5",
   "metadata": {
    "slideshow": {
     "slide_type": "slide"
    }
   },
   "outputs": [],
   "source": [
    "if(world_3031.crs != tissots_3031.crs):\n",
    "    print(\"CRS doesn't match.  Cannot plot.\")\n",
    "else:\n",
    "    base = tissots_3031.plot()\n",
    "    world_3031.boundary.plot(ax=base, color=\"black\")"
   ]
  },
  {
   "cell_type": "code",
   "execution_count": null,
   "id": "59d88c69",
   "metadata": {
    "slideshow": {
     "slide_type": "slide"
    }
   },
   "outputs": [],
   "source": [
    "world_3031.columns"
   ]
  },
  {
   "cell_type": "code",
   "execution_count": null,
   "id": "3af55588",
   "metadata": {
    "slideshow": {
     "slide_type": "fragment"
    }
   },
   "outputs": [],
   "source": [
    "antartica = world_3031[world_3031[\"continent\"] == \"Antarctica\"]\n",
    "antartica.plot()"
   ]
  },
  {
   "cell_type": "code",
   "execution_count": null,
   "id": "234b869c",
   "metadata": {
    "slideshow": {
     "slide_type": "slide"
    }
   },
   "outputs": [],
   "source": [
    "antartica.total_bounds"
   ]
  },
  {
   "cell_type": "code",
   "execution_count": null,
   "id": "7ee58873",
   "metadata": {
    "slideshow": {
     "slide_type": "fragment"
    }
   },
   "outputs": [],
   "source": [
    "xmin, ymin, xmax, ymax = antartica.total_bounds\n",
    "\n",
    "if(world_3031.crs != tissots_3031.crs):\n",
    "    print(\"CRS doesn't match.  Cannot plot.\")\n",
    "else:\n",
    "    base = tissots_3031.plot()\n",
    "    base.set_xlim(xmin*(1+4), xmax*(1+4))\n",
    "    base.set_ylim(ymin*(1+4), ymax*(1+4))\n",
    "    \n",
    "    world_3031.boundary.plot(ax=base, color=\"black\")"
   ]
  },
  {
   "cell_type": "markdown",
   "id": "1a65b21f",
   "metadata": {
    "slideshow": {
     "slide_type": "slide"
    }
   },
   "source": [
    "### Additional Resources\n",
    "\n",
    "- <a href=\"http://geokov.com/education/map-projection.aspx\">Map Projections - types and distortion patterns</a>\n",
    "- <a href=\"https://www.axismaps.com/guide/general/map-projections/\">Map Projections</a>\n",
    "- <a href=\"https://alastaira.wordpress.com/2011/01/23/the-google-maps-bing-maps-spherical-mercator-projection/\">The Google Maps / Bing Maps Spherical Mercator Projection</a>\n",
    "- <a href=\"http://bl.ocks.org/syntagmatic/raw/ba569633d51ebec6ec6e/\">Exploratory Projection Widget</a>\n",
    "- <a href=\"https://www.earthdatascience.org/\">Earth Lab</a>"
   ]
  },
  {
   "cell_type": "markdown",
   "id": "ce0e7631",
   "metadata": {
    "slideshow": {
     "slide_type": "slide"
    }
   },
   "source": [
    "# Back to our Example"
   ]
  },
  {
   "cell_type": "code",
   "execution_count": null,
   "id": "6e72ea30",
   "metadata": {
    "slideshow": {
     "slide_type": "slide"
    }
   },
   "outputs": [],
   "source": [
    "print(\"mbta_lines CRS\")\n",
    "print(mbta_lines.crs)\n",
    "print(\"\\nmbta_stations CRS\")\n",
    "print(mbta_stations.crs)\n",
    "print(\"\\nma_block CRS\")\n",
    "print(ma_block.crs)"
   ]
  },
  {
   "cell_type": "code",
   "execution_count": null,
   "id": "6b6ea6d1",
   "metadata": {
    "slideshow": {
     "slide_type": "fragment"
    }
   },
   "outputs": [],
   "source": [
    "ma_block_proj = ma_block.to_crs(mbta_lines.crs)"
   ]
  },
  {
   "cell_type": "code",
   "execution_count": null,
   "id": "79b51965",
   "metadata": {
    "slideshow": {
     "slide_type": "slide"
    }
   },
   "outputs": [],
   "source": [
    "fig, ax = plt.subplots(figsize=(10, 5))\n",
    "for ctype, data in mbta_lines.groupby('LINE'):\n",
    "    color = subway_colors[ctype]\n",
    "    data.plot(color=color,\n",
    "              ax=ax,\n",
    "              label=ctype)\n",
    "ax.legend(bbox_to_anchor=(1.5, .5), prop={'size': 12})\n",
    "ax.set(title='MBTA Subway Lines')\n",
    "ax.set_axis_off()\n",
    "mbta_stations.plot(ax=ax, color=\"black\", zorder=1)\n",
    "ma_block_proj.plot(ax=ax,column=\"NAMELSAD\", alpha=0.5)\n",
    "plt.show()"
   ]
  },
  {
   "cell_type": "code",
   "execution_count": null,
   "id": "eaf12b4a",
   "metadata": {
    "slideshow": {
     "slide_type": "slide"
    }
   },
   "outputs": [],
   "source": [
    "bounds = mbta_lines.to_crs(\"EPSG:4269\").total_bounds"
   ]
  },
  {
   "cell_type": "code",
   "execution_count": null,
   "id": "3ef86f1d",
   "metadata": {
    "slideshow": {
     "slide_type": "fragment"
    }
   },
   "outputs": [],
   "source": [
    "ma_block = geopandas.read_file(gdp_path, layer=\"Block_Group\", bbox=tuple(bounds) )\n",
    "ma_block.plot(column=\"NAMELSAD\", alpha=0.5)\n"
   ]
  },
  {
   "cell_type": "code",
   "execution_count": null,
   "id": "36a66224",
   "metadata": {
    "slideshow": {
     "slide_type": "slide"
    }
   },
   "outputs": [],
   "source": [
    "# Need to convert to Mass Projection.\n",
    "ma_block_proj = ma_block.to_crs(mbta_lines.crs)"
   ]
  },
  {
   "cell_type": "code",
   "execution_count": null,
   "id": "0d2932f9",
   "metadata": {
    "slideshow": {
     "slide_type": "slide"
    }
   },
   "outputs": [],
   "source": [
    "fig, ax = plt.subplots()\n",
    "for ctype, data in mbta_lines.groupby('LINE'):\n",
    "    color = subway_colors[ctype]\n",
    "    data.plot(color=color, ax=ax, label=ctype)\n",
    "ax.legend(bbox_to_anchor=(1, .5), prop={'size': 12})\n",
    "ax.set(title='MBTA Subway Lines')\n",
    "ax.set_axis_off()\n",
    "mbta_stations.plot(ax=ax, color=\"black\", zorder=1, alpha=1)\n",
    "ma_block_proj.plot(ax=ax, zorder=0, column=\"NAMELSAD\", alpha=0.25, edgecolor=\"black\")\n",
    "plt.show()"
   ]
  },
  {
   "cell_type": "markdown",
   "id": "1319b11a",
   "metadata": {
    "slideshow": {
     "slide_type": "slide"
    }
   },
   "source": [
    "# 7. Spatial Feature Attributes\n",
    "- This is focused on just one layer.\n",
    "- What is the length/area of each feature?\n",
    "- What is the distance from one feature to another?"
   ]
  },
  {
   "cell_type": "markdown",
   "id": "3d9c7a36",
   "metadata": {
    "slideshow": {
     "slide_type": "slide"
    }
   },
   "source": [
    "### Area"
   ]
  },
  {
   "cell_type": "code",
   "execution_count": null,
   "id": "9da5f7fd",
   "metadata": {
    "slideshow": {
     "slide_type": "fragment"
    }
   },
   "outputs": [],
   "source": [
    "ma_block.columns"
   ]
  },
  {
   "cell_type": "code",
   "execution_count": null,
   "id": "63726d89",
   "metadata": {
    "slideshow": {
     "slide_type": "fragment"
    }
   },
   "outputs": [],
   "source": [
    "ma_block.area"
   ]
  },
  {
   "cell_type": "code",
   "execution_count": null,
   "id": "9843bdef",
   "metadata": {
    "slideshow": {
     "slide_type": "slide"
    }
   },
   "outputs": [],
   "source": [
    "ma_block.crs"
   ]
  },
  {
   "cell_type": "code",
   "execution_count": null,
   "id": "57751473",
   "metadata": {
    "slideshow": {
     "slide_type": "slide"
    }
   },
   "outputs": [],
   "source": [
    "ma_block_proj = ma_block.to_crs(\"EPSG:26986\")\n",
    "ma_block_proj.crs"
   ]
  },
  {
   "cell_type": "code",
   "execution_count": null,
   "id": "03e0923a",
   "metadata": {
    "slideshow": {
     "slide_type": "slide"
    }
   },
   "outputs": [],
   "source": [
    "ma_block_proj.area"
   ]
  },
  {
   "cell_type": "code",
   "execution_count": null,
   "id": "da4b423e",
   "metadata": {
    "slideshow": {
     "slide_type": "slide"
    }
   },
   "outputs": [],
   "source": [
    "ma_block_proj[\"area\"] = ma_block_proj.area\n",
    "ma_block_proj.head()"
   ]
  },
  {
   "cell_type": "markdown",
   "id": "e12582cb",
   "metadata": {
    "slideshow": {
     "slide_type": "fragment"
    }
   },
   "source": [
    "What are the units of *area*?"
   ]
  },
  {
   "cell_type": "markdown",
   "id": "dd5b0d35",
   "metadata": {
    "slideshow": {
     "slide_type": "slide"
    }
   },
   "source": [
    "### Perimeter"
   ]
  },
  {
   "cell_type": "code",
   "execution_count": null,
   "id": "ded21324",
   "metadata": {
    "slideshow": {
     "slide_type": "fragment"
    }
   },
   "outputs": [],
   "source": [
    "ma_block_proj[\"perimeter_m\"] = ma_block_proj.length\n",
    "ma_block_proj.head()"
   ]
  },
  {
   "cell_type": "markdown",
   "id": "13eb9262",
   "metadata": {
    "slideshow": {
     "slide_type": "slide"
    }
   },
   "source": [
    "### Centroid"
   ]
  },
  {
   "cell_type": "code",
   "execution_count": null,
   "id": "129fedab",
   "metadata": {
    "slideshow": {
     "slide_type": "fragment"
    }
   },
   "outputs": [],
   "source": [
    "ma_block_proj[\"centroid\"] = ma_block_proj.centroid\n",
    "ma_block_proj.head()"
   ]
  },
  {
   "cell_type": "code",
   "execution_count": null,
   "id": "b7c36f0f",
   "metadata": {
    "slideshow": {
     "slide_type": "slide"
    }
   },
   "outputs": [],
   "source": [
    "ma_block_proj.dtypes"
   ]
  },
  {
   "cell_type": "markdown",
   "id": "7d980c4f",
   "metadata": {
    "slideshow": {
     "slide_type": "fragment"
    }
   },
   "source": [
    "Note that there are two geometry columns!"
   ]
  },
  {
   "cell_type": "code",
   "execution_count": null,
   "id": "5660fc7b",
   "metadata": {
    "slideshow": {
     "slide_type": "slide"
    }
   },
   "outputs": [],
   "source": [
    "ma_block_proj.plot(column=\"NAMELSAD\")"
   ]
  },
  {
   "cell_type": "code",
   "execution_count": null,
   "id": "ae1ab343",
   "metadata": {
    "slideshow": {
     "slide_type": "slide"
    }
   },
   "outputs": [],
   "source": [
    "ma_block_proj.geometry.name"
   ]
  },
  {
   "cell_type": "code",
   "execution_count": null,
   "id": "a4eca3b4",
   "metadata": {
    "slideshow": {
     "slide_type": "fragment"
    }
   },
   "outputs": [],
   "source": [
    "ma_block_proj = ma_block_proj.set_geometry('centroid')\n",
    "ma_block_proj.plot(column=\"NAMELSAD\")"
   ]
  },
  {
   "cell_type": "code",
   "execution_count": null,
   "id": "1465b884",
   "metadata": {
    "slideshow": {
     "slide_type": "slide"
    }
   },
   "outputs": [],
   "source": [
    "ma_block_proj = ma_block_proj.set_geometry('geometry')"
   ]
  },
  {
   "cell_type": "markdown",
   "id": "d7bfe438",
   "metadata": {
    "slideshow": {
     "slide_type": "slide"
    }
   },
   "source": [
    "# 8. Spatial Processing\n",
    "Spatial Processing allows us to ask questions regarding two layers.\n",
    "- What are the nearest block groups to Kenmore Station?\n",
    "- Which block groups have an MBTA station?\n",
    "- Which block groups have MBTA lines that pass through them?\n",
    "- Which block groups are within one mile radius of MBTA tracks?"
   ]
  },
  {
   "cell_type": "markdown",
   "id": "9742e404",
   "metadata": {
    "slideshow": {
     "slide_type": "slide"
    }
   },
   "source": [
    "### Distance\n",
    "What are the nearest blocks groups to Kenmore station?"
   ]
  },
  {
   "cell_type": "code",
   "execution_count": null,
   "id": "25d64948",
   "metadata": {
    "slideshow": {
     "slide_type": "fragment"
    }
   },
   "outputs": [],
   "source": [
    "kenmore_station = mbta_stations.loc[mbta_stations['STATION'] == \"Kenmore\"]\n",
    "\n",
    "type(kenmore_station.geometry.iloc[0])"
   ]
  },
  {
   "cell_type": "code",
   "execution_count": null,
   "id": "e926dbdf",
   "metadata": {
    "slideshow": {
     "slide_type": "fragment"
    }
   },
   "outputs": [],
   "source": [
    "ma_block_proj[\"dist_to_kenmore_m\"] = ma_block_proj.distance(kenmore_station.geometry.iloc[0])\n",
    "ma_block_proj.head(n=3)"
   ]
  },
  {
   "cell_type": "code",
   "execution_count": null,
   "id": "da127681",
   "metadata": {
    "slideshow": {
     "slide_type": "slide"
    }
   },
   "outputs": [],
   "source": [
    "near_kenmore = ma_block_proj.sort_values(['dist_to_kenmore_m'], ascending=[True]).head(n=5)\n",
    "\n",
    "base = near_kenmore.plot(column=\"NAMELSAD\")\n",
    "kenmore_station.plot(ax=base, zorder=2, color=\"black\")"
   ]
  },
  {
   "cell_type": "markdown",
   "id": "2ca3a7f4",
   "metadata": {
    "slideshow": {
     "slide_type": "slide"
    }
   },
   "source": [
    "### Within\n",
    "Which Census Block Groups have an MBTA Station?"
   ]
  },
  {
   "cell_type": "code",
   "execution_count": null,
   "id": "d50cb0db",
   "metadata": {
    "slideshow": {
     "slide_type": "fragment"
    }
   },
   "outputs": [],
   "source": [
    "ma_block_proj[\"w_station\"] = ma_block_proj.geometry.apply(lambda x: mbta_stations.geometry.within(x).any())\n",
    "ma_block_proj.head(n=3)"
   ]
  },
  {
   "cell_type": "code",
   "execution_count": null,
   "id": "cd679aff",
   "metadata": {
    "slideshow": {
     "slide_type": "slide"
    }
   },
   "outputs": [],
   "source": [
    "base = ma_block_proj.plot(column=\"w_station\", legend=True, categorical=True, cmap=\"Paired\")\n",
    "mbta_lines.plot(ax=base, color=\"black\", alpha=0.5)"
   ]
  },
  {
   "cell_type": "markdown",
   "id": "002d73d9",
   "metadata": {
    "slideshow": {
     "slide_type": "slide"
    }
   },
   "source": [
    "### Spatial Join\n",
    "- Joining the attributes of two layers based on their spatial location to each other.\n",
    "- Spatial joins are normally done with point and polygon layers, line and polygon layers, or line and line layers."
   ]
  },
  {
   "cell_type": "markdown",
   "id": "022d3d2c",
   "metadata": {
    "slideshow": {
     "slide_type": "slide"
    }
   },
   "source": [
    "__Contains__ - Do any points exist inside the polygon?\n",
    "<img src=\"files/images/sjoin_contains.png\" alt=\"compass\" style=\"width:500px\"/>    \n",
    "\n",
    "\n",
    "Note: Since three points exist within the polygon, the ouput of this process will result in 3 identical polygons but different attributes of each point."
   ]
  },
  {
   "cell_type": "markdown",
   "id": "ae14b712",
   "metadata": {
    "slideshow": {
     "slide_type": "slide"
    }
   },
   "source": [
    "### Example"
   ]
  },
  {
   "cell_type": "code",
   "execution_count": null,
   "id": "0cc028a7",
   "metadata": {
    "slideshow": {
     "slide_type": "fragment"
    }
   },
   "outputs": [],
   "source": [
    "print(\"ma_block_proj\")\n",
    "print(ma_block_proj.columns)\n",
    "print(\"\\nmbta_stations\")\n",
    "print(mbta_stations.columns)"
   ]
  },
  {
   "cell_type": "code",
   "execution_count": null,
   "id": "d3401303",
   "metadata": {
    "slideshow": {
     "slide_type": "fragment"
    }
   },
   "outputs": [],
   "source": [
    "blocks_w_stations = geopandas.sjoin(ma_block_proj, mbta_stations, how=\"inner\", op='contains')\n",
    "blocks_w_stations.head(n=2)"
   ]
  },
  {
   "cell_type": "code",
   "execution_count": null,
   "id": "9bf1e05c",
   "metadata": {
    "slideshow": {
     "slide_type": "slide"
    }
   },
   "outputs": [],
   "source": [
    "blocks_w_stations[\"LINE\"].unique()"
   ]
  },
  {
   "cell_type": "code",
   "execution_count": null,
   "id": "6050025b",
   "metadata": {
    "slideshow": {
     "slide_type": "fragment"
    }
   },
   "outputs": [],
   "source": [
    "subway_colors = {'SILVER': 'grey',\n",
    "               'ORANGE': 'orange',\n",
    "               'GREEN': 'green',\n",
    "               'RED': 'red',\n",
    "                'BLUE':'blue',\n",
    "                'GREEN/ORANGE': 'yellow',\n",
    "                'BLUE/GREEN': 'yellow',\n",
    "                'ORANGE/RED': 'yellow',\n",
    "                'GREEN/RED': 'yellow',\n",
    "                'BLUE/ORANGE': 'yellow'}"
   ]
  },
  {
   "cell_type": "code",
   "execution_count": null,
   "id": "6d74aa76",
   "metadata": {
    "slideshow": {
     "slide_type": "slide"
    }
   },
   "outputs": [],
   "source": [
    "fig, ax = plt.subplots()\n",
    "for ctype, data in blocks_w_stations.groupby('LINE'):\n",
    "    color = subway_colors[ctype]\n",
    "    data.plot(color=color, ax=ax, label=ctype)\n",
    "plt.show()"
   ]
  },
  {
   "cell_type": "markdown",
   "id": "9416a09f",
   "metadata": {
    "slideshow": {
     "slide_type": "slide"
    }
   },
   "source": [
    "```python\n",
    "geopandas.sjoin(ma_block_proj, mbta_stations, how= , op=\"contains\")\n",
    "```\n",
    "\n",
    "__how__ options:\n",
    "- __left__ - Retain all __ma_block_proj__ features and append __mbta_stations__ attributes where the result of \"op\" is True.\n",
    "- __inner__ - Retain only __ma_block_proj__ features where the result of \"op\" is True and append __mbta_stations__ attributes to __ma_block_proj__ that satisfy the \"op\".\n",
    "- __right__ - Retain all __mbta_stations__ features and append __ma_block_proj__ where the result of \"op\" is True.\n",
    "\n",
    "<sup> Source: https://geopandas.org/docs/user_guide/mergingdata.html#sjoin-arguments</sup>"
   ]
  },
  {
   "cell_type": "code",
   "execution_count": null,
   "id": "bfb3d853",
   "metadata": {
    "slideshow": {
     "slide_type": "slide"
    }
   },
   "outputs": [],
   "source": [
    "print(\"ma_block_proj\")\n",
    "print(ma_block_proj.columns)\n",
    "print(ma_block_proj.shape)\n",
    "print(\"\\nmbta_stations\")\n",
    "print(mbta_stations.columns)\n",
    "print(mbta_stations.shape)"
   ]
  },
  {
   "cell_type": "code",
   "execution_count": null,
   "id": "51000896",
   "metadata": {
    "slideshow": {
     "slide_type": "fragment"
    }
   },
   "outputs": [],
   "source": [
    "# Note to Dennis, do \"right\" first\n",
    "\n",
    "blocks_w_stations = geopandas.sjoin(ma_block_proj, mbta_stations, how=\"inner\", op='contains')\n",
    "print(blocks_w_stations.shape)\n",
    "blocks_w_stations.columns"
   ]
  },
  {
   "cell_type": "code",
   "execution_count": null,
   "id": "10e5aeb8",
   "metadata": {
    "slideshow": {
     "slide_type": "slide"
    }
   },
   "outputs": [],
   "source": [
    "blocks_w_stations[[\"GEOID\", \"STATION\"]].groupby(by=\"GEOID\").count().sort_values(by=\"STATION\", ascending=False ).head(15)"
   ]
  },
  {
   "cell_type": "code",
   "execution_count": null,
   "id": "96704cfe",
   "metadata": {
    "slideshow": {
     "slide_type": "slide"
    }
   },
   "outputs": [],
   "source": [
    "blocks_w_stations[blocks_w_stations[\"GEOID\"] == \"250259813002\"][\"STATION\"]"
   ]
  },
  {
   "cell_type": "markdown",
   "id": "c986a7d3",
   "metadata": {
    "slideshow": {
     "slide_type": "slide"
    }
   },
   "source": [
    "###  Intersect\n",
    "Do any line segments intersect the polygon?\n",
    "<img src=\"files/images/sjoin_intersect.png\" alt=\"compass\" style=\"width:500px\"/>    "
   ]
  },
  {
   "cell_type": "markdown",
   "id": "7b282261",
   "metadata": {
    "slideshow": {
     "slide_type": "slide"
    }
   },
   "source": [
    "What Census Group Blocks have MBTA Rapid transit tracks going through them?"
   ]
  },
  {
   "cell_type": "code",
   "execution_count": null,
   "id": "5f466ac6",
   "metadata": {
    "slideshow": {
     "slide_type": "fragment"
    }
   },
   "outputs": [],
   "source": [
    "blocks_w_lines = geopandas.sjoin(ma_block_proj, mbta_lines, how=\"inner\", op='intersects')\n",
    "\n",
    "base = blocks_w_lines.plot(column=\"NAMELSAD\", alpha=0.5)\n",
    "#mbta_lines.plot(ax=base, color=\"black\")"
   ]
  },
  {
   "cell_type": "markdown",
   "id": "20b3b80a",
   "metadata": {
    "slideshow": {
     "slide_type": "slide"
    }
   },
   "source": [
    "GeoPandas uses the following operators:\n",
    "- __contains__ -  Returns True if no points of other lie in the exterior of the object and at least one point of the interior of other lies in the interior of object.\n",
    "- __crosses__ - Returns True if the interior of the object intersects the interior of the other but does not contain it, and the dimension of the intersection is less than the dimension of the one or the other.\n",
    "- __disjoint__ - Returns True if the boundary and interior of the object do not intersect at all with those of the other.\n",
    "- __intersects__ - Returns True if the boundary or interior of the object intersect in any way with those of the other. In other words, geometric objects intersect if they have any boundary or interior point in common.\n",
    "- __overlaps__ - Returns True if the geometries have more than one but not all points in common, have the same dimension, and the intersection of the interiors of the geometries has the same dimension as the geometries themselves.\n",
    "- __touches__ - Returns True if the objects have at least one point in common and their interiors do not intersect with any part of the other.\n",
    "- __within__ - Returns True if the object’s boundary and interior intersect only with the interior of the other (not its boundary or exterior).\n",
    "\n",
    "<sup>Source: https://shapely.readthedocs.io/en/stable/manual.html?highlight=binary%20predicates#binary-predicates</sup>"
   ]
  },
  {
   "cell_type": "markdown",
   "id": "8b3e0769",
   "metadata": {
    "slideshow": {
     "slide_type": "slide"
    }
   },
   "source": [
    "### Buffer, Dissolve, Overlay\n",
    "What Census Group Blocks are within 800 meters of MBTA Rapid Transit tracks?"
   ]
  },
  {
   "cell_type": "code",
   "execution_count": null,
   "id": "ccdb584a",
   "metadata": {
    "slideshow": {
     "slide_type": "fragment"
    }
   },
   "outputs": [],
   "source": [
    "mbta_lines[\"buffer\"] = mbta_lines.buffer(800)\n",
    "mbta_lines.head()"
   ]
  },
  {
   "cell_type": "code",
   "execution_count": null,
   "id": "c709888d",
   "metadata": {
    "slideshow": {
     "slide_type": "slide"
    }
   },
   "outputs": [],
   "source": [
    "mbta_lines = mbta_lines.set_geometry(\"buffer\")\n",
    "print(mbta_lines.shape)\n",
    "mbta_lines.plot(column=\"LINE\", edgecolor=\"black\")"
   ]
  },
  {
   "cell_type": "code",
   "execution_count": null,
   "id": "15697a9d",
   "metadata": {
    "slideshow": {
     "slide_type": "slide"
    }
   },
   "outputs": [],
   "source": [
    "mbta_buffers = mbta_lines.dissolve(by=\"LINE\", aggfunc='sum')\n",
    "mbta_buffers.head()"
   ]
  },
  {
   "cell_type": "code",
   "execution_count": null,
   "id": "2f004d19",
   "metadata": {
    "slideshow": {
     "slide_type": "slide"
    }
   },
   "outputs": [],
   "source": [
    "mbta_buffers[\"LINE\"] = mbta_buffers.index\n",
    "print(mbta_buffers.shape)\n",
    "mbta_buffers.plot(edgecolor=\"black\", column=\"LINE\")"
   ]
  },
  {
   "cell_type": "code",
   "execution_count": null,
   "id": "e8e3226b",
   "metadata": {
    "slideshow": {
     "slide_type": "slide"
    }
   },
   "outputs": [],
   "source": [
    "ma_block_proj.columns"
   ]
  },
  {
   "cell_type": "code",
   "execution_count": null,
   "id": "804f1fea",
   "metadata": {
    "slideshow": {
     "slide_type": "fragment"
    }
   },
   "outputs": [],
   "source": [
    "blocks_within_buffer = geopandas.overlay(ma_block_proj, mbta_buffers, how=\"intersection\")\n",
    "blocks_within_buffer.head(n=3)"
   ]
  },
  {
   "cell_type": "code",
   "execution_count": null,
   "id": "f2263e98",
   "metadata": {
    "slideshow": {
     "slide_type": "slide"
    }
   },
   "outputs": [],
   "source": [
    "blocks_within_buffer.plot(column=\"LINE\", edgecolor=\"black\", linewidth=0.2)"
   ]
  },
  {
   "cell_type": "code",
   "execution_count": null,
   "id": "7f99bc4b",
   "metadata": {
    "slideshow": {
     "slide_type": "slide"
    }
   },
   "outputs": [],
   "source": [
    "blocks_within_buffer[\"area_in_buffer\"] = blocks_within_buffer.area"
   ]
  },
  {
   "cell_type": "code",
   "execution_count": null,
   "id": "6d6058bc",
   "metadata": {
    "slideshow": {
     "slide_type": "fragment"
    }
   },
   "outputs": [],
   "source": [
    "blocks_within_buffer[[\"area\", \"area_in_buffer\"]].head(n=3)"
   ]
  },
  {
   "cell_type": "code",
   "execution_count": null,
   "id": "9ef2ed02",
   "metadata": {
    "slideshow": {
     "slide_type": "fragment"
    }
   },
   "outputs": [],
   "source": [
    "blocks_within_buffer[\"area_ratio\"] = blocks_within_buffer[\"area_in_buffer\"]/blocks_within_buffer[\"area\"] \n",
    "blocks_within_buffer[[\"area\", \"area_in_buffer\", \"area_ratio\"]].head(n=3)"
   ]
  },
  {
   "cell_type": "markdown",
   "id": "954d7549",
   "metadata": {
    "slideshow": {
     "slide_type": "slide"
    }
   },
   "source": [
    "More information about overlay function: https://geopandas.org/docs/user_guide/set_operations.html"
   ]
  },
  {
   "cell_type": "markdown",
   "id": "3e9ab66d",
   "metadata": {
    "slideshow": {
     "slide_type": "slide"
    }
   },
   "source": [
    "# Saving GIS Data\n",
    "\n",
    "There are many GIS data formats that exist.  You will be limited to what you can export to, based on what libraries are installed on your system."
   ]
  },
  {
   "cell_type": "code",
   "execution_count": null,
   "id": "36d04c4a",
   "metadata": {
    "slideshow": {
     "slide_type": "slide"
    }
   },
   "outputs": [],
   "source": [
    "import fiona\n",
    "fiona.supported_drivers"
   ]
  },
  {
   "cell_type": "markdown",
   "id": "8f525953",
   "metadata": {
    "slideshow": {
     "slide_type": "fragment"
    }
   },
   "source": [
    "__r__ - read  \n",
    "__a__ - append  \n",
    "__w__ - write  \n",
    "\n",
    "GeoDatabase format falls under *OpenFileGDB*."
   ]
  },
  {
   "cell_type": "markdown",
   "id": "86cf00a7",
   "metadata": {
    "slideshow": {
     "slide_type": "slide"
    }
   },
   "source": [
    "### Save layers as GeoPackage\n",
    "\n",
    "\n",
    "<sup>https://www.geopackage.org/</sup>"
   ]
  },
  {
   "cell_type": "code",
   "execution_count": null,
   "id": "f345f502",
   "metadata": {
    "slideshow": {
     "slide_type": "fragment"
    }
   },
   "outputs": [],
   "source": [
    "blocks_w_stations.to_file(\"tut_output.gpkg\", driver=\"GPKG\", layer=\"blocks_w_stations\")"
   ]
  },
  {
   "cell_type": "markdown",
   "id": "c14763b5",
   "metadata": {
    "slideshow": {
     "slide_type": "slide"
    }
   },
   "source": [
    "The error is not clear, but it is complaining there are two \"geometry\" fields in this layer.  Most file formats only support one geometry field."
   ]
  },
  {
   "cell_type": "code",
   "execution_count": null,
   "id": "cab67b52",
   "metadata": {
    "slideshow": {
     "slide_type": "fragment"
    }
   },
   "outputs": [],
   "source": [
    "blocks_w_stations.dtypes"
   ]
  },
  {
   "cell_type": "code",
   "execution_count": null,
   "id": "1dca5ba3",
   "metadata": {
    "slideshow": {
     "slide_type": "slide"
    }
   },
   "outputs": [],
   "source": [
    "# Set the appropriate geometry column you want to save\n",
    "blocks_w_stations.set_geometry(\"geometry\", inplace=True)\n",
    "\n",
    "# Remove the other geometry column\n",
    "blocks_w_stations.drop(columns=[\"centroid\"], inplace=True)\n",
    "\n",
    "# Save the layer in a GeoPackage\n",
    "blocks_w_stations.to_file(\"tut_output.gpkg\", driver=\"GPKG\", layer=\"blocks_w_stations\")"
   ]
  },
  {
   "cell_type": "code",
   "execution_count": null,
   "id": "f50a910b",
   "metadata": {
    "slideshow": {
     "slide_type": "fragment"
    }
   },
   "outputs": [],
   "source": [
    "fiona.listlayers(\"tut_output.gpkg\")"
   ]
  },
  {
   "cell_type": "code",
   "execution_count": null,
   "id": "cedd7ebf",
   "metadata": {
    "slideshow": {
     "slide_type": "slide"
    }
   },
   "outputs": [],
   "source": [
    "blocks_within_buffer.set_geometry(\"geometry\", inplace=True)\n",
    "blocks_within_buffer.drop(columns=[\"centroid\"], inplace=True)\n",
    "\n",
    "ma_block_proj.set_geometry(\"geometry\", inplace=True)\n",
    "ma_block_proj.drop(columns=[\"centroid\"], inplace=True)\n",
    "\n",
    "mbta_lines.set_geometry(\"geometry\", inplace=True)\n",
    "mbta_lines.drop(columns=[\"buffer\"], inplace=True)\n",
    "\n",
    "blocks_w_lines.set_geometry(\"geometry\", inplace=True)\n",
    "blocks_w_lines.drop(columns=[\"centroid\"], inplace=True)"
   ]
  },
  {
   "cell_type": "code",
   "execution_count": null,
   "id": "ac8abf43",
   "metadata": {
    "slideshow": {
     "slide_type": "slide"
    }
   },
   "outputs": [],
   "source": [
    "blocks_within_buffer.to_file(\"test.gpkg\", driver=\"GPKG\", layer=\"blocks_within_buffer\")\n",
    "ma_block_proj.to_file(\"tut_output.gpkg\", driver=\"GPKG\", layer=\"ma_block_proj\")\n",
    "mbta_lines.to_file(\"tut_output.gpkg\", driver=\"GPKG\", layer=\"mbta_lines\")\n",
    "blocks_w_lines.to_file(\"tut_output.gpkg\", driver=\"GPKG\", layer=\"blocks_w_lines\")"
   ]
  },
  {
   "cell_type": "code",
   "execution_count": null,
   "id": "80012fcd",
   "metadata": {
    "slideshow": {
     "slide_type": "fragment"
    }
   },
   "outputs": [],
   "source": [
    "fiona.listlayers(\"tut_output.gpkg\")"
   ]
  },
  {
   "cell_type": "markdown",
   "id": "ee3d6141",
   "metadata": {
    "slideshow": {
     "slide_type": "slide"
    }
   },
   "source": [
    "# Questions?\n",
    "\n",
    "\n",
    "## Data Sources\n",
    "- Tissot Circle - https://mgimond.github.io/ArcGIS_tutorials/Tissot_circle.htm  \n",
    "- Mass. Census Boundary Data - https://www2.census.gov/geo/tiger/TGRGDB19/tlgdb_2019_a_25_ma.gdb.zip  \n",
    "- MBTA Rapid Transit - https://www.mass.gov/info-details/massgis-data-mbta-rapid-transit"
   ]
  }
 ],
 "metadata": {
  "celltoolbar": "Slideshow",
  "language_info": {
   "codemirror_mode": {
    "name": "ipython",
    "version": 3
   },
   "file_extension": ".py",
   "mimetype": "text/x-python",
   "name": "python",
   "nbconvert_exporter": "python",
   "pygments_lexer": "ipython3",
   "version": "3.8.10"
  }
 },
 "nbformat": 4,
 "nbformat_minor": 5
}
