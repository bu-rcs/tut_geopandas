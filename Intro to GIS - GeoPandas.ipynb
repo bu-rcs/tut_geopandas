{
  "cells": [
    {
      "cell_type": "markdown",
      "id": "a6cabe63",
      "metadata": {
        "id": "a6cabe63"
      },
      "source": [
        "# Introduction to GIS - Using GeoPandas\n",
        "\n",
        "- Dennis Milechin, P.E., GISP\n",
        "- <a href=\"http://rcs.bu.edu\">Research Computing Services</a>\n",
        "\n"
      ]
    },
    {
      "cell_type": "markdown",
      "id": "b4801840",
      "metadata": {
        "id": "b4801840"
      },
      "source": [
        "# Outline\n",
        "\n",
        "1. Download tutorial data.\n",
        "1. Explore GeoPandas\n",
        "1. Coordinate Reference System (CRS)\n",
        "1. Calculate Spatial Attributes\n",
        "1. Spatial Processing\n",
        "1. Saving GIS Data\n"
      ]
    },
    {
      "cell_type": "markdown",
      "source": [
        "# 1. Download Tutorial Data\n"
      ],
      "metadata": {
        "id": "eBdISEAeq8f3"
      },
      "id": "eBdISEAeq8f3"
    },
    {
      "cell_type": "markdown",
      "source": [
        "Below we will use linux `wget` and `unzip` to get the data we need.\n",
        "\n",
        "If oyu are not using Google Collab, you can download the data directly using this link:\n",
        "http://rcs.bu.edu/examples/gis/tutorials/python_geopandas/tutorial_files.zip"
      ],
      "metadata": {
        "id": "Pe8Cyff8wbrA"
      },
      "id": "Pe8Cyff8wbrA"
    },
    {
      "cell_type": "code",
      "source": [
        "!wget http://rcs.bu.edu/examples/gis/tutorials/python_geopandas/tutorial_files.zip"
      ],
      "metadata": {
        "collapsed": true,
        "id": "EVHGqdWPnOjK"
      },
      "execution_count": null,
      "outputs": [],
      "id": "EVHGqdWPnOjK"
    },
    {
      "cell_type": "code",
      "source": [
        "!unzip tutorial_files.zip"
      ],
      "metadata": {
        "collapsed": true,
        "id": "DqYmr9M3nV9E"
      },
      "execution_count": null,
      "outputs": [],
      "id": "DqYmr9M3nV9E"
    },
    {
      "cell_type": "markdown",
      "id": "09e40fcd",
      "metadata": {
        "id": "09e40fcd"
      },
      "source": [
        "# 2. Explore GeoPandas\n",
        "\n"
      ]
    },
    {
      "cell_type": "markdown",
      "source": [
        "> GeoPandas is an open source project to make working with geospatial data in python easier. GeoPandas extends the datatypes used by pandas to allow spatial operations on geometric types.\n",
        "\n",
        "<sup>source: https://geopandas.org/index.html</sup>\n",
        "\n",
        "__Note:__ GeoPandas is for processing vector data.\n",
        "\n",
        "User Guide: https://geopandas.org/docs/user_guide.html\n",
        "\n",
        "### Vector\n",
        "\n",
        "<img src=\"https://github.com/milechin/tut_geopandas/blob/main/images/vector_data.png?raw=true\" alt=\"compass\" style=\"width:500px\"/>  "
      ],
      "metadata": {
        "id": "7ZowQGfvwXOV"
      },
      "id": "7ZowQGfvwXOV"
    },
    {
      "cell_type": "markdown",
      "id": "8be2ccad",
      "metadata": {
        "id": "8be2ccad"
      },
      "source": [
        "### GeoPandas - Dependencies\n",
        "\n",
        "- __numpy__\n",
        "- __pandas__\n",
        "- __shapely__  - Spatial Operations\n",
        "- __pyogrio__  - Reading and Writing Files\n",
        "- __pyproj__ - Projection definition and transformations\n",
        "\n",
        "Source: https://geopandas.org/getting_started/install.html#dependencies"
      ]
    },
    {
      "cell_type": "markdown",
      "id": "69881aa3",
      "metadata": {
        "id": "69881aa3"
      },
      "source": [
        "### Read Shapefile\n"
      ]
    },
    {
      "cell_type": "code",
      "execution_count": null,
      "id": "24db60c7",
      "metadata": {
        "id": "24db60c7"
      },
      "outputs": [],
      "source": [
        "import geopandas\n",
        "\n",
        "mbta_stations = geopandas.read_file(\"./mbta_rapid_transit/MBTA_NODE.shp\")\n",
        "mbta_stations.head()"
      ]
    },
    {
      "cell_type": "markdown",
      "id": "691301f4",
      "metadata": {
        "id": "691301f4"
      },
      "source": [
        "- \"geometry\" column contains spatial information.\n",
        "- rows - known as \"features\" or \"records\".\n",
        "- columns - known as \"attributes\" or \"fields\"."
      ]
    },
    {
      "cell_type": "markdown",
      "id": "bee24ee4",
      "metadata": {
        "id": "bee24ee4"
      },
      "source": [
        "Let's look at types for each column:"
      ]
    },
    {
      "cell_type": "code",
      "execution_count": null,
      "id": "28a893cc",
      "metadata": {
        "id": "28a893cc"
      },
      "outputs": [],
      "source": [
        "mbta_stations.dtypes"
      ]
    },
    {
      "cell_type": "markdown",
      "id": "f2a58128",
      "metadata": {
        "id": "f2a58128"
      },
      "source": [
        "### Plotting"
      ]
    },
    {
      "cell_type": "code",
      "execution_count": null,
      "id": "d8a3a80c",
      "metadata": {
        "id": "d8a3a80c"
      },
      "outputs": [],
      "source": [
        "mbta_stations.plot()"
      ]
    },
    {
      "cell_type": "code",
      "execution_count": null,
      "id": "795db574",
      "metadata": {
        "id": "795db574"
      },
      "outputs": [],
      "source": [
        "mbta_stations.plot(column=\"LINE\", legend=False)"
      ]
    },
    {
      "cell_type": "markdown",
      "id": "b152f2f0",
      "metadata": {
        "id": "b152f2f0"
      },
      "source": [
        "### Load Polyline Data"
      ]
    },
    {
      "cell_type": "code",
      "execution_count": null,
      "id": "8f4e3686",
      "metadata": {
        "id": "8f4e3686"
      },
      "outputs": [],
      "source": [
        "mbta_lines = geopandas.read_file(\"./mbta_rapid_transit/MBTA_ARC.shp\")\n",
        "mbta_lines.head()"
      ]
    },
    {
      "cell_type": "code",
      "execution_count": null,
      "id": "a8f0ceaf",
      "metadata": {
        "id": "a8f0ceaf"
      },
      "outputs": [],
      "source": [
        "mbta_lines.LINE.unique()"
      ]
    },
    {
      "cell_type": "code",
      "execution_count": null,
      "id": "120885ba",
      "metadata": {
        "id": "120885ba"
      },
      "outputs": [],
      "source": [
        "mbta_lines.plot(column=\"LINE\", cmap='tab10')"
      ]
    },
    {
      "cell_type": "markdown",
      "id": "be3fed2a",
      "metadata": {
        "id": "be3fed2a"
      },
      "source": [
        "### Select By Attribute"
      ]
    },
    {
      "cell_type": "code",
      "execution_count": null,
      "id": "2312a52b",
      "metadata": {
        "id": "2312a52b"
      },
      "outputs": [],
      "source": [
        "mbta_lines.LINE.unique()"
      ]
    },
    {
      "cell_type": "code",
      "execution_count": null,
      "id": "8703b4b7",
      "metadata": {
        "id": "8703b4b7"
      },
      "outputs": [],
      "source": [
        "green_line = mbta_lines[mbta_lines[\"LINE\"]==\"GREEN\"]\n",
        "green_line"
      ]
    },
    {
      "cell_type": "code",
      "execution_count": null,
      "id": "ffc8ddb2",
      "metadata": {
        "id": "ffc8ddb2"
      },
      "outputs": [],
      "source": [
        "green_line.geometry.plot(cmap='tab10')"
      ]
    },
    {
      "cell_type": "markdown",
      "id": "75e5c23b",
      "metadata": {
        "id": "75e5c23b"
      },
      "source": [
        "### Color by Attribute\n",
        "\n",
        "<sup>This example obtained from : https://www.earthdatascience.org/courses/scientists-guide-to-plotting-data-in-python/plot-spatial-data/customize-vector-plots/python-customize-map-legends-geopandas/</sup>\n"
      ]
    },
    {
      "cell_type": "code",
      "execution_count": null,
      "id": "846db761",
      "metadata": {
        "id": "846db761"
      },
      "outputs": [],
      "source": [
        "import matplotlib.pyplot as plt\n",
        "subway_colors = {'SILVER': 'grey',\n",
        "               'ORANGE': 'orange',\n",
        "               'GREEN': 'green',\n",
        "               'RED': 'red',\n",
        "                'BLUE':'blue'}"
      ]
    },
    {
      "cell_type": "code",
      "execution_count": null,
      "id": "649ec45e",
      "metadata": {
        "id": "649ec45e"
      },
      "outputs": [],
      "source": [
        "fig, ax = plt.subplots()\n",
        "for ctype, data in mbta_lines.groupby('LINE'):\n",
        "    color = subway_colors[ctype]\n",
        "    data.plot(color=color, ax=ax, label=ctype)\n",
        "\n",
        "ax.legend(bbox_to_anchor=(1.5, .5), prop={'size': 12})\n",
        "ax.set(title='MBTA Subway Lines')\n",
        "ax.set_axis_off()\n",
        "\n",
        "mbta_stations.plot(ax=ax, color=\"black\", zorder=2)\n",
        "plt.show()"
      ]
    },
    {
      "cell_type": "markdown",
      "id": "0c0efd12",
      "metadata": {
        "id": "0c0efd12"
      },
      "source": [
        "### Load data from Geodatabase\n",
        "\n",
        "- *Geodatabase* is an ESRI developed model.  Similiar open source is *GeoPackage*.\n",
        "- Both act like a database and will contain multiple layers."
      ]
    },
    {
      "cell_type": "code",
      "execution_count": null,
      "id": "e3239771",
      "metadata": {
        "id": "e3239771"
      },
      "outputs": [],
      "source": [
        "gdp_path = \"./tlgdb_2019_a_25_ma.gdb\"\n",
        "geopandas.list_layers(gdp_path)"
      ]
    },
    {
      "cell_type": "code",
      "execution_count": null,
      "id": "c17fefa9",
      "metadata": {
        "id": "c17fefa9"
      },
      "outputs": [],
      "source": [
        "ma_block = geopandas.read_file(gdp_path, layer=\"Block_Group\")"
      ]
    },
    {
      "cell_type": "code",
      "execution_count": null,
      "id": "f4803213",
      "metadata": {
        "id": "f4803213"
      },
      "outputs": [],
      "source": [
        "ma_block.head()"
      ]
    },
    {
      "cell_type": "code",
      "execution_count": null,
      "id": "59a260df",
      "metadata": {
        "id": "59a260df"
      },
      "outputs": [],
      "source": [
        "ma_block.plot(column=\"NAMELSAD\")"
      ]
    },
    {
      "cell_type": "markdown",
      "id": "dd1a4c21",
      "metadata": {
        "id": "dd1a4c21"
      },
      "source": [
        "###  Determine vector data type\n",
        "    "
      ]
    },
    {
      "cell_type": "code",
      "execution_count": null,
      "id": "1a1f9275",
      "metadata": {
        "id": "1a1f9275"
      },
      "outputs": [],
      "source": [
        "print(\"mbta_stations\")\n",
        "print(mbta_stations.geometry.type.unique())\n",
        "\n",
        "print(\"\\nmbta_lines\")\n",
        "print(mbta_lines.geometry.type.unique())\n",
        "\n",
        "print(\"\\nma_block\")\n",
        "print(ma_block.geometry.type.unique())"
      ]
    },
    {
      "cell_type": "markdown",
      "id": "30be1541",
      "metadata": {
        "id": "30be1541"
      },
      "source": [
        "### Plotting Multiple Layers on a Map\n",
        "Let's plot all three layers on a single map."
      ]
    },
    {
      "cell_type": "code",
      "execution_count": null,
      "id": "5789a17c",
      "metadata": {
        "id": "5789a17c"
      },
      "outputs": [],
      "source": [
        "fig, ax = plt.subplots(figsize=(5, 5))\n",
        "\n",
        "for ctype, data in mbta_lines.groupby('LINE'):\n",
        "    color = subway_colors[ctype]\n",
        "    data.plot(color=color, ax=ax, label=ctype)\n",
        "\n",
        "ax.legend(bbox_to_anchor=(1.5, .5), prop={'size': 12})\n",
        "ax.set(title='MBTA Subway Lines')\n",
        "ax.set_axis_off()\n",
        "\n",
        "mbta_stations.plot(ax=ax, color=\"black\", zorder=1)  # MBTA Stations layer\n",
        "ma_block.plot(ax=ax) # MA Group Block layer\n",
        "\n",
        "plt.show()"
      ]
    },
    {
      "cell_type": "code",
      "execution_count": null,
      "id": "dd63846b",
      "metadata": {
        "id": "dd63846b"
      },
      "outputs": [],
      "source": [
        "print(\"mbta_lines CRS\")\n",
        "print(mbta_lines.crs)\n",
        "print(\"\\nmbta_stations CRS\")\n",
        "print(mbta_stations.crs)\n",
        "print(\"\\nma_block CRS\")\n",
        "print(ma_block.crs)"
      ]
    },
    {
      "cell_type": "markdown",
      "id": "d4198d61",
      "metadata": {
        "id": "d4198d61"
      },
      "source": [
        "# 3. Coordinate Reference System (CRS)"
      ]
    },
    {
      "cell_type": "markdown",
      "source": [
        "__Geographic coordinate system__ and __projections__ are known as Coordinate Reference System (__CRS__) in GIS."
      ],
      "metadata": {
        "id": "VNrFuHImwhBw"
      },
      "id": "VNrFuHImwhBw"
    },
    {
      "cell_type": "markdown",
      "id": "4d1ccc07",
      "metadata": {
        "id": "4d1ccc07"
      },
      "source": [
        "### GeoPandas CRS Functions\n",
        "\n",
        "<table>\n",
        "<colgroup>\n",
        "<col style=\"width: 10%\" />\n",
        "<col style=\"width: 90%\" />\n",
        "</colgroup>\n",
        "<tbody>\n",
        "<tr ><td><p><a href=\"https://geopandas.org/docs/reference/api/geopandas.GeoDataFrame.crs.html#geopandas.GeoDataFrame.crs\">GeoDataFrame.crs</a></p></td>\n",
        "<td><p>The Coordinate Reference System (CRS) represented as a pyproj.CRSobject.</p></td>\n",
        "</tr>\n",
        "<tr><td><p><a href=\"https://geopandas.org/docs/reference/api/geopandas.GeoDataFrame.to_crs.html#geopandas.GeoDataFrame.to_crs\">GeoDataFrame.to_crs()</a></p></td>\n",
        "<td><p>Transform geometries to a new coordinate reference system.</p></td>\n",
        "</tr>\n",
        "<tr><td><p><a href=\"https://geopandas.org/docs/reference/api/geopandas.GeoDataFrame.set_crs.html#geopandas.GeoDataFrame.set_crs\">GeoDataFrame.set_crs()</a></p></td>\n",
        "    <td><p>Set the Coordinate Reference System (CRS) of the GeoDataFrame. <b>### Only use if data does not have CRS defined! ###</b></p></td>\n",
        "</tr>\n",
        "</tbody>\n",
        "</table>\n",
        "\n"
      ]
    },
    {
      "cell_type": "markdown",
      "id": "4013fa08",
      "metadata": {
        "id": "4013fa08"
      },
      "source": [
        "### GeoPandas Accepted Definitions\n",
        "\n",
        "\n",
        "- CRS WKT string\n",
        "- __An authority string (i.e. “epsg:4326”)__\n",
        "- __An EPSG integer code (i.e. 4326)__\n",
        "- A pyproj.CRS\n",
        "- An object with a to_wkt method.\n",
        "- PROJ string\n",
        "- Dictionary of PROJ parameters\n",
        "- PROJ keyword arguments for parameters\n",
        "- JSON string with PROJ parameters\n",
        "\n",
        "<sup> source: https://geopandas.org/docs/user_guide/projections.html </sup>"
      ]
    },
    {
      "cell_type": "markdown",
      "id": "baba2108",
      "metadata": {
        "id": "baba2108"
      },
      "source": [
        "### EPSG Codes\n",
        "\n",
        "You can find library of EPSG codes at: https://spatialreference.org/"
      ]
    },
    {
      "cell_type": "markdown",
      "id": "b3465de2",
      "metadata": {
        "id": "b3465de2"
      },
      "source": [
        "### Let's Play Around with CRS"
      ]
    },
    {
      "cell_type": "code",
      "execution_count": null,
      "id": "4d5f3c8b",
      "metadata": {
        "scrolled": true,
        "id": "4d5f3c8b"
      },
      "outputs": [],
      "source": [
        "world = geopandas.read_file(\"ne_110m_admin_0_countries/ne_110m_admin_0_countries.shp\")\n",
        "world.crs"
      ]
    },
    {
      "cell_type": "code",
      "execution_count": null,
      "id": "6361698c",
      "metadata": {
        "id": "6361698c"
      },
      "outputs": [],
      "source": [
        "world.head()"
      ]
    },
    {
      "cell_type": "code",
      "execution_count": null,
      "id": "7361dd5b",
      "metadata": {
        "id": "7361dd5b"
      },
      "outputs": [],
      "source": [
        "world.plot()"
      ]
    },
    {
      "cell_type": "markdown",
      "id": "84366311",
      "metadata": {
        "id": "84366311"
      },
      "source": [
        "### Projections\n",
        "\n",
        "- Lets convert to \"WGS 84 / Australian Antarctic Polar Stereographic\" projection."
      ]
    },
    {
      "cell_type": "code",
      "execution_count": null,
      "id": "5b0b9071",
      "metadata": {
        "id": "5b0b9071"
      },
      "outputs": [],
      "source": [
        "world_3031 = world.to_crs(\"epsg:3031\")\n",
        "world_3031.crs"
      ]
    },
    {
      "cell_type": "code",
      "execution_count": null,
      "id": "21ca2527",
      "metadata": {
        "id": "21ca2527"
      },
      "outputs": [],
      "source": [
        "world_3031.plot()"
      ]
    },
    {
      "cell_type": "code",
      "execution_count": null,
      "id": "3af55588",
      "metadata": {
        "id": "3af55588"
      },
      "outputs": [],
      "source": [
        "antartica_3031 = world_3031[world_3031[\"ADMIN\"] == \"Antarctica\"]\n",
        "antartica_3031.plot()"
      ]
    },
    {
      "cell_type": "code",
      "execution_count": null,
      "id": "234b869c",
      "metadata": {
        "id": "234b869c"
      },
      "outputs": [],
      "source": [
        "antartica = world[world[\"ADMIN\"] == \"Antarctica\"]\n",
        "antartica.plot()"
      ]
    },
    {
      "cell_type": "markdown",
      "id": "ce0e7631",
      "metadata": {
        "id": "ce0e7631"
      },
      "source": [
        "## Back to our Example"
      ]
    },
    {
      "cell_type": "code",
      "execution_count": null,
      "id": "6e72ea30",
      "metadata": {
        "id": "6e72ea30"
      },
      "outputs": [],
      "source": [
        "print(\"mbta_lines CRS\")\n",
        "print(mbta_lines.crs)\n",
        "print(\"\\nmbta_stations CRS\")\n",
        "print(mbta_stations.crs)\n",
        "print(\"\\nma_block CRS\")\n",
        "print(ma_block.crs)"
      ]
    },
    {
      "cell_type": "code",
      "execution_count": null,
      "id": "6b6ea6d1",
      "metadata": {
        "id": "6b6ea6d1"
      },
      "outputs": [],
      "source": [
        "ma_block_proj = ma_block.to_crs(mbta_lines.crs)"
      ]
    },
    {
      "cell_type": "code",
      "execution_count": null,
      "id": "79b51965",
      "metadata": {
        "id": "79b51965"
      },
      "outputs": [],
      "source": [
        "fig, ax = plt.subplots(figsize=(10, 5))\n",
        "for ctype, data in mbta_lines.groupby('LINE'):\n",
        "    color = subway_colors[ctype]\n",
        "    data.plot(color=color,\n",
        "              ax=ax,\n",
        "              label=ctype)\n",
        "ax.legend(bbox_to_anchor=(0.5, .5), prop={'size': 12})\n",
        "ax.set(title='MBTA Subway Lines')\n",
        "ax.set_axis_off()\n",
        "mbta_stations.plot(ax=ax, color=\"black\", zorder=1)\n",
        "ma_block_proj.plot(ax=ax,column=\"NAMELSAD\", alpha=0.5)\n",
        "plt.show()"
      ]
    },
    {
      "cell_type": "code",
      "execution_count": null,
      "id": "eaf12b4a",
      "metadata": {
        "id": "eaf12b4a"
      },
      "outputs": [],
      "source": [
        "bounds = mbta_lines.to_crs(\"EPSG:4269\").total_bounds"
      ]
    },
    {
      "cell_type": "code",
      "execution_count": null,
      "id": "3ef86f1d",
      "metadata": {
        "id": "3ef86f1d"
      },
      "outputs": [],
      "source": [
        "ma_block = geopandas.read_file(gdp_path, layer=\"Block_Group\", bbox=tuple(bounds))\n",
        "ma_block.plot(column=\"NAMELSAD\", alpha=0.5)"
      ]
    },
    {
      "cell_type": "code",
      "execution_count": null,
      "id": "36a66224",
      "metadata": {
        "id": "36a66224"
      },
      "outputs": [],
      "source": [
        "# Need to convert to Mass Projection.\n",
        "ma_block_proj = ma_block.to_crs(mbta_lines.crs)"
      ]
    },
    {
      "cell_type": "code",
      "execution_count": null,
      "id": "0d2932f9",
      "metadata": {
        "id": "0d2932f9"
      },
      "outputs": [],
      "source": [
        "fig, ax = plt.subplots()\n",
        "for ctype, data in mbta_lines.groupby('LINE'):\n",
        "    color = subway_colors[ctype]\n",
        "    data.plot(color=color, ax=ax, label=ctype)\n",
        "ax.legend(bbox_to_anchor=(1, .5), prop={'size': 12})\n",
        "ax.set(title='MBTA Subway Lines')\n",
        "ax.set_axis_off()\n",
        "mbta_stations.plot(ax=ax, color=\"black\", zorder=1, alpha=1)\n",
        "ma_block_proj.plot(ax=ax, zorder=0, column=\"NAMELSAD\", alpha=0.25, edgecolor=\"black\")\n",
        "plt.show()"
      ]
    },
    {
      "cell_type": "markdown",
      "id": "1319b11a",
      "metadata": {
        "id": "1319b11a"
      },
      "source": [
        "# 4. Calculate Spatial Attributes\n"
      ]
    },
    {
      "cell_type": "markdown",
      "source": [
        "- This is focused on just one layer.\n",
        "- What is the length/area of each feature?\n",
        "- What is the distance from one feature to another?"
      ],
      "metadata": {
        "id": "UJMIItGcwl7F"
      },
      "id": "UJMIItGcwl7F"
    },
    {
      "cell_type": "markdown",
      "id": "3d9c7a36",
      "metadata": {
        "id": "3d9c7a36"
      },
      "source": [
        "### Area"
      ]
    },
    {
      "cell_type": "code",
      "execution_count": null,
      "id": "9da5f7fd",
      "metadata": {
        "id": "9da5f7fd"
      },
      "outputs": [],
      "source": [
        "ma_block.columns"
      ]
    },
    {
      "cell_type": "code",
      "execution_count": null,
      "id": "63726d89",
      "metadata": {
        "id": "63726d89"
      },
      "outputs": [],
      "source": [
        "ma_block.area"
      ]
    },
    {
      "cell_type": "code",
      "execution_count": null,
      "id": "9843bdef",
      "metadata": {
        "id": "9843bdef"
      },
      "outputs": [],
      "source": [
        "ma_block.crs"
      ]
    },
    {
      "cell_type": "code",
      "execution_count": null,
      "id": "57751473",
      "metadata": {
        "id": "57751473"
      },
      "outputs": [],
      "source": [
        "ma_block_proj = ma_block.to_crs(\"EPSG:26986\")\n",
        "ma_block_proj.crs"
      ]
    },
    {
      "cell_type": "code",
      "execution_count": null,
      "id": "03e0923a",
      "metadata": {
        "id": "03e0923a"
      },
      "outputs": [],
      "source": [
        "ma_block_proj.area"
      ]
    },
    {
      "cell_type": "code",
      "execution_count": null,
      "id": "da4b423e",
      "metadata": {
        "id": "da4b423e"
      },
      "outputs": [],
      "source": [
        "ma_block_proj[\"area\"] = ma_block_proj.area\n",
        "ma_block_proj.head()"
      ]
    },
    {
      "cell_type": "markdown",
      "id": "e12582cb",
      "metadata": {
        "id": "e12582cb"
      },
      "source": [
        "What are the units of *area*?"
      ]
    },
    {
      "cell_type": "markdown",
      "id": "dd5b0d35",
      "metadata": {
        "id": "dd5b0d35"
      },
      "source": [
        "### Perimeter"
      ]
    },
    {
      "cell_type": "code",
      "execution_count": null,
      "id": "ded21324",
      "metadata": {
        "id": "ded21324"
      },
      "outputs": [],
      "source": [
        "ma_block_proj[\"perimeter_m\"] = ma_block_proj.length\n",
        "ma_block_proj.head()"
      ]
    },
    {
      "cell_type": "markdown",
      "id": "13eb9262",
      "metadata": {
        "id": "13eb9262"
      },
      "source": [
        "### Centroid"
      ]
    },
    {
      "cell_type": "code",
      "execution_count": null,
      "id": "129fedab",
      "metadata": {
        "id": "129fedab"
      },
      "outputs": [],
      "source": [
        "ma_block_proj[\"centroid\"] = ma_block_proj.centroid\n",
        "ma_block_proj.head()"
      ]
    },
    {
      "cell_type": "code",
      "execution_count": null,
      "id": "b7c36f0f",
      "metadata": {
        "id": "b7c36f0f"
      },
      "outputs": [],
      "source": [
        "ma_block_proj.dtypes"
      ]
    },
    {
      "cell_type": "markdown",
      "id": "7d980c4f",
      "metadata": {
        "id": "7d980c4f"
      },
      "source": [
        "Note that there are two geometry columns!"
      ]
    },
    {
      "cell_type": "code",
      "execution_count": null,
      "id": "5660fc7b",
      "metadata": {
        "id": "5660fc7b"
      },
      "outputs": [],
      "source": [
        "ma_block_proj.plot(column=\"NAMELSAD\")"
      ]
    },
    {
      "cell_type": "code",
      "execution_count": null,
      "id": "ae1ab343",
      "metadata": {
        "id": "ae1ab343"
      },
      "outputs": [],
      "source": [
        "ma_block_proj.geometry.name"
      ]
    },
    {
      "cell_type": "code",
      "execution_count": null,
      "id": "a4eca3b4",
      "metadata": {
        "id": "a4eca3b4"
      },
      "outputs": [],
      "source": [
        "ma_block_proj = ma_block_proj.set_geometry('centroid')\n",
        "ma_block_proj.plot(column=\"NAMELSAD\")"
      ]
    },
    {
      "cell_type": "code",
      "execution_count": null,
      "id": "1465b884",
      "metadata": {
        "id": "1465b884"
      },
      "outputs": [],
      "source": [
        "ma_block_proj = ma_block_proj.set_geometry('geometry')"
      ]
    },
    {
      "cell_type": "markdown",
      "id": "d7bfe438",
      "metadata": {
        "id": "d7bfe438"
      },
      "source": [
        "# 5. Spatial Processing\n"
      ]
    },
    {
      "cell_type": "markdown",
      "source": [
        "Spatial Processing allows us to ask questions regarding two layers.\n",
        "- What are the nearest block groups to Kenmore Station?\n",
        "- Which block groups have an MBTA station?\n",
        "- Which block groups have MBTA lines that pass through them?\n",
        "- Which block groups are within one mile radius of MBTA tracks?"
      ],
      "metadata": {
        "id": "NoWlMAIjwtM_"
      },
      "id": "NoWlMAIjwtM_"
    },
    {
      "cell_type": "markdown",
      "id": "9742e404",
      "metadata": {
        "id": "9742e404"
      },
      "source": [
        "### Distance\n",
        "What are the nearest block groups to Kenmore station?"
      ]
    },
    {
      "cell_type": "code",
      "execution_count": null,
      "id": "25d64948",
      "metadata": {
        "id": "25d64948"
      },
      "outputs": [],
      "source": [
        "kenmore_station = mbta_stations.loc[mbta_stations['STATION'] == \"Kenmore\"]\n",
        "\n",
        "type(kenmore_station.geometry.iloc[0])"
      ]
    },
    {
      "cell_type": "code",
      "execution_count": null,
      "id": "e926dbdf",
      "metadata": {
        "id": "e926dbdf"
      },
      "outputs": [],
      "source": [
        "ma_block_proj[\"dist_to_kenmore_m\"] = ma_block_proj.distance(kenmore_station.geometry.iloc[0])\n",
        "ma_block_proj.head(n=3)"
      ]
    },
    {
      "cell_type": "code",
      "execution_count": null,
      "id": "da127681",
      "metadata": {
        "id": "da127681"
      },
      "outputs": [],
      "source": [
        "near_kenmore = ma_block_proj.sort_values(['dist_to_kenmore_m'], ascending=[True]).head(n=5)\n",
        "\n",
        "base = near_kenmore.plot(column=\"NAMELSAD\")\n",
        "kenmore_station.plot(ax=base, zorder=2, color=\"black\")"
      ]
    },
    {
      "cell_type": "markdown",
      "id": "2ca3a7f4",
      "metadata": {
        "id": "2ca3a7f4"
      },
      "source": [
        "### Within\n",
        "Which Census Block Groups have an MBTA Station?"
      ]
    },
    {
      "cell_type": "code",
      "execution_count": null,
      "id": "d50cb0db",
      "metadata": {
        "id": "d50cb0db"
      },
      "outputs": [],
      "source": [
        "ma_block_proj[\"w_station\"] = ma_block_proj.geometry.apply(lambda x: mbta_stations.geometry.within(x).any())\n",
        "ma_block_proj.head(n=3)"
      ]
    },
    {
      "cell_type": "code",
      "execution_count": null,
      "id": "cd679aff",
      "metadata": {
        "id": "cd679aff"
      },
      "outputs": [],
      "source": [
        "base = ma_block_proj.plot(column=\"w_station\", legend=True, categorical=True, cmap=\"Paired\")\n",
        "mbta_lines.plot(ax=base, color=\"black\", alpha=0.5)"
      ]
    },
    {
      "cell_type": "markdown",
      "id": "002d73d9",
      "metadata": {
        "id": "002d73d9"
      },
      "source": [
        "### Spatial Join\n",
        "- Joining the attributes of two layers based on their spatial location to each other.\n",
        "- Spatial joins are normally done with point and polygon layers, line and polygon layers, or line and line layers."
      ]
    },
    {
      "cell_type": "markdown",
      "id": "022d3d2c",
      "metadata": {
        "id": "022d3d2c"
      },
      "source": [
        "__Contains__ - Do any points exist inside the polygon?\n",
        "<img src=\"https://github.com/milechin/tut_geopandas/blob/main/images/sjoin_contains.png?raw=true\" alt=\"compass\" style=\"width:500px\"/>    \n",
        "\n",
        "\n",
        "Note: Since three points exist within the polygon, the ouput of this process will result in 3 identical polygons but will have different attributes representing each point."
      ]
    },
    {
      "cell_type": "markdown",
      "id": "ae14b712",
      "metadata": {
        "id": "ae14b712"
      },
      "source": [
        "### Example"
      ]
    },
    {
      "cell_type": "code",
      "execution_count": null,
      "id": "0cc028a7",
      "metadata": {
        "id": "0cc028a7"
      },
      "outputs": [],
      "source": [
        "print(\"ma_block_proj\")\n",
        "print(ma_block_proj.columns)\n",
        "print(\"\\nmbta_stations\")\n",
        "print(mbta_stations.columns)"
      ]
    },
    {
      "cell_type": "code",
      "execution_count": null,
      "id": "d3401303",
      "metadata": {
        "id": "d3401303"
      },
      "outputs": [],
      "source": [
        "blocks_w_stations = geopandas.sjoin(ma_block_proj, mbta_stations, how=\"inner\", predicate='contains')\n",
        "blocks_w_stations.head(n=2)"
      ]
    },
    {
      "cell_type": "code",
      "execution_count": null,
      "id": "9bf1e05c",
      "metadata": {
        "id": "9bf1e05c"
      },
      "outputs": [],
      "source": [
        "blocks_w_stations[\"LINE\"].unique()"
      ]
    },
    {
      "cell_type": "code",
      "execution_count": null,
      "id": "6050025b",
      "metadata": {
        "id": "6050025b"
      },
      "outputs": [],
      "source": [
        "subway_colors = {'SILVER': 'grey',\n",
        "               'ORANGE': 'orange',\n",
        "               'GREEN': 'green',\n",
        "               'RED': 'red',\n",
        "                'BLUE':'blue',\n",
        "                'GREEN/ORANGE': 'yellow',\n",
        "                'BLUE/GREEN': 'yellow',\n",
        "                'ORANGE/RED': 'yellow',\n",
        "                'GREEN/RED': 'yellow',\n",
        "                'BLUE/ORANGE': 'yellow'}"
      ]
    },
    {
      "cell_type": "code",
      "execution_count": null,
      "id": "6d74aa76",
      "metadata": {
        "id": "6d74aa76"
      },
      "outputs": [],
      "source": [
        "fig, ax = plt.subplots()\n",
        "for ctype, data in blocks_w_stations.groupby('LINE'):\n",
        "    color = subway_colors[ctype]\n",
        "    data.plot(color=color, ax=ax, label=ctype)\n",
        "plt.show()"
      ]
    },
    {
      "cell_type": "code",
      "execution_count": null,
      "id": "bfb3d853",
      "metadata": {
        "id": "bfb3d853"
      },
      "outputs": [],
      "source": [
        "print(\"ma_block_proj\")\n",
        "print(ma_block_proj.columns)\n",
        "print(ma_block_proj.shape)\n",
        "print(\"\\nmbta_stations\")\n",
        "print(mbta_stations.columns)\n",
        "print(mbta_stations.shape)"
      ]
    },
    {
      "cell_type": "code",
      "execution_count": null,
      "id": "51000896",
      "metadata": {
        "id": "51000896"
      },
      "outputs": [],
      "source": [
        "# Note to Dennis, do \"right\" first\n",
        "blocks_w_stations = geopandas.sjoin(ma_block_proj, mbta_stations, how=\"left\", predicate='contains')\n",
        "print(blocks_w_stations.shape)\n",
        "blocks_w_stations.columns"
      ]
    },
    {
      "cell_type": "markdown",
      "id": "9416a09f",
      "metadata": {
        "id": "9416a09f"
      },
      "source": [
        "```python\n",
        "geopandas.sjoin(ma_block_proj, mbta_stations, how= , predicate=\"contains\")\n",
        "```\n",
        "\n",
        "__how__ options:\n",
        "- __left__ - Retain all __ma_block_proj__ features and append __mbta_stations__ attributes where the result of \"predicate\" is True.\n",
        "- __inner__ - Retain only __ma_block_proj__ features where the result of \"predicate\" is True and append __mbta_stations__ attributes to __ma_block_proj__ that satisfy the \"predicate\".\n",
        "- __right__ - Retain all __mbta_stations__ features and append __ma_block_proj__ where the result of \"predicate\" is True.\n",
        "\n",
        "<sup> Source: https://geopandas.org/en/stable/docs/user_guide/mergingdata.html#binary-predicate-joins</sup>"
      ]
    },
    {
      "cell_type": "code",
      "execution_count": null,
      "id": "10e5aeb8",
      "metadata": {
        "id": "10e5aeb8"
      },
      "outputs": [],
      "source": [
        "blocks_w_stations[[\"GEOID\", \"STATION\"]].groupby(by=\"GEOID\").count().sort_values(by=\"STATION\", ascending=False ).head(15)"
      ]
    },
    {
      "cell_type": "code",
      "execution_count": null,
      "id": "96704cfe",
      "metadata": {
        "id": "96704cfe"
      },
      "outputs": [],
      "source": [
        "blocks_w_stations[blocks_w_stations[\"GEOID\"] == \"250259813002\"][\"STATION\"]"
      ]
    },
    {
      "cell_type": "markdown",
      "id": "c986a7d3",
      "metadata": {
        "id": "c986a7d3"
      },
      "source": [
        "###  Intersect\n",
        "Do any line segments intersect the polygon?\n",
        "<img src=\"https://github.com/milechin/tut_geopandas/blob/main/images/sjoin_intersect.png?raw=true\" alt=\"compass\" style=\"width:500px\"/>    "
      ]
    },
    {
      "cell_type": "markdown",
      "id": "7b282261",
      "metadata": {
        "id": "7b282261"
      },
      "source": [
        "What Census Group Blocks have MBTA Rapid transit tracks going through them?"
      ]
    },
    {
      "cell_type": "code",
      "execution_count": null,
      "id": "5f466ac6",
      "metadata": {
        "id": "5f466ac6"
      },
      "outputs": [],
      "source": [
        "blocks_w_lines = geopandas.sjoin(ma_block_proj, mbta_lines, how=\"inner\", predicate='intersects')\n",
        "\n",
        "base = blocks_w_lines.plot(column=\"NAMELSAD\", alpha=0.5)\n",
        "mbta_lines.plot(ax=base, color=\"black\")"
      ]
    },
    {
      "cell_type": "markdown",
      "id": "20b3b80a",
      "metadata": {
        "id": "20b3b80a"
      },
      "source": [
        "GeoPandas uses the following operators:\n",
        "- __contains__ -  Returns True if no points of other lie in the exterior of the object and at least one point of the interior of other lies in the interior of object.\n",
        "- __crosses__ - Returns True if the interior of the object intersects the interior of the other but does not contain it, and the dimension of the intersection is less than the dimension of the one or the other.\n",
        "- __disjoint__ - Returns True if the boundary and interior of the object do not intersect at all with those of the other.\n",
        "- __intersects__ - Returns True if the boundary or interior of the object intersect in any way with those of the other. In other words, geometric objects intersect if they have any boundary or interior point in common.\n",
        "- __overlaps__ - Returns True if the geometries have more than one but not all points in common, have the same dimension, and the intersection of the interiors of the geometries has the same dimension as the geometries themselves.\n",
        "- __touches__ - Returns True if the objects have at least one point in common and their interiors do not intersect with any part of the other.\n",
        "- __within__ - Returns True if the object’s boundary and interior intersect only with the interior of the other (not its boundary or exterior)."
      ]
    },
    {
      "cell_type": "markdown",
      "id": "8b3e0769",
      "metadata": {
        "id": "8b3e0769"
      },
      "source": [
        "### Buffer, Dissolve, Overlay\n",
        "What Census Group Blocks are within 800 meters of MBTA Rapid Transit tracks?"
      ]
    },
    {
      "cell_type": "code",
      "execution_count": null,
      "id": "ccdb584a",
      "metadata": {
        "id": "ccdb584a"
      },
      "outputs": [],
      "source": [
        "mbta_lines[\"buffer\"] = mbta_lines.buffer(800)\n",
        "mbta_lines.head()"
      ]
    },
    {
      "cell_type": "code",
      "execution_count": null,
      "id": "c709888d",
      "metadata": {
        "id": "c709888d"
      },
      "outputs": [],
      "source": [
        "mbta_lines = mbta_lines.set_geometry(\"buffer\")\n",
        "print(mbta_lines.shape)\n",
        "mbta_lines.plot(column=\"LINE\", edgecolor=\"black\")"
      ]
    },
    {
      "cell_type": "code",
      "execution_count": null,
      "id": "15697a9d",
      "metadata": {
        "id": "15697a9d"
      },
      "outputs": [],
      "source": [
        "mbta_buffers = mbta_lines.dissolve(by=\"LINE\")\n",
        "mbta_buffers.head()"
      ]
    },
    {
      "cell_type": "code",
      "execution_count": null,
      "id": "2f004d19",
      "metadata": {
        "id": "2f004d19"
      },
      "outputs": [],
      "source": [
        "mbta_buffers[\"LINE\"] = mbta_buffers.index\n",
        "print(mbta_buffers.shape)\n",
        "mbta_buffers.plot(edgecolor=\"black\", column=\"LINE\")"
      ]
    },
    {
      "cell_type": "code",
      "execution_count": null,
      "id": "e8e3226b",
      "metadata": {
        "id": "e8e3226b"
      },
      "outputs": [],
      "source": [
        "ma_block_proj.columns"
      ]
    },
    {
      "cell_type": "code",
      "execution_count": null,
      "id": "804f1fea",
      "metadata": {
        "id": "804f1fea"
      },
      "outputs": [],
      "source": [
        "blocks_within_buffer = geopandas.overlay(ma_block_proj, mbta_buffers, how=\"intersection\")\n",
        "blocks_within_buffer.head(n=3)"
      ]
    },
    {
      "cell_type": "code",
      "execution_count": null,
      "id": "f2263e98",
      "metadata": {
        "id": "f2263e98"
      },
      "outputs": [],
      "source": [
        "blocks_within_buffer.plot(column=\"LINE\", edgecolor=\"black\", linewidth=0.2)"
      ]
    },
    {
      "cell_type": "code",
      "execution_count": null,
      "id": "7f99bc4b",
      "metadata": {
        "id": "7f99bc4b"
      },
      "outputs": [],
      "source": [
        "blocks_within_buffer[\"area_in_buffer\"] = blocks_within_buffer.area"
      ]
    },
    {
      "cell_type": "code",
      "execution_count": null,
      "id": "6d6058bc",
      "metadata": {
        "id": "6d6058bc"
      },
      "outputs": [],
      "source": [
        "blocks_within_buffer[[\"area\", \"area_in_buffer\"]].head(n=3)"
      ]
    },
    {
      "cell_type": "code",
      "execution_count": null,
      "id": "9ef2ed02",
      "metadata": {
        "id": "9ef2ed02"
      },
      "outputs": [],
      "source": [
        "blocks_within_buffer[\"area_ratio\"] = blocks_within_buffer[\"area_in_buffer\"]/blocks_within_buffer[\"area\"]\n",
        "blocks_within_buffer[[\"area\", \"area_in_buffer\", \"area_ratio\"]].head(n=3)"
      ]
    },
    {
      "cell_type": "markdown",
      "id": "954d7549",
      "metadata": {
        "id": "954d7549"
      },
      "source": [
        "More information about overlay function: https://geopandas.org/docs/user_guide/set_operations.html"
      ]
    },
    {
      "cell_type": "markdown",
      "id": "3e9ab66d",
      "metadata": {
        "id": "3e9ab66d"
      },
      "source": [
        "# 6. Saving GIS Data"
      ]
    },
    {
      "cell_type": "markdown",
      "source": [
        "We will save the data as a geopackage file, an open source file format that can store multiple layers.  For more information about Geopackage can be found here:\n",
        "\n",
        "https://www.geopackage.org/"
      ],
      "metadata": {
        "id": "RxWHBnc9w5t1"
      },
      "id": "RxWHBnc9w5t1"
    },
    {
      "cell_type": "code",
      "execution_count": null,
      "id": "f345f502",
      "metadata": {
        "id": "f345f502"
      },
      "outputs": [],
      "source": [
        "blocks_w_stations.to_file(\"tut_output.gpkg\", driver=\"GPKG\", layer=\"blocks_w_stations\")"
      ]
    },
    {
      "cell_type": "markdown",
      "id": "c14763b5",
      "metadata": {
        "id": "c14763b5"
      },
      "source": [
        "The error is not clear, but it is complaining there are two \"geometry\" fields in this layer.  Most file formats only support one geometry field."
      ]
    },
    {
      "cell_type": "code",
      "execution_count": null,
      "id": "cab67b52",
      "metadata": {
        "id": "cab67b52"
      },
      "outputs": [],
      "source": [
        "blocks_w_stations.dtypes"
      ]
    },
    {
      "cell_type": "code",
      "execution_count": null,
      "id": "1dca5ba3",
      "metadata": {
        "id": "1dca5ba3"
      },
      "outputs": [],
      "source": [
        "# Set the appropriate geometry column you want to save\n",
        "blocks_w_stations.set_geometry(\"geometry\", inplace=True)\n",
        "\n",
        "# Remove the other geometry column\n",
        "blocks_w_stations.drop(columns=[\"centroid\"], inplace=True)\n",
        "\n",
        "# Save the layer in a GeoPackage\n",
        "blocks_w_stations.to_file(\"tut_output.gpkg\", driver=\"GPKG\", layer=\"blocks_w_stations\")"
      ]
    },
    {
      "cell_type": "code",
      "execution_count": null,
      "id": "f50a910b",
      "metadata": {
        "id": "f50a910b"
      },
      "outputs": [],
      "source": [
        "geopandas.list_layers(\"tut_output.gpkg\")"
      ]
    },
    {
      "cell_type": "code",
      "execution_count": null,
      "id": "cedd7ebf",
      "metadata": {
        "id": "cedd7ebf"
      },
      "outputs": [],
      "source": [
        "blocks_within_buffer.set_geometry(\"geometry\", inplace=True)\n",
        "blocks_within_buffer.drop(columns=[\"centroid\"], inplace=True)\n",
        "\n",
        "ma_block_proj.set_geometry(\"geometry\", inplace=True)\n",
        "ma_block_proj.drop(columns=[\"centroid\"], inplace=True)\n",
        "\n",
        "mbta_lines.set_geometry(\"geometry\", inplace=True)\n",
        "mbta_lines.drop(columns=[\"buffer\"], inplace=True)\n",
        "\n",
        "blocks_w_lines.set_geometry(\"geometry\", inplace=True)\n",
        "blocks_w_lines.drop(columns=[\"centroid\"], inplace=True)"
      ]
    },
    {
      "cell_type": "code",
      "execution_count": null,
      "id": "ac8abf43",
      "metadata": {
        "id": "ac8abf43"
      },
      "outputs": [],
      "source": [
        "blocks_within_buffer.to_file(\"tut_output.gpkg\", driver=\"GPKG\", layer=\"blocks_within_buffer\")\n",
        "ma_block_proj.to_file(\"tut_output.gpkg\", driver=\"GPKG\", layer=\"ma_block_proj\")\n",
        "mbta_lines.to_file(\"tut_output.gpkg\", driver=\"GPKG\", layer=\"mbta_lines\")\n",
        "blocks_w_lines.to_file(\"tut_output.gpkg\", driver=\"GPKG\", layer=\"blocks_w_lines\")"
      ]
    },
    {
      "cell_type": "code",
      "execution_count": null,
      "id": "80012fcd",
      "metadata": {
        "id": "80012fcd"
      },
      "outputs": [],
      "source": [
        "geopandas.list_layers(\"tut_output.gpkg\")"
      ]
    },
    {
      "cell_type": "markdown",
      "id": "ee3d6141",
      "metadata": {
        "id": "ee3d6141"
      },
      "source": [
        "# Questions?\n",
        "\n",
        "\n",
        "## Data Sources\n",
        "- Mass. Census Boundary Data - https://www2.census.gov/geo/tiger/TGRGDB19/tlgdb_2019_a_25_ma.gdb.zip  \n",
        "- MBTA Rapid Transit - https://www.mass.gov/info-details/massgis-data-mbta-rapid-transit\n",
        "- Natural Earth Political Boundaries - https://www.naturalearthdata.com/downloads/110m-cultural-vectors/"
      ]
    }
  ],
  "metadata": {
    "celltoolbar": "Slideshow",
    "kernelspec": {
      "display_name": "Python 3 (ipykernel)",
      "language": "python",
      "name": "python3"
    },
    "language_info": {
      "codemirror_mode": {
        "name": "ipython",
        "version": 3
      },
      "file_extension": ".py",
      "mimetype": "text/x-python",
      "name": "python",
      "nbconvert_exporter": "python",
      "pygments_lexer": "ipython3",
      "version": "3.8.12"
    },
    "colab": {
      "provenance": []
    }
  },
  "nbformat": 4,
  "nbformat_minor": 5
}